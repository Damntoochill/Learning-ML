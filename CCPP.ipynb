{
  "nbformat": 4,
  "nbformat_minor": 0,
  "metadata": {
    "colab": {
      "name": "CCPP.ipynb",
      "version": "0.3.2",
      "provenance": [],
      "collapsed_sections": [],
      "include_colab_link": true
    },
    "kernelspec": {
      "name": "python3",
      "display_name": "Python 3"
    }
  },
  "cells": [
    {
      "cell_type": "markdown",
      "metadata": {
        "id": "view-in-github",
        "colab_type": "text"
      },
      "source": [
        "<a href=\"https://colab.research.google.com/github/Damntoochill/Learning-ML/blob/master/CCPP.ipynb\" target=\"_parent\"><img src=\"https://colab.research.google.com/assets/colab-badge.svg\" alt=\"Open In Colab\"/></a>"
      ]
    },
    {
      "cell_type": "code",
      "metadata": {
        "id": "NGStt8bjiws8",
        "colab_type": "code",
        "colab": {}
      },
      "source": [
        "import pandas as pd\n",
        "import numpy as np\n",
        "import matplotlib.pyplot as plt\n",
        "import seaborn as sbn\n",
        "from sklearn.model_selection import train_test_split\n",
        "from sklearn import linear_model\n",
        "from sklearn.metrics import r2_score, mean_absolute_error, mean_squared_error, explained_variance_score\n",
        "from sklearn.tree import DecisionTreeRegressor"
      ],
      "execution_count": 0,
      "outputs": []
    },
    {
      "cell_type": "code",
      "metadata": {
        "id": "9mBLZDtAjCKL",
        "colab_type": "code",
        "colab": {}
      },
      "source": [
        "#Creating a dataframe\n",
        "data = pd.read_csv(\"data.csv\")"
      ],
      "execution_count": 0,
      "outputs": []
    },
    {
      "cell_type": "code",
      "metadata": {
        "id": "ft1kPVQ4jGBK",
        "colab_type": "code",
        "outputId": "269163ed-c3f8-44ae-f971-8f294eefac9b",
        "colab": {
          "base_uri": "https://localhost:8080/",
          "height": 206
        }
      },
      "source": [
        "#Checking the first five rows of the dataframe\n",
        "data.head()"
      ],
      "execution_count": 14,
      "outputs": [
        {
          "output_type": "execute_result",
          "data": {
            "text/html": [
              "<div>\n",
              "<style scoped>\n",
              "    .dataframe tbody tr th:only-of-type {\n",
              "        vertical-align: middle;\n",
              "    }\n",
              "\n",
              "    .dataframe tbody tr th {\n",
              "        vertical-align: top;\n",
              "    }\n",
              "\n",
              "    .dataframe thead th {\n",
              "        text-align: right;\n",
              "    }\n",
              "</style>\n",
              "<table border=\"1\" class=\"dataframe\">\n",
              "  <thead>\n",
              "    <tr style=\"text-align: right;\">\n",
              "      <th></th>\n",
              "      <th>AT</th>\n",
              "      <th>V</th>\n",
              "      <th>AP</th>\n",
              "      <th>RH</th>\n",
              "      <th>PE</th>\n",
              "    </tr>\n",
              "  </thead>\n",
              "  <tbody>\n",
              "    <tr>\n",
              "      <th>0</th>\n",
              "      <td>8.34</td>\n",
              "      <td>40.77</td>\n",
              "      <td>1010.84</td>\n",
              "      <td>90.01</td>\n",
              "      <td>480.48</td>\n",
              "    </tr>\n",
              "    <tr>\n",
              "      <th>1</th>\n",
              "      <td>23.64</td>\n",
              "      <td>58.49</td>\n",
              "      <td>1011.40</td>\n",
              "      <td>74.20</td>\n",
              "      <td>445.75</td>\n",
              "    </tr>\n",
              "    <tr>\n",
              "      <th>2</th>\n",
              "      <td>29.74</td>\n",
              "      <td>56.90</td>\n",
              "      <td>1007.15</td>\n",
              "      <td>41.91</td>\n",
              "      <td>438.76</td>\n",
              "    </tr>\n",
              "    <tr>\n",
              "      <th>3</th>\n",
              "      <td>19.07</td>\n",
              "      <td>49.69</td>\n",
              "      <td>1007.22</td>\n",
              "      <td>76.79</td>\n",
              "      <td>453.09</td>\n",
              "    </tr>\n",
              "    <tr>\n",
              "      <th>4</th>\n",
              "      <td>11.80</td>\n",
              "      <td>40.66</td>\n",
              "      <td>1017.13</td>\n",
              "      <td>97.20</td>\n",
              "      <td>464.43</td>\n",
              "    </tr>\n",
              "  </tbody>\n",
              "</table>\n",
              "</div>"
            ],
            "text/plain": [
              "      AT      V       AP     RH      PE\n",
              "0   8.34  40.77  1010.84  90.01  480.48\n",
              "1  23.64  58.49  1011.40  74.20  445.75\n",
              "2  29.74  56.90  1007.15  41.91  438.76\n",
              "3  19.07  49.69  1007.22  76.79  453.09\n",
              "4  11.80  40.66  1017.13  97.20  464.43"
            ]
          },
          "metadata": {
            "tags": []
          },
          "execution_count": 14
        }
      ]
    },
    {
      "cell_type": "markdown",
      "metadata": {
        "id": "jLPPqVl_xFeu",
        "colab_type": "text"
      },
      "source": [
        "#Exploratory Data Analysis"
      ]
    },
    {
      "cell_type": "code",
      "metadata": {
        "id": "v60oSlOBjHlc",
        "colab_type": "code",
        "outputId": "b8b0a309-c336-411d-9c19-6a0e1b583f1e",
        "colab": {
          "base_uri": "https://localhost:8080/",
          "height": 201
        }
      },
      "source": [
        "#basic info about the data\n",
        "data.info()"
      ],
      "execution_count": 15,
      "outputs": [
        {
          "output_type": "stream",
          "text": [
            "<class 'pandas.core.frame.DataFrame'>\n",
            "RangeIndex: 9568 entries, 0 to 9567\n",
            "Data columns (total 5 columns):\n",
            "AT    9568 non-null float64\n",
            "V     9568 non-null float64\n",
            "AP    9568 non-null float64\n",
            "RH    9568 non-null float64\n",
            "PE    9568 non-null float64\n",
            "dtypes: float64(5)\n",
            "memory usage: 373.8 KB\n"
          ],
          "name": "stdout"
        }
      ]
    },
    {
      "cell_type": "code",
      "metadata": {
        "id": "KSNy0dZgGtOw",
        "colab_type": "code",
        "outputId": "0852d727-7e89-45c9-a2ef-c391c6476997",
        "colab": {
          "base_uri": "https://localhost:8080/",
          "height": 35
        }
      },
      "source": [
        "#Setting the color style for the seaborn plots\n",
        "sbn.set_style('darkgrid')\n",
        "sbn.despine()"
      ],
      "execution_count": 16,
      "outputs": [
        {
          "output_type": "display_data",
          "data": {
            "text/plain": [
              "<Figure size 432x288 with 0 Axes>"
            ]
          },
          "metadata": {
            "tags": []
          }
        }
      ]
    },
    {
      "cell_type": "code",
      "metadata": {
        "id": "Q9oJxbC3jLJX",
        "colab_type": "code",
        "outputId": "6c4b0a5b-a05f-43aa-8527-cf0b744b4227",
        "colab": {
          "base_uri": "https://localhost:8080/",
          "height": 182
        }
      },
      "source": [
        "#Ambient Temperature\n",
        "data['AT'].describe()"
      ],
      "execution_count": 17,
      "outputs": [
        {
          "output_type": "execute_result",
          "data": {
            "text/plain": [
              "count    9568.000000\n",
              "mean       19.651231\n",
              "std         7.452473\n",
              "min         1.810000\n",
              "25%        13.510000\n",
              "50%        20.345000\n",
              "75%        25.720000\n",
              "max        37.110000\n",
              "Name: AT, dtype: float64"
            ]
          },
          "metadata": {
            "tags": []
          },
          "execution_count": 17
        }
      ]
    },
    {
      "cell_type": "code",
      "metadata": {
        "id": "5qlaaCAUjup4",
        "colab_type": "code",
        "outputId": "59a39ba3-da7d-4ea1-dbe4-4fcb6c7c2f09",
        "colab": {
          "base_uri": "https://localhost:8080/",
          "height": 283
        }
      },
      "source": [
        "dist = sbn.distplot(data['AT'])\n",
        "dist.set(xlabel = 'Ambient Temperature', ylabel = 'Frequency')\n",
        "plt.show()"
      ],
      "execution_count": 18,
      "outputs": [
        {
          "output_type": "display_data",
          "data": {
            "image/png": "[encoded data removed]",
            "text/plain": [
              "<Figure size 432x288 with 1 Axes>"
            ]
          },
          "metadata": {
            "tags": []
          }
        }
      ]
    },
    {
      "cell_type": "code",
      "metadata": {
        "id": "UD6QI_Z6mnI5",
        "colab_type": "code",
        "outputId": "91859c63-d5fe-4b22-c0f4-54123823f1f4",
        "colab": {
          "base_uri": "https://localhost:8080/",
          "height": 182
        }
      },
      "source": [
        "#Vacuum\n",
        "data['V'].describe()"
      ],
      "execution_count": 19,
      "outputs": [
        {
          "output_type": "execute_result",
          "data": {
            "text/plain": [
              "count    9568.000000\n",
              "mean       54.305804\n",
              "std        12.707893\n",
              "min        25.360000\n",
              "25%        41.740000\n",
              "50%        52.080000\n",
              "75%        66.540000\n",
              "max        81.560000\n",
              "Name: V, dtype: float64"
            ]
          },
          "metadata": {
            "tags": []
          },
          "execution_count": 19
        }
      ]
    },
    {
      "cell_type": "code",
      "metadata": {
        "id": "2yhCQRr7oT4D",
        "colab_type": "code",
        "outputId": "5c240365-6148-469f-f291-af8e6ff38ddd",
        "colab": {
          "base_uri": "https://localhost:8080/",
          "height": 283
        }
      },
      "source": [
        "dist = sbn.distplot(data['V'])\n",
        "dist.set(xlabel = 'Vacuum', ylabel = 'Frequency')\n",
        "plt.show()"
      ],
      "execution_count": 20,
      "outputs": [
        {
          "output_type": "display_data",
          "data": {
            "image/png": "[encoded data removed]",
            "text/plain": [
              "<Figure size 432x288 with 1 Axes>"
            ]
          },
          "metadata": {
            "tags": []
          }
        }
      ]
    },
    {
      "cell_type": "code",
      "metadata": {
        "id": "mgJ6OvOVodzz",
        "colab_type": "code",
        "outputId": "5c464ec2-064e-46eb-887f-0a6d80aef70f",
        "colab": {
          "base_uri": "https://localhost:8080/",
          "height": 182
        }
      },
      "source": [
        "#Relative Humidity\n",
        "data['RH'].describe()"
      ],
      "execution_count": 21,
      "outputs": [
        {
          "output_type": "execute_result",
          "data": {
            "text/plain": [
              "count    9568.000000\n",
              "mean       73.308978\n",
              "std        14.600269\n",
              "min        25.560000\n",
              "25%        63.327500\n",
              "50%        74.975000\n",
              "75%        84.830000\n",
              "max       100.160000\n",
              "Name: RH, dtype: float64"
            ]
          },
          "metadata": {
            "tags": []
          },
          "execution_count": 21
        }
      ]
    },
    {
      "cell_type": "code",
      "metadata": {
        "id": "iQziZQsEpBip",
        "colab_type": "code",
        "outputId": "1f68ad54-cc5c-4877-eae2-d6576acc4991",
        "colab": {
          "base_uri": "https://localhost:8080/",
          "height": 283
        }
      },
      "source": [
        "dist = sbn.distplot(data['RH'])\n",
        "dist.set(xlabel = 'Relative Humidity', ylabel = 'Frequency')\n",
        "plt.show()"
      ],
      "execution_count": 22,
      "outputs": [
        {
          "output_type": "display_data",
          "data": {
            "image/png": "[encoded data removed]",
            "text/plain": [
              "<Figure size 432x288 with 1 Axes>"
            ]
          },
          "metadata": {
            "tags": []
          }
        }
      ]
    },
    {
      "cell_type": "code",
      "metadata": {
        "id": "o6O_uA1dpF-B",
        "colab_type": "code",
        "outputId": "2a515a9a-69fa-4f3b-cea3-22479cecc319",
        "colab": {
          "base_uri": "https://localhost:8080/",
          "height": 182
        }
      },
      "source": [
        "#Ambient Pressure\n",
        "data['AP'].describe()"
      ],
      "execution_count": 23,
      "outputs": [
        {
          "output_type": "execute_result",
          "data": {
            "text/plain": [
              "count    9568.000000\n",
              "mean     1013.259078\n",
              "std         5.938784\n",
              "min       992.890000\n",
              "25%      1009.100000\n",
              "50%      1012.940000\n",
              "75%      1017.260000\n",
              "max      1033.300000\n",
              "Name: AP, dtype: float64"
            ]
          },
          "metadata": {
            "tags": []
          },
          "execution_count": 23
        }
      ]
    },
    {
      "cell_type": "code",
      "metadata": {
        "id": "-YHj8WTvpR2t",
        "colab_type": "code",
        "outputId": "45ad55a3-ed2b-40d6-b0cd-20fe47bd16be",
        "colab": {
          "base_uri": "https://localhost:8080/",
          "height": 283
        }
      },
      "source": [
        "dist = sbn.distplot(data['AP'])\n",
        "dist.set(xlabel = 'Ambient Pressure', ylabel = 'Frequency')\n",
        "plt.show()"
      ],
      "execution_count": 24,
      "outputs": [
        {
          "output_type": "display_data",
          "data": {
            "image/png": "[encoded data removed]",
            "text/plain": [
              "<Figure size 432x288 with 1 Axes>"
            ]
          },
          "metadata": {
            "tags": []
          }
        }
      ]
    },
    {
      "cell_type": "code",
      "metadata": {
        "id": "BaMUEyLxqxls",
        "colab_type": "code",
        "outputId": "a41149a8-c0b8-4dd2-806d-f120a8933f05",
        "colab": {
          "base_uri": "https://localhost:8080/",
          "height": 182
        }
      },
      "source": [
        "#Output Energy\n",
        "data['PE'].describe()"
      ],
      "execution_count": 25,
      "outputs": [
        {
          "output_type": "execute_result",
          "data": {
            "text/plain": [
              "count    9568.000000\n",
              "mean      454.365009\n",
              "std        17.066995\n",
              "min       420.260000\n",
              "25%       439.750000\n",
              "50%       451.550000\n",
              "75%       468.430000\n",
              "max       495.760000\n",
              "Name: PE, dtype: float64"
            ]
          },
          "metadata": {
            "tags": []
          },
          "execution_count": 25
        }
      ]
    },
    {
      "cell_type": "code",
      "metadata": {
        "id": "fErbgZ6Sqnbh",
        "colab_type": "code",
        "outputId": "94d1be1e-79b7-4157-bad4-e6ea1bfe0c55",
        "colab": {
          "base_uri": "https://localhost:8080/",
          "height": 283
        }
      },
      "source": [
        "dist = sbn.distplot(data['PE'])\n",
        "dist.set(xlabel = 'Energy Output', ylabel = 'Frequency')\n",
        "plt.show()"
      ],
      "execution_count": 26,
      "outputs": [
        {
          "output_type": "display_data",
          "data": {
            "image/png": "[encoded data removed]",
            "text/plain": [
              "<Figure size 432x288 with 1 Axes>"
            ]
          },
          "metadata": {
            "tags": []
          }
        }
      ]
    },
    {
      "cell_type": "code",
      "metadata": {
        "id": "Q0fWx4A_uxHo",
        "colab_type": "code",
        "outputId": "af395b14-c2fa-49bd-d188-c20cee306593",
        "colab": {
          "base_uri": "https://localhost:8080/",
          "height": 127
        }
      },
      "source": [
        "data.corr()['PE']"
      ],
      "execution_count": 27,
      "outputs": [
        {
          "output_type": "execute_result",
          "data": {
            "text/plain": [
              "AT   -0.948128\n",
              "V    -0.869780\n",
              "AP    0.518429\n",
              "RH    0.389794\n",
              "PE    1.000000\n",
              "Name: PE, dtype: float64"
            ]
          },
          "metadata": {
            "tags": []
          },
          "execution_count": 27
        }
      ]
    },
    {
      "cell_type": "code",
      "metadata": {
        "id": "rV6ynq-dvUnJ",
        "colab_type": "code",
        "outputId": "a1b72b51-cf46-44a1-9938-790e85ffde5c",
        "colab": {
          "base_uri": "https://localhost:8080/",
          "height": 1000
        }
      },
      "source": [
        "for col in data.columns[:len(data.columns)-1]:\n",
        "    plt.scatter(data[col], data[\"PE\"])\n",
        "    plt.ylabel(\"Energy Ouput\")\n",
        "    plt.xlabel(col)\n",
        "    plt.show()"
      ],
      "execution_count": 28,
      "outputs": [
        {
          "output_type": "display_data",
          "data": {
            "image/png": "[encoded data removed]",
            "text/plain": [
              "<Figure size 432x288 with 1 Axes>"
            ]
          },
          "metadata": {
            "tags": []
          }
        },
        {
          "output_type": "display_data",
          "data": {
            "image/png": "[encoded data removed]",
            "text/plain": [
              "<Figure size 432x288 with 1 Axes>"
            ]
          },
          "metadata": {
            "tags": []
          }
        },
        {
          "output_type": "display_data",
          "data": {
            "image/png": "[encoded data removed]",
            "text/plain": [
              "<Figure size 432x288 with 1 Axes>"
            ]
          },
          "metadata": {
            "tags": []
          }
        },
        {
          "output_type": "display_data",
          "data": {
            "image/png": "[encoded data removed]",
            "text/plain": [
              "<Figure size 432x288 with 1 Axes>"
            ]
          },
          "metadata": {
            "tags": []
          }
        }
      ]
    },
    {
      "cell_type": "code",
      "metadata": {
        "id": "ngp0zoJYquYq",
        "colab_type": "code",
        "outputId": "8ca8d815-42f0-4daf-dbc5-f5fa3fe46b40",
        "colab": {
          "base_uri": "https://localhost:8080/",
          "height": 473
        }
      },
      "source": [
        "#Correlation Between the variables\n",
        "corr = data.corr()\n",
        "fig = plt.figure(figsize = (8,8))\n",
        "\n",
        "sbn.heatmap(corr, vmax = .8, square = True)\n",
        "plt.show()"
      ],
      "execution_count": 29,
      "outputs": [
        {
          "output_type": "display_data",
          "data": {
            "image/png": "[encoded data removed]",
            "text/plain": [
              "<Figure size 576x576 with 2 Axes>"
            ]
          },
          "metadata": {
            "tags": []
          }
        }
      ]
    },
    {
      "cell_type": "markdown",
      "metadata": {
        "id": "0rcjT5pdxRqO",
        "colab_type": "text"
      },
      "source": [
        "#Linear Regression"
      ]
    },
    {
      "cell_type": "markdown",
      "metadata": {
        "id": "L4WJVH0W5eKa",
        "colab_type": "text"
      },
      "source": [
        "##Removing One Independent Variable"
      ]
    },
    {
      "cell_type": "markdown",
      "metadata": {
        "id": "p96rH3EC5joH",
        "colab_type": "text"
      },
      "source": [
        "###Removing Ambient Temperature"
      ]
    },
    {
      "cell_type": "code",
      "metadata": {
        "id": "n21LAAkL5itb",
        "colab_type": "code",
        "colab": {}
      },
      "source": [
        "train = data[[\"V\",\"AP\",\"RH\"]].copy()\n",
        "#Test Set\n",
        "test = data[['PE']].copy()"
      ],
      "execution_count": 0,
      "outputs": []
    },
    {
      "cell_type": "code",
      "metadata": {
        "id": "LRxRyDgd6pgo",
        "colab_type": "code",
        "colab": {}
      },
      "source": [
        "#Splitting the train and test sets\n",
        "X_train, X_test, y_train, y_test = train_test_split(train, test, test_size=0.33, random_state=42)"
      ],
      "execution_count": 0,
      "outputs": []
    },
    {
      "cell_type": "code",
      "metadata": {
        "id": "AnN4v_nV6xHg",
        "colab_type": "code",
        "colab": {}
      },
      "source": [
        "#Creating a Linear regression model and fitting the train data\n",
        "lm = linear_model.LinearRegression()\n",
        "lm.fit(X_train,y_train)\n",
        "#Predicting the test values fro\n",
        "predictions = lm.predict(X_test)"
      ],
      "execution_count": 0,
      "outputs": []
    },
    {
      "cell_type": "code",
      "metadata": {
        "id": "Qc2jySGn6-k6",
        "colab_type": "code",
        "colab": {
          "base_uri": "https://localhost:8080/",
          "height": 0
        },
        "outputId": "d6bbf40f-6f66-4bb6-82b7-b42a57aa7747"
      },
      "source": [
        "print(\"r2_score =\", r2_score(y_test,predictions))\n",
        "print(\"Mean Absolute Error = \", mean_absolute_error(y_test,predictions))\n",
        "print(\"Mean Squared Error = \", mean_squared_error(y_test,predictions))\n",
        "print(\"Explained Variance Score\", explained_variance_score(y_test,predictions))"
      ],
      "execution_count": 33,
      "outputs": [
        {
          "output_type": "stream",
          "text": [
            "r2_score = 0.803876116219643\n",
            "Mean Absolute Error =  5.887990572235361\n",
            "Mean Squared Error =  56.842747298752954\n",
            "Explained Variance Score 0.8039093920202053\n"
          ],
          "name": "stdout"
        }
      ]
    },
    {
      "cell_type": "markdown",
      "metadata": {
        "id": "ldqBXPTH53_A",
        "colab_type": "text"
      },
      "source": [
        "###Removing Vacuum"
      ]
    },
    {
      "cell_type": "code",
      "metadata": {
        "id": "3H_jBUT857qA",
        "colab_type": "code",
        "colab": {}
      },
      "source": [
        "#Creating Training Set\n",
        "train = data[['AT','RH','AP']].copy()\n",
        "#Test Set\n",
        "test = data[['PE']].copy()"
      ],
      "execution_count": 0,
      "outputs": []
    },
    {
      "cell_type": "code",
      "metadata": {
        "id": "5HZr_nT-6qUp",
        "colab_type": "code",
        "colab": {}
      },
      "source": [
        "#Splitting the train and test sets\n",
        "X_train, X_test, y_train, y_test = train_test_split(train, test, test_size=0.33, random_state=42)"
      ],
      "execution_count": 0,
      "outputs": []
    },
    {
      "cell_type": "code",
      "metadata": {
        "id": "Qoxc8EOI6yHG",
        "colab_type": "code",
        "colab": {}
      },
      "source": [
        "#Creating a Linear regression model and fitting the train data\n",
        "lm = linear_model.LinearRegression()\n",
        "lm.fit(X_train,y_train)\n",
        "#Predicting the test values\n",
        "predictions = lm.predict(X_test)"
      ],
      "execution_count": 0,
      "outputs": []
    },
    {
      "cell_type": "code",
      "metadata": {
        "id": "7ChRWzX_6_0x",
        "colab_type": "code",
        "colab": {
          "base_uri": "https://localhost:8080/",
          "height": 0
        },
        "outputId": "fcaed43b-162d-4eb6-efef-508a3428c56c"
      },
      "source": [
        "print(\"r2_score =\", r2_score(y_test,predictions))\n",
        "print(\"Mean Absolute Error = \", mean_absolute_error(y_test,predictions))\n",
        "print(\"Mean Squared Error = \", mean_squared_error(y_test,predictions))\n",
        "print(\"Explained Variance Score\", explained_variance_score(y_test,predictions))"
      ],
      "execution_count": 37,
      "outputs": [
        {
          "output_type": "stream",
          "text": [
            "r2_score = 0.922140879357913\n",
            "Mean Absolute Error =  3.7957105201799117\n",
            "Mean Squared Error =  22.565973272881592\n",
            "Explained Variance Score 0.9221472688047232\n"
          ],
          "name": "stdout"
        }
      ]
    },
    {
      "cell_type": "markdown",
      "metadata": {
        "id": "Og0ZijnX6DEe",
        "colab_type": "text"
      },
      "source": [
        "###Removing Relative Humidity"
      ]
    },
    {
      "cell_type": "code",
      "metadata": {
        "id": "lWDNzFjB6GWF",
        "colab_type": "code",
        "colab": {}
      },
      "source": [
        "#Creating Training Set\n",
        "train = data[['AT','V','AP']].copy()\n",
        "#Test Set\n",
        "test = data[['PE']].copy()"
      ],
      "execution_count": 0,
      "outputs": []
    },
    {
      "cell_type": "code",
      "metadata": {
        "id": "2ztdf7WK6rMT",
        "colab_type": "code",
        "colab": {}
      },
      "source": [
        "#Splitting the train and test sets\n",
        "X_train, X_test, y_train, y_test = train_test_split(train, test, test_size=0.33, random_state=42)"
      ],
      "execution_count": 0,
      "outputs": []
    },
    {
      "cell_type": "code",
      "metadata": {
        "id": "PfmrfIL36zBz",
        "colab_type": "code",
        "colab": {}
      },
      "source": [
        "#Creating a Linear regression model and fitting the train data\n",
        "lm = linear_model.LinearRegression()\n",
        "lm.fit(X_train,y_train)\n",
        "#Predicting the test values \n",
        "predictions = lm.predict(X_test)"
      ],
      "execution_count": 0,
      "outputs": []
    },
    {
      "cell_type": "code",
      "metadata": {
        "id": "tV-G59lo7BDf",
        "colab_type": "code",
        "colab": {
          "base_uri": "https://localhost:8080/",
          "height": 0
        },
        "outputId": "7bba1373-9388-4d3b-c02c-cf4c695bd74b"
      },
      "source": [
        "print(\"r2_score =\", r2_score(y_test,predictions))\n",
        "print(\"Mean Absolute Error = \", mean_absolute_error(y_test,predictions))\n",
        "print(\"Mean Squared Error = \", mean_squared_error(y_test,predictions))\n",
        "print(\"Explained Variance Score\", explained_variance_score(y_test,predictions))"
      ],
      "execution_count": 41,
      "outputs": [
        {
          "output_type": "stream",
          "text": [
            "r2_score = 0.9194516245247408\n",
            "Mean Absolute Error =  3.8573226877582254\n",
            "Mean Squared Error =  23.345402223386934\n",
            "Explained Variance Score 0.9195167608769244\n"
          ],
          "name": "stdout"
        }
      ]
    },
    {
      "cell_type": "markdown",
      "metadata": {
        "id": "dPc6g4ZN6HEJ",
        "colab_type": "text"
      },
      "source": [
        "###Removing Ambient Pressure"
      ]
    },
    {
      "cell_type": "code",
      "metadata": {
        "id": "xRusGSMQ6Rk9",
        "colab_type": "code",
        "colab": {}
      },
      "source": [
        "#Creating Training Set\n",
        "train = data[['AT','V','RH']].copy()\n",
        "#Test Set\n",
        "test = data[['PE']].copy()"
      ],
      "execution_count": 0,
      "outputs": []
    },
    {
      "cell_type": "code",
      "metadata": {
        "id": "RIYJMGWQ6r9J",
        "colab_type": "code",
        "colab": {}
      },
      "source": [
        "#Splitting the train and test sets\n",
        "X_train, X_test, y_train, y_test = train_test_split(train, test, test_size=0.33, random_state=42)"
      ],
      "execution_count": 0,
      "outputs": []
    },
    {
      "cell_type": "code",
      "metadata": {
        "id": "xaa_7lFs6zzF",
        "colab_type": "code",
        "colab": {}
      },
      "source": [
        "#Creating a Linear regression model and fitting the train data\n",
        "lm = linear_model.LinearRegression()\n",
        "lm.fit(X_train,y_train)\n",
        "#Predicting the test values \n",
        "predictions = lm.predict(X_test)"
      ],
      "execution_count": 0,
      "outputs": []
    },
    {
      "cell_type": "code",
      "metadata": {
        "id": "MMARHeaV7B7n",
        "colab_type": "code",
        "colab": {
          "base_uri": "https://localhost:8080/",
          "height": 0
        },
        "outputId": "1c278494-026a-40d8-8884-f0920b4794df"
      },
      "source": [
        "print(\"r2_score =\", r2_score(y_test,predictions))\n",
        "print(\"Mean Absolute Error = \", mean_absolute_error(y_test,predictions))\n",
        "print(\"Mean Squared Error = \", mean_squared_error(y_test,predictions))\n",
        "print(\"Explained Variance Score\", explained_variance_score(y_test,predictions))"
      ],
      "execution_count": 45,
      "outputs": [
        {
          "output_type": "stream",
          "text": [
            "r2_score = 0.9298487586140283\n",
            "Mean Absolute Error =  3.6108475569041594\n",
            "Mean Squared Error =  20.331992258843854\n",
            "Explained Variance Score 0.929850818587691\n"
          ],
          "name": "stdout"
        }
      ]
    },
    {
      "cell_type": "markdown",
      "metadata": {
        "id": "A7V7mS2S7Y19",
        "colab_type": "text"
      },
      "source": [
        "##Removing Two Variables"
      ]
    },
    {
      "cell_type": "markdown",
      "metadata": {
        "id": "Whgal3pu7iks",
        "colab_type": "text"
      },
      "source": [
        "###Removing Ambient Temperature and Vacuum"
      ]
    },
    {
      "cell_type": "code",
      "metadata": {
        "id": "oSkvkhQ78xIu",
        "colab_type": "code",
        "colab": {}
      },
      "source": [
        "train = data[[\"AP\",\"RH\"]].copy()\n",
        "#Test Set\n",
        "test = data[['PE']].copy()"
      ],
      "execution_count": 0,
      "outputs": []
    },
    {
      "cell_type": "code",
      "metadata": {
        "id": "MZdnKJ-U9VIm",
        "colab_type": "code",
        "colab": {}
      },
      "source": [
        "#Splitting the train and test sets\n",
        "X_train, X_test, y_train, y_test = train_test_split(train, test, test_size=0.33, random_state=42)"
      ],
      "execution_count": 0,
      "outputs": []
    },
    {
      "cell_type": "code",
      "metadata": {
        "id": "D642GDoF9iCh",
        "colab_type": "code",
        "colab": {}
      },
      "source": [
        "#Creating a Linear regression model and fitting the train data\n",
        "lm = linear_model.LinearRegression()\n",
        "lm.fit(X_train,y_train)\n",
        "#Predicting the test values\n",
        "predictions = lm.predict(X_test)"
      ],
      "execution_count": 0,
      "outputs": []
    },
    {
      "cell_type": "code",
      "metadata": {
        "id": "DgG_FKvU9qYm",
        "colab_type": "code",
        "colab": {
          "base_uri": "https://localhost:8080/",
          "height": 0
        },
        "outputId": "88a027e4-8da5-4b79-ce15-63e8b72ec51b"
      },
      "source": [
        "print(\"r2_score =\", r2_score(y_test,predictions))\n",
        "print(\"Mean Absolute Error = \", mean_absolute_error(y_test,predictions))\n",
        "print(\"Mean Squared Error = \", mean_squared_error(y_test,predictions))\n",
        "print(\"Explained Variance Score\", explained_variance_score(y_test,predictions))"
      ],
      "execution_count": 49,
      "outputs": [
        {
          "output_type": "stream",
          "text": [
            "r2_score = 0.3738016184803177\n",
            "Mean Absolute Error =  10.978987622435488\n",
            "Mean Squared Error =  181.491594361219\n",
            "Explained Variance Score 0.3745468133709353\n"
          ],
          "name": "stdout"
        }
      ]
    },
    {
      "cell_type": "markdown",
      "metadata": {
        "id": "88ztmZGC7pS3",
        "colab_type": "text"
      },
      "source": [
        "###Removing Ambient Temperature and Relative Humidity"
      ]
    },
    {
      "cell_type": "code",
      "metadata": {
        "id": "L5QoE1Q681O9",
        "colab_type": "code",
        "colab": {}
      },
      "source": [
        "train = data[[\"V\",\"AP\"]].copy()\n",
        "#Test Set\n",
        "test = data[['PE']].copy()"
      ],
      "execution_count": 0,
      "outputs": []
    },
    {
      "cell_type": "code",
      "metadata": {
        "id": "bi8qsE_Y9V9Z",
        "colab_type": "code",
        "colab": {}
      },
      "source": [
        "#Splitting the train and test sets\n",
        "X_train, X_test, y_train, y_test = train_test_split(train, test, test_size=0.33, random_state=42)"
      ],
      "execution_count": 0,
      "outputs": []
    },
    {
      "cell_type": "code",
      "metadata": {
        "id": "FPSaf2qd9jEs",
        "colab_type": "code",
        "colab": {}
      },
      "source": [
        "#Creating a Linear regression model and fitting the train data\n",
        "lm = linear_model.LinearRegression()\n",
        "lm.fit(X_train,y_train)\n",
        "#Predicting the test values\n",
        "predictions = lm.predict(X_test)"
      ],
      "execution_count": 0,
      "outputs": []
    },
    {
      "cell_type": "code",
      "metadata": {
        "id": "WD8KVQnK9rRP",
        "colab_type": "code",
        "colab": {
          "base_uri": "https://localhost:8080/",
          "height": 0
        },
        "outputId": "3901c1c2-8cae-4afd-91a9-dd7e5e7138cc"
      },
      "source": [
        "print(\"r2_score =\", r2_score(y_test,predictions))\n",
        "print(\"Mean Absolute Error = \", mean_absolute_error(y_test,predictions))\n",
        "print(\"Mean Squared Error = \", mean_squared_error(y_test,predictions))\n",
        "print(\"Explained Variance Score\", explained_variance_score(y_test,predictions))"
      ],
      "execution_count": 53,
      "outputs": [
        {
          "output_type": "stream",
          "text": [
            "r2_score = 0.7875801965570406\n",
            "Mean Absolute Error =  6.115759386550274\n",
            "Mean Squared Error =  61.56580716034269\n",
            "Explained Variance Score 0.7875907539732478\n"
          ],
          "name": "stdout"
        }
      ]
    },
    {
      "cell_type": "markdown",
      "metadata": {
        "id": "UVSlwnlW70fO",
        "colab_type": "text"
      },
      "source": [
        "###Removing Ambient Temperature and Ambient pressure"
      ]
    },
    {
      "cell_type": "code",
      "metadata": {
        "id": "goqWzW0384Hr",
        "colab_type": "code",
        "colab": {}
      },
      "source": [
        "train = data[[\"V\",\"RH\"]].copy()\n",
        "#Test Set\n",
        "test = data[['PE']].copy()"
      ],
      "execution_count": 0,
      "outputs": []
    },
    {
      "cell_type": "code",
      "metadata": {
        "id": "_LwRKV6W9W3l",
        "colab_type": "code",
        "colab": {}
      },
      "source": [
        "#Splitting the train and test sets\n",
        "X_train, X_test, y_train, y_test = train_test_split(train, test, test_size=0.33, random_state=42)"
      ],
      "execution_count": 0,
      "outputs": []
    },
    {
      "cell_type": "code",
      "metadata": {
        "id": "Xyoe5_Ct9j2n",
        "colab_type": "code",
        "colab": {}
      },
      "source": [
        "#Creating a Linear regression model and fitting the train data\n",
        "lm = linear_model.LinearRegression()\n",
        "lm.fit(X_train,y_train)\n",
        "#Predicting the test values\n",
        "predictions = lm.predict(X_test)"
      ],
      "execution_count": 0,
      "outputs": []
    },
    {
      "cell_type": "code",
      "metadata": {
        "id": "bs2pgCsf9s-6",
        "colab_type": "code",
        "colab": {
          "base_uri": "https://localhost:8080/",
          "height": 0
        },
        "outputId": "42308177-fd17-41c1-c69a-00468f13a76c"
      },
      "source": [
        "print(\"r2_score =\", r2_score(y_test,predictions))\n",
        "print(\"Mean Absolute Error = \", mean_absolute_error(y_test,predictions))\n",
        "print(\"Mean Squared Error = \", mean_squared_error(y_test,predictions))\n",
        "print(\"Explained Variance Score\", explained_variance_score(y_test,predictions))"
      ],
      "execution_count": 57,
      "outputs": [
        {
          "output_type": "stream",
          "text": [
            "r2_score = 0.7691208816609235\n",
            "Mean Absolute Error =  6.445282260447684\n",
            "Mean Squared Error =  66.9158856501364\n",
            "Explained Variance Score 0.7691363778379259\n"
          ],
          "name": "stdout"
        }
      ]
    },
    {
      "cell_type": "markdown",
      "metadata": {
        "id": "1VbrOGfa8YpX",
        "colab_type": "text"
      },
      "source": [
        "###Removing Vacuum and Relative Humidity"
      ]
    },
    {
      "cell_type": "code",
      "metadata": {
        "id": "uokjCf8d878I",
        "colab_type": "code",
        "colab": {}
      },
      "source": [
        "train = data[[\"AT\",\"AP\"]].copy()\n",
        "#Test Set\n",
        "test = data[['PE']].copy()"
      ],
      "execution_count": 0,
      "outputs": []
    },
    {
      "cell_type": "code",
      "metadata": {
        "id": "WLF2WB9-9YD-",
        "colab_type": "code",
        "colab": {}
      },
      "source": [
        "#Splitting the train and test sets\n",
        "X_train, X_test, y_train, y_test = train_test_split(train, test, test_size=0.33, random_state=42)"
      ],
      "execution_count": 0,
      "outputs": []
    },
    {
      "cell_type": "code",
      "metadata": {
        "id": "g6bTbvTk9ku_",
        "colab_type": "code",
        "colab": {}
      },
      "source": [
        "#Creating a Linear regression model and fitting the train data\n",
        "lm = linear_model.LinearRegression()\n",
        "lm.fit(X_train,y_train)\n",
        "#Predicting the test values\n",
        "predictions = lm.predict(X_test)"
      ],
      "execution_count": 0,
      "outputs": []
    },
    {
      "cell_type": "code",
      "metadata": {
        "id": "1wVikgmn9t9O",
        "colab_type": "code",
        "colab": {
          "base_uri": "https://localhost:8080/",
          "height": 0
        },
        "outputId": "4e9342e8-bf8f-49d3-97fe-5c019c8d3995"
      },
      "source": [
        "print(\"r2_score =\", r2_score(y_test,predictions))\n",
        "print(\"Mean Absolute Error = \", mean_absolute_error(y_test,predictions))\n",
        "print(\"Mean Squared Error = \", mean_squared_error(y_test,predictions))\n",
        "print(\"Explained Variance Score\", explained_variance_score(y_test,predictions))"
      ],
      "execution_count": 61,
      "outputs": [
        {
          "output_type": "stream",
          "text": [
            "r2_score = 0.9018044201490576\n",
            "Mean Absolute Error =  4.268974173566781\n",
            "Mean Squared Error =  28.460106049973508\n",
            "Explained Variance Score 0.901958286229927\n"
          ],
          "name": "stdout"
        }
      ]
    },
    {
      "cell_type": "markdown",
      "metadata": {
        "id": "PhoMdGOl8fkq",
        "colab_type": "text"
      },
      "source": [
        "###Removing Vacuum and Ambient Pressure"
      ]
    },
    {
      "cell_type": "code",
      "metadata": {
        "id": "Z42fV8kX9CNj",
        "colab_type": "code",
        "colab": {}
      },
      "source": [
        "train = data[[\"AT\",\"RH\"]].copy()\n",
        "#Test Set\n",
        "test = data[['PE']].copy()"
      ],
      "execution_count": 0,
      "outputs": []
    },
    {
      "cell_type": "code",
      "metadata": {
        "id": "pGZnUkkZ9Y9z",
        "colab_type": "code",
        "colab": {}
      },
      "source": [
        "#Splitting the train and test sets\n",
        "X_train, X_test, y_train, y_test = train_test_split(train, test, test_size=0.33, random_state=42)"
      ],
      "execution_count": 0,
      "outputs": []
    },
    {
      "cell_type": "code",
      "metadata": {
        "id": "lJBfxB909lwi",
        "colab_type": "code",
        "colab": {}
      },
      "source": [
        "#Creating a Linear regression model and fitting the train data\n",
        "lm = linear_model.LinearRegression()\n",
        "lm.fit(X_train,y_train)\n",
        "#Predicting the test values \n",
        "predictions = lm.predict(X_test)"
      ],
      "execution_count": 0,
      "outputs": []
    },
    {
      "cell_type": "code",
      "metadata": {
        "id": "lMflcgZo9uzN",
        "colab_type": "code",
        "colab": {
          "base_uri": "https://localhost:8080/",
          "height": 0
        },
        "outputId": "16562a56-c666-4fdd-8c74-0be05ca42a53"
      },
      "source": [
        "print(\"r2_score =\", r2_score(y_test,predictions))\n",
        "print(\"Mean Absolute Error = \", mean_absolute_error(y_test,predictions))\n",
        "print(\"Mean Squared Error = \", mean_squared_error(y_test,predictions))\n",
        "print(\"Explained Variance Score\", explained_variance_score(y_test,predictions))"
      ],
      "execution_count": 65,
      "outputs": [
        {
          "output_type": "stream",
          "text": [
            "r2_score = 0.9220727448466683\n",
            "Mean Absolute Error =  3.795770346894543\n",
            "Mean Squared Error =  22.585720754577114\n",
            "Explained Variance Score 0.9220786056846294\n"
          ],
          "name": "stdout"
        }
      ]
    },
    {
      "cell_type": "markdown",
      "metadata": {
        "id": "lBfuyvNS8j6w",
        "colab_type": "text"
      },
      "source": [
        "###Removing Relative humidity  and Ambient Pressure"
      ]
    },
    {
      "cell_type": "code",
      "metadata": {
        "id": "cTLBWFhp7cox",
        "colab_type": "code",
        "colab": {}
      },
      "source": [
        "train = data[[\"AT\",\"V\"]].copy()\n",
        "#Test Set\n",
        "test = data[['PE']].copy()"
      ],
      "execution_count": 0,
      "outputs": []
    },
    {
      "cell_type": "code",
      "metadata": {
        "id": "4Hq8e7xk9Zzl",
        "colab_type": "code",
        "colab": {}
      },
      "source": [
        "#Splitting the train and test sets\n",
        "X_train, X_test, y_train, y_test = train_test_split(train, test, test_size=0.33, random_state=42)"
      ],
      "execution_count": 0,
      "outputs": []
    },
    {
      "cell_type": "code",
      "metadata": {
        "id": "_q2EpDg29mrf",
        "colab_type": "code",
        "colab": {}
      },
      "source": [
        "#Creating a Linear regression model and fitting the train data\n",
        "lm = linear_model.LinearRegression()\n",
        "lm.fit(X_train,y_train)\n",
        "#Predicting the test values\n",
        "predictions = lm.predict(X_test)"
      ],
      "execution_count": 0,
      "outputs": []
    },
    {
      "cell_type": "code",
      "metadata": {
        "id": "Z9CJ91K-9v4g",
        "colab_type": "code",
        "colab": {
          "base_uri": "https://localhost:8080/",
          "height": 0
        },
        "outputId": "067d237d-2014-461b-ca92-48dba4aa987e"
      },
      "source": [
        "print(\"r2_score =\", r2_score(y_test,predictions))\n",
        "print(\"Mean Absolute Error = \", mean_absolute_error(y_test,predictions))\n",
        "print(\"Mean Squared Error = \", mean_squared_error(y_test,predictions))\n",
        "print(\"Explained Variance Score\", explained_variance_score(y_test,predictions))"
      ],
      "execution_count": 69,
      "outputs": [
        {
          "output_type": "stream",
          "text": [
            "r2_score = 0.9169305848301882\n",
            "Mean Absolute Error =  3.907646271371917\n",
            "Mean Squared Error =  24.07607724126529\n",
            "Explained Variance Score 0.916997504486952\n"
          ],
          "name": "stdout"
        }
      ]
    },
    {
      "cell_type": "markdown",
      "metadata": {
        "id": "wg5X0Z9T-yUt",
        "colab_type": "text"
      },
      "source": [
        "##Removing Three Independent Variables"
      ]
    },
    {
      "cell_type": "markdown",
      "metadata": {
        "id": "ztJn0OhI_AaE",
        "colab_type": "text"
      },
      "source": [
        "###Using Only Ambient Temperature"
      ]
    },
    {
      "cell_type": "code",
      "metadata": {
        "id": "AFIC8qQH-19P",
        "colab_type": "code",
        "colab": {}
      },
      "source": [
        "train = data[[\"AT\"]].copy()\n",
        "#Test Set\n",
        "test = data[['PE']].copy()"
      ],
      "execution_count": 0,
      "outputs": []
    },
    {
      "cell_type": "code",
      "metadata": {
        "id": "7kxQyY3F_sdl",
        "colab_type": "code",
        "colab": {}
      },
      "source": [
        "#Splitting the train and test sets\n",
        "X_train, X_test, y_train, y_test = train_test_split(train, test, test_size=0.33, random_state=42)"
      ],
      "execution_count": 0,
      "outputs": []
    },
    {
      "cell_type": "code",
      "metadata": {
        "id": "bM3ssNB-_yVb",
        "colab_type": "code",
        "colab": {}
      },
      "source": [
        "#Creating a Linear regression model and fitting the train data\n",
        "lm = linear_model.LinearRegression()\n",
        "lm.fit(X_train,y_train)\n",
        "#Predicting the test values\n",
        "predictions = lm.predict(X_test)"
      ],
      "execution_count": 0,
      "outputs": []
    },
    {
      "cell_type": "code",
      "metadata": {
        "id": "mgcXNfNr_2vB",
        "colab_type": "code",
        "colab": {
          "base_uri": "https://localhost:8080/",
          "height": 0
        },
        "outputId": "476bac30-ab3f-4433-9a30-ee00bb9d0a14"
      },
      "source": [
        "print(\"r2_score =\", r2_score(y_test,predictions))\n",
        "print(\"Mean Absolute Error = \", mean_absolute_error(y_test,predictions))\n",
        "print(\"Mean Squared Error = \", mean_squared_error(y_test,predictions))\n",
        "print(\"Explained Variance Score\", explained_variance_score(y_test,predictions))"
      ],
      "execution_count": 73,
      "outputs": [
        {
          "output_type": "stream",
          "text": [
            "r2_score = 0.8999376010956851\n",
            "Mean Absolute Error =  4.278001327048842\n",
            "Mean Squared Error =  29.001167758817655\n",
            "Explained Variance Score 0.9000932733477875\n"
          ],
          "name": "stdout"
        }
      ]
    },
    {
      "cell_type": "markdown",
      "metadata": {
        "id": "g6JpxTOA_BgD",
        "colab_type": "text"
      },
      "source": [
        "###Using Only Vacuum"
      ]
    },
    {
      "cell_type": "code",
      "metadata": {
        "id": "jYoQsXXv--To",
        "colab_type": "code",
        "colab": {}
      },
      "source": [
        "train = data[[\"V\"]].copy()\n",
        "#Test Set\n",
        "test = data[['PE']].copy()"
      ],
      "execution_count": 0,
      "outputs": []
    },
    {
      "cell_type": "code",
      "metadata": {
        "id": "4cqzFPxN_tJF",
        "colab_type": "code",
        "colab": {}
      },
      "source": [
        "#Splitting the train and test sets\n",
        "X_train, X_test, y_train, y_test = train_test_split(train, test, test_size=0.33, random_state=42)"
      ],
      "execution_count": 0,
      "outputs": []
    },
    {
      "cell_type": "code",
      "metadata": {
        "id": "sftk7SE8_zFc",
        "colab_type": "code",
        "colab": {}
      },
      "source": [
        "#Creating a Linear regression model and fitting the train data\n",
        "lm = linear_model.LinearRegression()\n",
        "lm.fit(X_train,y_train)\n",
        "#Predicting the test values\n",
        "predictions = lm.predict(X_test)"
      ],
      "execution_count": 0,
      "outputs": []
    },
    {
      "cell_type": "code",
      "metadata": {
        "id": "P9eMtb0G_3jv",
        "colab_type": "code",
        "colab": {
          "base_uri": "https://localhost:8080/",
          "height": 0
        },
        "outputId": "8fefc283-bd14-4bfd-a3e5-986ce1c78a6a"
      },
      "source": [
        "print(\"r2_score =\", r2_score(y_test,predictions))\n",
        "print(\"Mean Absolute Error = \", mean_absolute_error(y_test,predictions))\n",
        "print(\"Mean Squared Error = \", mean_squared_error(y_test,predictions))\n",
        "print(\"Explained Variance Score\", explained_variance_score(y_test,predictions))"
      ],
      "execution_count": 77,
      "outputs": [
        {
          "output_type": "stream",
          "text": [
            "r2_score = 0.7542280182896011\n",
            "Mean Absolute Error =  6.5769239135917275\n",
            "Mean Squared Error =  71.23229654743946\n",
            "Explained Variance Score 0.7542493141993352\n"
          ],
          "name": "stdout"
        }
      ]
    },
    {
      "cell_type": "markdown",
      "metadata": {
        "id": "xm8v88R5_EKy",
        "colab_type": "text"
      },
      "source": [
        "###Using Only Relative Humidity"
      ]
    },
    {
      "cell_type": "code",
      "metadata": {
        "id": "dyyeTAYW_Hpa",
        "colab_type": "code",
        "colab": {}
      },
      "source": [
        "train = data[[\"RH\"]].copy()\n",
        "#Test Set\n",
        "test = data[['PE']].copy()"
      ],
      "execution_count": 0,
      "outputs": []
    },
    {
      "cell_type": "code",
      "metadata": {
        "id": "AtERf-aU_t69",
        "colab_type": "code",
        "colab": {}
      },
      "source": [
        "#Splitting the train and test sets\n",
        "X_train, X_test, y_train, y_test = train_test_split(train, test, test_size=0.33, random_state=42)"
      ],
      "execution_count": 0,
      "outputs": []
    },
    {
      "cell_type": "code",
      "metadata": {
        "id": "a06JaMIy_zue",
        "colab_type": "code",
        "colab": {}
      },
      "source": [
        "#Creating a Linear regression model and fitting the train data\n",
        "lm = linear_model.LinearRegression()\n",
        "lm.fit(X_train,y_train)\n",
        "#Predicting the test values\n",
        "predictions = lm.predict(X_test)"
      ],
      "execution_count": 0,
      "outputs": []
    },
    {
      "cell_type": "code",
      "metadata": {
        "id": "SheWhadr_4rd",
        "colab_type": "code",
        "colab": {
          "base_uri": "https://localhost:8080/",
          "height": 0
        },
        "outputId": "c15becb8-784c-4207-83d9-38fa859a386d"
      },
      "source": [
        "print(\"r2_score =\", r2_score(y_test,predictions))\n",
        "print(\"Mean Absolute Error = \", mean_absolute_error(y_test,predictions))\n",
        "print(\"Mean Squared Error = \", mean_squared_error(y_test,predictions))\n",
        "print(\"Explained Variance Score\", explained_variance_score(y_test,predictions))"
      ],
      "execution_count": 81,
      "outputs": [
        {
          "output_type": "stream",
          "text": [
            "r2_score = 0.14850810596936315\n",
            "Mean Absolute Error =  13.172904915485041\n",
            "Mean Squared Error =  246.78859925864728\n",
            "Explained Variance Score 0.14935505853779296\n"
          ],
          "name": "stdout"
        }
      ]
    },
    {
      "cell_type": "markdown",
      "metadata": {
        "id": "D9IhFuPz_IWG",
        "colab_type": "text"
      },
      "source": [
        "###Using Only  Ambient Pressure"
      ]
    },
    {
      "cell_type": "code",
      "metadata": {
        "id": "iZKldOso_LHj",
        "colab_type": "code",
        "colab": {}
      },
      "source": [
        "train = data[[\"AP\"]].copy()\n",
        "#Test Set\n",
        "test = data[['PE']].copy()"
      ],
      "execution_count": 0,
      "outputs": []
    },
    {
      "cell_type": "code",
      "metadata": {
        "id": "L2Pxh--q_utf",
        "colab_type": "code",
        "colab": {}
      },
      "source": [
        "#Splitting the train and test sets\n",
        "X_train, X_test, y_train, y_test = train_test_split(train, test, test_size=0.33, random_state=42)"
      ],
      "execution_count": 0,
      "outputs": []
    },
    {
      "cell_type": "code",
      "metadata": {
        "id": "dMQwsCID_0W_",
        "colab_type": "code",
        "colab": {}
      },
      "source": [
        "#Creating a Linear regression model and fitting the train data\n",
        "lm = linear_model.LinearRegression()\n",
        "lm.fit(X_train,y_train)\n",
        "#Predicting the test values\n",
        "predictions = lm.predict(X_test)"
      ],
      "execution_count": 0,
      "outputs": []
    },
    {
      "cell_type": "code",
      "metadata": {
        "id": "Nmeg-Gt6_5hM",
        "colab_type": "code",
        "colab": {
          "base_uri": "https://localhost:8080/",
          "height": 0
        },
        "outputId": "01c70f74-43af-4ea2-bc51-0f648cc11641"
      },
      "source": [
        "print(\"r2_score =\", r2_score(y_test,predictions))\n",
        "print(\"Mean Absolute Error = \", mean_absolute_error(y_test,predictions))\n",
        "print(\"Mean Squared Error = \", mean_squared_error(y_test,predictions))\n",
        "print(\"Explained Variance Score\", explained_variance_score(y_test,predictions))"
      ],
      "execution_count": 85,
      "outputs": [
        {
          "output_type": "stream",
          "text": [
            "r2_score = 0.25922240016857634\n",
            "Mean Absolute Error =  11.98422858417856\n",
            "Mean Squared Error =  214.700183884548\n",
            "Explained Variance Score 0.259264271344925\n"
          ],
          "name": "stdout"
        }
      ]
    },
    {
      "cell_type": "markdown",
      "metadata": {
        "id": "lnp4U1FlG2KX",
        "colab_type": "text"
      },
      "source": [
        "##Using all Variables"
      ]
    },
    {
      "cell_type": "code",
      "metadata": {
        "id": "kaPQDx71AI0V",
        "colab_type": "code",
        "colab": {
          "base_uri": "https://localhost:8080/",
          "height": 206
        },
        "outputId": "9314a91f-376a-47d1-fc19-6b929e19accb"
      },
      "source": [
        "#Creating Training Set\n",
        "train = data[['AT','V','RH','AP']].copy()\n",
        "train.head()"
      ],
      "execution_count": 86,
      "outputs": [
        {
          "output_type": "execute_result",
          "data": {
            "text/html": [
              "<div>\n",
              "<style scoped>\n",
              "    .dataframe tbody tr th:only-of-type {\n",
              "        vertical-align: middle;\n",
              "    }\n",
              "\n",
              "    .dataframe tbody tr th {\n",
              "        vertical-align: top;\n",
              "    }\n",
              "\n",
              "    .dataframe thead th {\n",
              "        text-align: right;\n",
              "    }\n",
              "</style>\n",
              "<table border=\"1\" class=\"dataframe\">\n",
              "  <thead>\n",
              "    <tr style=\"text-align: right;\">\n",
              "      <th></th>\n",
              "      <th>AT</th>\n",
              "      <th>V</th>\n",
              "      <th>RH</th>\n",
              "      <th>AP</th>\n",
              "    </tr>\n",
              "  </thead>\n",
              "  <tbody>\n",
              "    <tr>\n",
              "      <th>0</th>\n",
              "      <td>8.34</td>\n",
              "      <td>40.77</td>\n",
              "      <td>90.01</td>\n",
              "      <td>1010.84</td>\n",
              "    </tr>\n",
              "    <tr>\n",
              "      <th>1</th>\n",
              "      <td>23.64</td>\n",
              "      <td>58.49</td>\n",
              "      <td>74.20</td>\n",
              "      <td>1011.40</td>\n",
              "    </tr>\n",
              "    <tr>\n",
              "      <th>2</th>\n",
              "      <td>29.74</td>\n",
              "      <td>56.90</td>\n",
              "      <td>41.91</td>\n",
              "      <td>1007.15</td>\n",
              "    </tr>\n",
              "    <tr>\n",
              "      <th>3</th>\n",
              "      <td>19.07</td>\n",
              "      <td>49.69</td>\n",
              "      <td>76.79</td>\n",
              "      <td>1007.22</td>\n",
              "    </tr>\n",
              "    <tr>\n",
              "      <th>4</th>\n",
              "      <td>11.80</td>\n",
              "      <td>40.66</td>\n",
              "      <td>97.20</td>\n",
              "      <td>1017.13</td>\n",
              "    </tr>\n",
              "  </tbody>\n",
              "</table>\n",
              "</div>"
            ],
            "text/plain": [
              "      AT      V     RH       AP\n",
              "0   8.34  40.77  90.01  1010.84\n",
              "1  23.64  58.49  74.20  1011.40\n",
              "2  29.74  56.90  41.91  1007.15\n",
              "3  19.07  49.69  76.79  1007.22\n",
              "4  11.80  40.66  97.20  1017.13"
            ]
          },
          "metadata": {
            "tags": []
          },
          "execution_count": 86
        }
      ]
    },
    {
      "cell_type": "code",
      "metadata": {
        "id": "fdF0QPZ7AcGP",
        "colab_type": "code",
        "colab": {
          "base_uri": "https://localhost:8080/",
          "height": 206
        },
        "outputId": "b73395fe-2485-4bcc-dde9-49c74cb65706"
      },
      "source": [
        "#Test Set\n",
        "test = data[['PE']].copy()\n",
        "test.head()"
      ],
      "execution_count": 87,
      "outputs": [
        {
          "output_type": "execute_result",
          "data": {
            "text/html": [
              "<div>\n",
              "<style scoped>\n",
              "    .dataframe tbody tr th:only-of-type {\n",
              "        vertical-align: middle;\n",
              "    }\n",
              "\n",
              "    .dataframe tbody tr th {\n",
              "        vertical-align: top;\n",
              "    }\n",
              "\n",
              "    .dataframe thead th {\n",
              "        text-align: right;\n",
              "    }\n",
              "</style>\n",
              "<table border=\"1\" class=\"dataframe\">\n",
              "  <thead>\n",
              "    <tr style=\"text-align: right;\">\n",
              "      <th></th>\n",
              "      <th>PE</th>\n",
              "    </tr>\n",
              "  </thead>\n",
              "  <tbody>\n",
              "    <tr>\n",
              "      <th>0</th>\n",
              "      <td>480.48</td>\n",
              "    </tr>\n",
              "    <tr>\n",
              "      <th>1</th>\n",
              "      <td>445.75</td>\n",
              "    </tr>\n",
              "    <tr>\n",
              "      <th>2</th>\n",
              "      <td>438.76</td>\n",
              "    </tr>\n",
              "    <tr>\n",
              "      <th>3</th>\n",
              "      <td>453.09</td>\n",
              "    </tr>\n",
              "    <tr>\n",
              "      <th>4</th>\n",
              "      <td>464.43</td>\n",
              "    </tr>\n",
              "  </tbody>\n",
              "</table>\n",
              "</div>"
            ],
            "text/plain": [
              "       PE\n",
              "0  480.48\n",
              "1  445.75\n",
              "2  438.76\n",
              "3  453.09\n",
              "4  464.43"
            ]
          },
          "metadata": {
            "tags": []
          },
          "execution_count": 87
        }
      ]
    },
    {
      "cell_type": "code",
      "metadata": {
        "id": "Uayw0d-2HCLK",
        "colab_type": "code",
        "colab": {}
      },
      "source": [
        "#Splitting the train and test sets\n",
        "X_train, X_test, y_train, y_test = train_test_split(train, test, test_size=0.33, random_state=42)"
      ],
      "execution_count": 0,
      "outputs": []
    },
    {
      "cell_type": "code",
      "metadata": {
        "id": "46pLq5woHE9m",
        "colab_type": "code",
        "colab": {
          "base_uri": "https://localhost:8080/",
          "height": 35
        },
        "outputId": "94f52c83-04b3-448d-8e0c-2bb7987e7bc9"
      },
      "source": [
        "#Creating a Linear regression model and fitting the train data\n",
        "lm = linear_model.LinearRegression()\n",
        "lm.fit(X_train,y_train)"
      ],
      "execution_count": 89,
      "outputs": [
        {
          "output_type": "execute_result",
          "data": {
            "text/plain": [
              "LinearRegression(copy_X=True, fit_intercept=True, n_jobs=None, normalize=False)"
            ]
          },
          "metadata": {
            "tags": []
          },
          "execution_count": 89
        }
      ]
    },
    {
      "cell_type": "code",
      "metadata": {
        "id": "Y8wIV1gMHHd_",
        "colab_type": "code",
        "colab": {}
      },
      "source": [
        "#Predicting the test values from X_test\n",
        "predictions = lm.predict(X_test)"
      ],
      "execution_count": 0,
      "outputs": []
    },
    {
      "cell_type": "code",
      "metadata": {
        "id": "jf5t0GyWHKI7",
        "colab_type": "code",
        "colab": {
          "base_uri": "https://localhost:8080/",
          "height": 90
        },
        "outputId": "9a193684-05a0-4728-de73-6465793fd2f8"
      },
      "source": [
        "print(\"r2_score =\", r2_score(y_test,predictions))\n",
        "print(\"Mean Absolute Error = \", mean_absolute_error(y_test,predictions))\n",
        "print(\"Mean Squared Error = \", mean_squared_error(y_test,predictions))\n",
        "print(\"Explained Variance Score\", explained_variance_score(y_test,predictions))"
      ],
      "execution_count": 91,
      "outputs": [
        {
          "output_type": "stream",
          "text": [
            "r2_score = 0.9302634650184767\n",
            "Mean Absolute Error =  3.6080068787032165\n",
            "Mean Squared Error =  20.211797558959002\n",
            "Explained Variance Score 0.930266258940004\n"
          ],
          "name": "stdout"
        }
      ]
    },
    {
      "cell_type": "code",
      "metadata": {
        "id": "1FloZU7BK9Qm",
        "colab_type": "code",
        "colab": {}
      },
      "source": [
        "reg = DecisionTreeRegressor(min_samples_leaf=2)\n",
        "reg.fit(X_train, y_train)\n",
        "predictions = reg.predict(X_test)"
      ],
      "execution_count": 0,
      "outputs": []
    },
    {
      "cell_type": "code",
      "metadata": {
        "id": "p2fjFvMSvxnZ",
        "colab_type": "code",
        "colab": {
          "base_uri": "https://localhost:8080/",
          "height": 90
        },
        "outputId": "2b2b579b-c324-4a63-98d6-97164bffd818"
      },
      "source": [
        "print(\"r2_score =\", r2_score(y_test,predictions))\n",
        "print(\"Mean Absolute Error = \", mean_absolute_error(y_test,predictions))\n",
        "print(\"Mean Squared Error = \", mean_squared_error(y_test,predictions))\n",
        "print(\"Explained Variance Score\", explained_variance_score(y_test,predictions))"
      ],
      "execution_count": 95,
      "outputs": [
        {
          "output_type": "stream",
          "text": [
            "r2_score = 0.9366373290939997\n",
            "Mean Absolute Error =  3.0310386320455986\n",
            "Mean Squared Error =  18.36445526704665\n",
            "Explained Variance Score 0.9366373336778872\n"
          ],
          "name": "stdout"
        }
      ]
    },
    {
      "cell_type": "code",
      "metadata": {
        "id": "AjH72v33wcG1",
        "colab_type": "code",
        "colab": {}
      },
      "source": [
        ""
      ],
      "execution_count": 0,
      "outputs": []
    }
  ]
}
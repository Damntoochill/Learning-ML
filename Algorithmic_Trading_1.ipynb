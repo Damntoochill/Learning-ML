{
  "nbformat": 4,
  "nbformat_minor": 0,
  "metadata": {
    "colab": {
      "name": "Algorithmic_Trading_1.ipynb",
      "version": "0.3.2",
      "provenance": [],
      "include_colab_link": true
    },
    "kernelspec": {
      "name": "python3",
      "display_name": "Python 3"
    }
  },
  "cells": [
    {
      "cell_type": "markdown",
      "metadata": {
        "id": "view-in-github",
        "colab_type": "text"
      },
      "source": [
        "<a href=\"https://colab.research.google.com/github/Damntoochill/Learning-ML/blob/master/Algorithmic_Trading_1.ipynb\" target=\"_parent\"><img src=\"https://colab.research.google.com/assets/colab-badge.svg\" alt=\"Open In Colab\"/></a>"
      ]
    },
    {
      "metadata": {
        "id": "ARurhvYwncOi",
        "colab_type": "text"
      },
      "cell_type": "markdown",
      "source": [
        "#Algorithmic Trading"
      ]
    },
    {
      "metadata": {
        "id": "tc9FfDHZnq49",
        "colab_type": "code",
        "colab": {}
      },
      "cell_type": "code",
      "source": [
        "!pip install nsepy"
      ],
      "execution_count": 0,
      "outputs": []
    },
    {
      "metadata": {
        "id": "GX8b8TANs522",
        "colab_type": "code",
        "colab": {}
      },
      "cell_type": "code",
      "source": [
        "#importing the data from NSE\n",
        "from nsepy import get_history\n",
        "from datetime import date\n",
        "data = get_history(symbol = 'SBIN', start = date(2017,1,1), end = date(2019,1,31))\n",
        "data.head()"
      ],
      "execution_count": 0,
      "outputs": []
    },
    {
      "metadata": {
        "id": "vMCLsp6Hs42k",
        "colab_type": "code",
        "colab": {}
      },
      "cell_type": "code",
      "source": [
        "#saving the data as csv\n",
        "data.to_csv('sbin_data.csv')"
      ],
      "execution_count": 0,
      "outputs": []
    },
    {
      "metadata": {
        "id": "uNde51H7syh7",
        "colab_type": "code",
        "colab": {}
      },
      "cell_type": "code",
      "source": [
        "#downloading the data\n",
        "from google.colab import files\n",
        "files.download('sbin_data.csv')"
      ],
      "execution_count": 0,
      "outputs": []
    },
    {
      "metadata": {
        "id": "69iQ9uueuwEv",
        "colab_type": "code",
        "colab": {}
      },
      "cell_type": "code",
      "source": [
        "#importing the required packages\n",
        "import matplotlib.pyplot as plt\n",
        "import pandas as pd\n",
        "import numpy as np"
      ],
      "execution_count": 0,
      "outputs": []
    },
    {
      "metadata": {
        "id": "72IERMkFt0Qc",
        "colab_type": "code",
        "colab": {}
      },
      "cell_type": "code",
      "source": [
        "df = pd.read_csv('sbin_data.csv', index_col = 'Date', header= 0, parse_dates = True)"
      ],
      "execution_count": 0,
      "outputs": []
    },
    {
      "metadata": {
        "id": "aYgHT5q4uFTt",
        "colab_type": "code",
        "outputId": "a7498a34-e4a5-4423-f632-4b48ffdd8382",
        "colab": {
          "base_uri": "https://localhost:8080/",
          "height": 255
        }
      },
      "cell_type": "code",
      "source": [
        "df.head()"
      ],
      "execution_count": 0,
      "outputs": [
        {
          "output_type": "execute_result",
          "data": {
            "text/html": [
              "<div>\n",
              "<style scoped>\n",
              "    .dataframe tbody tr th:only-of-type {\n",
              "        vertical-align: middle;\n",
              "    }\n",
              "\n",
              "    .dataframe tbody tr th {\n",
              "        vertical-align: top;\n",
              "    }\n",
              "\n",
              "    .dataframe thead th {\n",
              "        text-align: right;\n",
              "    }\n",
              "</style>\n",
              "<table border=\"1\" class=\"dataframe\">\n",
              "  <thead>\n",
              "    <tr style=\"text-align: right;\">\n",
              "      <th></th>\n",
              "      <th>Symbol</th>\n",
              "      <th>Series</th>\n",
              "      <th>Prev Close</th>\n",
              "      <th>Open</th>\n",
              "      <th>High</th>\n",
              "      <th>Low</th>\n",
              "      <th>Last</th>\n",
              "      <th>Close</th>\n",
              "      <th>VWAP</th>\n",
              "      <th>Volume</th>\n",
              "      <th>Turnover</th>\n",
              "      <th>Trades</th>\n",
              "      <th>Deliverable Volume</th>\n",
              "      <th>%Deliverble</th>\n",
              "    </tr>\n",
              "    <tr>\n",
              "      <th>Date</th>\n",
              "      <th></th>\n",
              "      <th></th>\n",
              "      <th></th>\n",
              "      <th></th>\n",
              "      <th></th>\n",
              "      <th></th>\n",
              "      <th></th>\n",
              "      <th></th>\n",
              "      <th></th>\n",
              "      <th></th>\n",
              "      <th></th>\n",
              "      <th></th>\n",
              "      <th></th>\n",
              "      <th></th>\n",
              "    </tr>\n",
              "  </thead>\n",
              "  <tbody>\n",
              "    <tr>\n",
              "      <th>2017-01-02</th>\n",
              "      <td>SBIN</td>\n",
              "      <td>EQ</td>\n",
              "      <td>250.20</td>\n",
              "      <td>252.5</td>\n",
              "      <td>253.65</td>\n",
              "      <td>242.6</td>\n",
              "      <td>243.55</td>\n",
              "      <td>243.60</td>\n",
              "      <td>244.80</td>\n",
              "      <td>25988990</td>\n",
              "      <td>6.362168e+14</td>\n",
              "      <td>164268</td>\n",
              "      <td>12078409</td>\n",
              "      <td>0.4648</td>\n",
              "    </tr>\n",
              "    <tr>\n",
              "      <th>2017-01-03</th>\n",
              "      <td>SBIN</td>\n",
              "      <td>EQ</td>\n",
              "      <td>243.60</td>\n",
              "      <td>244.0</td>\n",
              "      <td>246.40</td>\n",
              "      <td>241.1</td>\n",
              "      <td>244.90</td>\n",
              "      <td>244.90</td>\n",
              "      <td>244.54</td>\n",
              "      <td>15963085</td>\n",
              "      <td>3.903556e+14</td>\n",
              "      <td>112537</td>\n",
              "      <td>4370526</td>\n",
              "      <td>0.2738</td>\n",
              "    </tr>\n",
              "    <tr>\n",
              "      <th>2017-01-04</th>\n",
              "      <td>SBIN</td>\n",
              "      <td>EQ</td>\n",
              "      <td>244.90</td>\n",
              "      <td>245.8</td>\n",
              "      <td>246.40</td>\n",
              "      <td>242.2</td>\n",
              "      <td>243.20</td>\n",
              "      <td>242.90</td>\n",
              "      <td>243.96</td>\n",
              "      <td>11225978</td>\n",
              "      <td>2.738651e+14</td>\n",
              "      <td>91672</td>\n",
              "      <td>3632352</td>\n",
              "      <td>0.3236</td>\n",
              "    </tr>\n",
              "    <tr>\n",
              "      <th>2017-01-05</th>\n",
              "      <td>SBIN</td>\n",
              "      <td>EQ</td>\n",
              "      <td>242.90</td>\n",
              "      <td>245.0</td>\n",
              "      <td>245.90</td>\n",
              "      <td>243.7</td>\n",
              "      <td>245.50</td>\n",
              "      <td>245.35</td>\n",
              "      <td>244.94</td>\n",
              "      <td>11970913</td>\n",
              "      <td>2.932209e+14</td>\n",
              "      <td>88254</td>\n",
              "      <td>4511456</td>\n",
              "      <td>0.3769</td>\n",
              "    </tr>\n",
              "    <tr>\n",
              "      <th>2017-01-06</th>\n",
              "      <td>SBIN</td>\n",
              "      <td>EQ</td>\n",
              "      <td>245.35</td>\n",
              "      <td>246.0</td>\n",
              "      <td>249.00</td>\n",
              "      <td>245.5</td>\n",
              "      <td>246.05</td>\n",
              "      <td>245.90</td>\n",
              "      <td>247.10</td>\n",
              "      <td>12354302</td>\n",
              "      <td>3.052714e+14</td>\n",
              "      <td>75839</td>\n",
              "      <td>3393716</td>\n",
              "      <td>0.2747</td>\n",
              "    </tr>\n",
              "  </tbody>\n",
              "</table>\n",
              "</div>"
            ],
            "text/plain": [
              "           Symbol Series  Prev Close   Open    High    Low    Last   Close  \\\n",
              "Date                                                                         \n",
              "2017-01-02   SBIN     EQ      250.20  252.5  253.65  242.6  243.55  243.60   \n",
              "2017-01-03   SBIN     EQ      243.60  244.0  246.40  241.1  244.90  244.90   \n",
              "2017-01-04   SBIN     EQ      244.90  245.8  246.40  242.2  243.20  242.90   \n",
              "2017-01-05   SBIN     EQ      242.90  245.0  245.90  243.7  245.50  245.35   \n",
              "2017-01-06   SBIN     EQ      245.35  246.0  249.00  245.5  246.05  245.90   \n",
              "\n",
              "              VWAP    Volume      Turnover  Trades  Deliverable Volume  \\\n",
              "Date                                                                     \n",
              "2017-01-02  244.80  25988990  6.362168e+14  164268            12078409   \n",
              "2017-01-03  244.54  15963085  3.903556e+14  112537             4370526   \n",
              "2017-01-04  243.96  11225978  2.738651e+14   91672             3632352   \n",
              "2017-01-05  244.94  11970913  2.932209e+14   88254             4511456   \n",
              "2017-01-06  247.10  12354302  3.052714e+14   75839             3393716   \n",
              "\n",
              "            %Deliverble  \n",
              "Date                     \n",
              "2017-01-02       0.4648  \n",
              "2017-01-03       0.2738  \n",
              "2017-01-04       0.3236  \n",
              "2017-01-05       0.3769  \n",
              "2017-01-06       0.2747  "
            ]
          },
          "metadata": {
            "tags": []
          },
          "execution_count": 10
        }
      ]
    },
    {
      "metadata": {
        "id": "RLusfxZxuiKf",
        "colab_type": "text"
      },
      "cell_type": "markdown",
      "source": [
        "Nsepy already returns the data with date as index. So no need to change it."
      ]
    },
    {
      "metadata": {
        "id": "wkmWjICmze2b",
        "colab_type": "code",
        "colab": {}
      },
      "cell_type": "code",
      "source": [
        "#inspect first rows of November- december 2018\n",
        "print(data.loc[pd.Timestamp('2018-11-1'):pd.Timestamp('2018-12-31')].head())"
      ],
      "execution_count": 0,
      "outputs": []
    },
    {
      "metadata": {
        "id": "hqlPZJg00m2K",
        "colab_type": "code",
        "colab": {}
      },
      "cell_type": "code",
      "source": [
        "#inspect the first rows of 2018\n",
        "print(data.loc['2018'].head())"
      ],
      "execution_count": 0,
      "outputs": []
    },
    {
      "metadata": {
        "id": "S7R3wxN51GGN",
        "colab_type": "code",
        "colab": {}
      },
      "cell_type": "code",
      "source": [
        "print(data.iloc[22:43])"
      ],
      "execution_count": 0,
      "outputs": []
    },
    {
      "metadata": {
        "id": "GnKMbFTgtXrH",
        "colab_type": "code",
        "outputId": "2b437136-de8d-47e4-ddee-7bab9ff543c3",
        "colab": {
          "base_uri": "https://localhost:8080/",
          "height": 347
        }
      },
      "cell_type": "code",
      "source": [
        "#compute 10 and 20 days moving average\n",
        "rolmean10 = data['Close'].rolling(10).mean()\n",
        "plt.plot(data['Close'], color = 'red')\n",
        "plt.plot(rolmean10, color = 'green')\n",
        "plt.show()"
      ],
      "execution_count": 0,
      "outputs": [
        {
          "output_type": "display_data",
          "data": {
            "image/png": "[encoded data removed]",
            "text/plain": [
              "<Figure size 576x396 with 1 Axes>"
            ]
          },
          "metadata": {
            "tags": []
          }
        }
      ]
    },
    {
      "metadata": {
        "id": "vGoyzQC-0ttT",
        "colab_type": "code",
        "colab": {}
      },
      "cell_type": "code",
      "source": [
        ""
      ],
      "execution_count": 0,
      "outputs": []
    }
  ]
}
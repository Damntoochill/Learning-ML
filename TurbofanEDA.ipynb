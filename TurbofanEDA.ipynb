{
  "nbformat": 4,
  "nbformat_minor": 0,
  "metadata": {
    "colab": {
      "name": "TurbofanEDA.ipynb",
      "version": "0.3.2",
      "provenance": [],
      "include_colab_link": true
    },
    "kernelspec": {
      "name": "python3",
      "display_name": "Python 3"
    }
  },
  "cells": [
    {
      "cell_type": "markdown",
      "metadata": {
        "id": "view-in-github",
        "colab_type": "text"
      },
      "source": [
        "<a href=\"https://colab.research.google.com/github/Damntoochill/Learning-ML/blob/master/TurbofanEDA.ipynb\" target=\"_parent\"><img src=\"https://colab.research.google.com/assets/colab-badge.svg\" alt=\"Open In Colab\"/></a>"
      ]
    },
    {
      "cell_type": "code",
      "metadata": {
        "id": "4azBhA92OiLT",
        "colab_type": "code",
        "colab": {}
      },
      "source": [
        "import numpy as np\n",
        "import matplotlib.pyplot as plt\n",
        "import pandas as pd\n",
        "import seaborn as sns"
      ],
      "execution_count": 0,
      "outputs": []
    },
    {
      "cell_type": "code",
      "metadata": {
        "id": "1AfWnzi0O_ek",
        "colab_type": "code",
        "colab": {}
      },
      "source": [
        "from google.colab import files\n",
        "files.upload()"
      ],
      "execution_count": 0,
      "outputs": []
    },
    {
      "cell_type": "code",
      "metadata": {
        "id": "RlSKwkhSWtpn",
        "colab_type": "code",
        "colab": {}
      },
      "source": [
        "train = pd.read_csv('train_FD001.csv', header = None)\n",
        "test = pd.read_csv(\"test_FD001.csv\", header = None)"
      ],
      "execution_count": 0,
      "outputs": []
    },
    {
      "cell_type": "code",
      "metadata": {
        "id": "UyCfuv-aBftT",
        "colab_type": "code",
        "colab": {}
      },
      "source": [
        "index_columns_names =  [\"UnitNumber\",\"Cycle\"]\n",
        "operational_settings_columns_names = [\"OpSet\"+str(i) for i in range(1,4)]\n",
        "sensor_measure_columns_names =[\"SensorMeasure\"+str(i) for i in range(1,22)]\n",
        "input_file_column_names = index_columns_names + operational_settings_columns_names + sensor_measure_columns_names"
      ],
      "execution_count": 0,
      "outputs": []
    },
    {
      "cell_type": "code",
      "metadata": {
        "id": "bZWkEdIpXlcs",
        "colab_type": "code",
        "colab": {}
      },
      "source": [
        "train.columns = input_file_column_names"
      ],
      "execution_count": 0,
      "outputs": []
    },
    {
      "cell_type": "code",
      "metadata": {
        "id": "528fdys9CGMf",
        "colab_type": "code",
        "colab": {}
      },
      "source": [
        "test.columns = input_file_column_names"
      ],
      "execution_count": 0,
      "outputs": []
    },
    {
      "cell_type": "code",
      "metadata": {
        "id": "1qP-Jxf7CXWE",
        "colab_type": "code",
        "colab": {}
      },
      "source": [
        "train.info()"
      ],
      "execution_count": 0,
      "outputs": []
    },
    {
      "cell_type": "code",
      "metadata": {
        "id": "l85ZjvmmCunl",
        "colab_type": "code",
        "colab": {}
      },
      "source": [
        "test.info()"
      ],
      "execution_count": 0,
      "outputs": []
    },
    {
      "cell_type": "code",
      "metadata": {
        "id": "i83qgzFUC8uV",
        "colab_type": "code",
        "colab": {}
      },
      "source": [
        "train.describe().transpose()"
      ],
      "execution_count": 0,
      "outputs": []
    },
    {
      "cell_type": "code",
      "metadata": {
        "id": "j-x_wBN0dCl5",
        "colab_type": "code",
        "colab": {}
      },
      "source": [
        "def RUL_predictor(df):\n",
        "  max_cycle = max(df[\"Cycle\"])\n",
        "  rul = max_cycle - df[\"Cycle\"]\n",
        "  return rul.tolist()\n",
        "\n",
        "Rul = []\n",
        "for id in set(train[\"UnitNumber\"]):\n",
        "  Rul.extend(RUL_predictor(train[train[\"UnitNumber\"] == id]))\n",
        "  "
      ],
      "execution_count": 0,
      "outputs": []
    },
    {
      "cell_type": "code",
      "metadata": {
        "id": "GgKrGi5wHpjx",
        "colab_type": "code",
        "colab": {}
      },
      "source": [
        "train[\"RUL\"] = Rul"
      ],
      "execution_count": 0,
      "outputs": []
    },
    {
      "cell_type": "code",
      "metadata": {
        "id": "tkfEl86jHvCJ",
        "colab_type": "code",
        "colab": {}
      },
      "source": [
        "train.head()"
      ],
      "execution_count": 0,
      "outputs": []
    },
    {
      "cell_type": "code",
      "metadata": {
        "id": "Z82t5nm9pIUD",
        "colab_type": "code",
        "colab": {}
      },
      "source": [
        "g = sns.PairGrid(data=train.query('UnitNumber < 10') ,\n",
        "                 x_vars=[\"RUL\"],\n",
        "                 y_vars=sensor_measure_columns_names + operational_settings_columns_names,\n",
        "                 hue=\"UnitNumber\", size=3, aspect=2.5)\n",
        "g = g.map(plt.scatter, alpha=0.5)\n",
        "g = g.set(xlim=(300,0))\n",
        "g = g.add_legend()"
      ],
      "execution_count": 0,
      "outputs": []
    },
    {
      "cell_type": "code",
      "metadata": {
        "id": "AP1LL3e4pLLS",
        "colab_type": "code",
        "colab": {}
      },
      "source": [
        "train.drop([\"OpSet3\",\"SensorMeasure1\",\"SensorMeasure5\",\"SensorMeasure10\",\"SensorMeasure16\",\"SensorMeasure18\",\"SensorMeasure19\"], axis = 1, inplace =True)\n",
        "test.drop([\"OpSet3\",\"SensorMeasure1\",\"SensorMeasure5\",\"SensorMeasure10\",\"SensorMeasure16\",\"SensorMeasure18\",\"SensorMeasure19\"], axis = 1, inplace =True)"
      ],
      "execution_count": 0,
      "outputs": []
    },
    {
      "cell_type": "code",
      "metadata": {
        "id": "SzOJVMSUjxCj",
        "colab_type": "code",
        "colab": {}
      },
      "source": [
        "train.hist(bins=50, figsize=(18,16))\n",
        "plt.show()"
      ],
      "execution_count": 0,
      "outputs": []
    },
    {
      "cell_type": "code",
      "metadata": {
        "id": "7gyWJ8LwL9Dv",
        "colab_type": "code",
        "colab": {}
      },
      "source": [
        "train_cycles = train.groupby(\"UnitNumber\", as_index = False)[\"Cycle\"].max()\n",
        "test_cycles = test.groupby(\"UnitNumber\", as_index = False)[\"Cycle\"].max()"
      ],
      "execution_count": 0,
      "outputs": []
    },
    {
      "cell_type": "code",
      "metadata": {
        "id": "gAYDWwm1QW2R",
        "colab_type": "code",
        "colab": {}
      },
      "source": [
        "fig = plt.figure(figsize = (16,12))\n",
        "fig.add_subplot(1,2,1)\n",
        "bar_labels = list(train_cycles['UnitNumber'])\n",
        "bars = plt.bar(list(train_cycles['UnitNumber']), train_cycles['Cycle'], color='red')\n",
        "plt.ylim([0, 400])\n",
        "plt.xlabel('Units', fontsize=16)\n",
        "plt.ylabel('Max. Cycles', fontsize=16)\n",
        "plt.title('Max. Cycles per unit in trainset', fontsize=16)\n",
        "plt.xticks(np.arange(min(bar_labels)-1, max(bar_labels)-1, 5.0), fontsize=12)\n",
        "plt.yticks(fontsize=12)\n",
        "fig.add_subplot(1,2,2)\n",
        "bars = plt.bar(list(test_cycles['UnitNumber']), test_cycles['Cycle'], color='grey')\n",
        "plt.ylim([0, 400])\n",
        "plt.xlabel('Units', fontsize=16)\n",
        "plt.ylabel('Max. Cycles', fontsize=16)\n",
        "plt.title('Max. Cycles per unit in testset', fontsize=16)\n",
        "plt.xticks(np.arange(min(bar_labels)-1, max(bar_labels)-1, 5.0), fontsize=12)\n",
        "plt.yticks(fontsize=12)\n",
        "plt.show()"
      ],
      "execution_count": 0,
      "outputs": []
    },
    {
      "cell_type": "code",
      "metadata": {
        "id": "tGAs7d_kSGjK",
        "colab_type": "code",
        "colab": {}
      },
      "source": [
        "values = train[train.UnitNumber==1].values\n",
        "groups = [5, 6, 7, 8, 9, 10, 11,12,13]\n",
        "i = 1\n",
        "plt.figure(figsize=(10,20))\n",
        "for group in groups:\n",
        "\tplt.subplot(len(groups), 1, i)\n",
        "\tplt.plot(values[:, group])\n",
        "\tplt.title(train.columns[group], y=0.5, loc='right')\n",
        "\ti += 1\n",
        "plt.show()"
      ],
      "execution_count": 0,
      "outputs": []
    },
    {
      "cell_type": "code",
      "metadata": {
        "id": "Y7eFknsCTDnk",
        "colab_type": "code",
        "colab": {}
      },
      "source": [
        "plt.figure(figsize = (8, 8))\n",
        "plt.plot(train[train.UnitNumber==1].Cycle, train[train.UnitNumber==1].SensorMeasure7)\n",
        "plt.plot(train[train.UnitNumber==2].Cycle, train[train.UnitNumber==2].SensorMeasure7)\n",
        "plt.plot(train[train.UnitNumber==3].Cycle, train[train.UnitNumber==3].SensorMeasure7)\n",
        "plt.plot(train[train.UnitNumber==4].Cycle, train[train.UnitNumber==4].SensorMeasure7)\n",
        "plt.plot(train[train.UnitNumber==5].Cycle, train[train.UnitNumber==5].SensorMeasure7)\n",
        "plt.plot(train[train.UnitNumber==6].Cycle, train[train.UnitNumber==6].SensorMeasure7)\n",
        "plt.plot(train[train.UnitNumber==7].Cycle, train[train.UnitNumber==7].SensorMeasure7)\n",
        "plt.plot(train[train.UnitNumber==8].Cycle, train[train.UnitNumber==8].SensorMeasure7)\n",
        "plt.plot(train[train.UnitNumber==9].Cycle, train[train.UnitNumber==9].SensorMeasure7)\n",
        "plt.plot(train[train.UnitNumber==10].Cycle, train[train.UnitNumber==10].SensorMeasure7)\n",
        "plt.xlabel('# Cycles')\n",
        "plt.ylabel('Sensor measurements')\n",
        "plt.show()"
      ],
      "execution_count": 0,
      "outputs": []
    },
    {
      "cell_type": "code",
      "metadata": {
        "id": "nVN_qz04T-Tn",
        "colab_type": "code",
        "colab": {}
      },
      "source": [
        "plt.figure(figsize = (8, 8))\n",
        "plt.plot(train[train.UnitNumber==1].Cycle, train[train.UnitNumber==1].SensorMeasure2)\n",
        "plt.plot(train[train.UnitNumber==2].Cycle, train[train.UnitNumber==2].SensorMeasure2)\n",
        "plt.plot(train[train.UnitNumber==3].Cycle, train[train.UnitNumber==3].SensorMeasure2)\n",
        "plt.plot(train[train.UnitNumber==4].Cycle, train[train.UnitNumber==4].SensorMeasure2)\n",
        "plt.plot(train[train.UnitNumber==5].Cycle, train[train.UnitNumber==5].SensorMeasure2)\n",
        "plt.plot(train[train.UnitNumber==6].Cycle, train[train.UnitNumber==6].SensorMeasure2)\n",
        "plt.plot(train[train.UnitNumber==7].Cycle, train[train.UnitNumber==7].SensorMeasure2)\n",
        "plt.plot(train[train.UnitNumber==8].Cycle, train[train.UnitNumber==8].SensorMeasure2)\n",
        "plt.plot(train[train.UnitNumber==9].Cycle, train[train.UnitNumber==9].SensorMeasure2)\n",
        "plt.plot(train[train.UnitNumber==10].Cycle, train[train.UnitNumber==10].SensorMeasure2)\n",
        "plt.xlabel('# Cycles')\n",
        "plt.ylabel('Sensor measurements')\n",
        "plt.show()"
      ],
      "execution_count": 0,
      "outputs": []
    },
    {
      "cell_type": "code",
      "metadata": {
        "id": "x6XE-IQfUIc_",
        "colab_type": "code",
        "colab": {}
      },
      "source": [
        "minb = train.groupby('UnitNumber', as_index=False).min().head(10)\n",
        "maxb = train.groupby('UnitNumber', as_index=False).max().head(10)\n",
        "mmtable = minb.append(maxb, ignore_index=True)"
      ],
      "execution_count": 0,
      "outputs": []
    },
    {
      "cell_type": "code",
      "metadata": {
        "id": "NuyQbCRQVoTc",
        "colab_type": "code",
        "colab": {}
      },
      "source": [
        "print(mmtable)"
      ],
      "execution_count": 0,
      "outputs": []
    },
    {
      "cell_type": "code",
      "metadata": {
        "id": "yqosJq-lVU4r",
        "colab_type": "code",
        "colab": {}
      },
      "source": [
        "plt.figure(figsize = (12,12))\n",
        "col = np.concatenate((np.repeat('red', 10), np.repeat('blue', 10)), axis=0)\n",
        "bar_labels = list(mmtable['UnitNumber'])\n",
        "x_pos = list(range(len(bar_labels)))\n",
        "bars = plt.bar(x_pos, mmtable['SensorMeasure2'], color=col)\n",
        "plt.ylim([640, 645])\n",
        "plt.xlabel('Units', fontsize=14)\n",
        "plt.ylabel('SensorMeasure2', fontsize=14)\n",
        "plt.xticks(x_pos, bar_labels, fontsize=14)\n",
        "plt.yticks(fontsize=14)\n",
        "plt.show()"
      ],
      "execution_count": 0,
      "outputs": []
    },
    {
      "cell_type": "code",
      "metadata": {
        "id": "4xINE4IsWttS",
        "colab_type": "code",
        "colab": {}
      },
      "source": [
        "train.describe().transpose()"
      ],
      "execution_count": 0,
      "outputs": []
    },
    {
      "cell_type": "code",
      "metadata": {
        "id": "yh3C3haPXal5",
        "colab_type": "code",
        "colab": {}
      },
      "source": [
        "newtrain = train.copy()"
      ],
      "execution_count": 0,
      "outputs": []
    },
    {
      "cell_type": "code",
      "metadata": {
        "id": "0EQlsDWqX7k8",
        "colab_type": "code",
        "colab": {}
      },
      "source": [
        "from sklearn.preprocessing import MinMaxScaler"
      ],
      "execution_count": 0,
      "outputs": []
    },
    {
      "cell_type": "code",
      "metadata": {
        "id": "-rLc-AxfYCwu",
        "colab_type": "code",
        "colab": {}
      },
      "source": [
        "scaler = MinMaxScaler()\n",
        "newtrain.iloc[:,2:19] = scaler.fit_transform(newtrain.iloc[:,2:19])"
      ],
      "execution_count": 0,
      "outputs": []
    },
    {
      "cell_type": "code",
      "metadata": {
        "id": "qN2LHktWYKqj",
        "colab_type": "code",
        "colab": {}
      },
      "source": [
        "newtrain.describe().transpose()"
      ],
      "execution_count": 0,
      "outputs": []
    },
    {
      "cell_type": "code",
      "metadata": {
        "id": "kOAQmgDwYQFX",
        "colab_type": "code",
        "colab": {}
      },
      "source": [
        "newtest = test.copy()"
      ],
      "execution_count": 0,
      "outputs": []
    },
    {
      "cell_type": "code",
      "metadata": {
        "id": "W-9izyjTYwQm",
        "colab_type": "code",
        "colab": {}
      },
      "source": [
        "newtest.iloc[:,2:19] = scaler.transform(newtest.iloc[:,2:19])"
      ],
      "execution_count": 0,
      "outputs": []
    },
    {
      "cell_type": "code",
      "metadata": {
        "id": "DRPhsqXOY1kb",
        "colab_type": "code",
        "colab": {}
      },
      "source": [
        "newtest.describe().transpose()"
      ],
      "execution_count": 0,
      "outputs": []
    },
    {
      "cell_type": "code",
      "metadata": {
        "id": "NOyLPWTNY5q0",
        "colab_type": "code",
        "colab": {}
      },
      "source": [
        "test.describe().transpose()"
      ],
      "execution_count": 0,
      "outputs": []
    },
    {
      "cell_type": "code",
      "metadata": {
        "id": "IGi9bCHCZe_E",
        "colab_type": "code",
        "colab": {}
      },
      "source": [
        "\n",
        "\n",
        "fig = plt.figure(figsize = (8, 8))\n",
        "fig.add_subplot(1,2,1)\n",
        "plt.plot(train[train.UnitNumber==1].SensorMeasure2)\n",
        "plt.plot(test[test.UnitNumber==1].SensorMeasure2)\n",
        "plt.legend(['Train','Test'], bbox_to_anchor=(0., 1.02, 1., .102), loc=3, mode=\"expand\", borderaxespad=0)\n",
        "plt.ylabel('Original unit')\n",
        "fig.add_subplot(1,2,2)\n",
        "plt.plot(newtrain[newtrain.UnitNumber==1].SensorMeasure2)\n",
        "plt.plot(newtest[newtest.UnitNumber==1].SensorMeasure2)\n",
        "plt.legend(['Scaled Train','Scaled Test'], bbox_to_anchor=(0., 1.02, 1., .102), loc=3, mode=\"expand\", borderaxespad=0)\n",
        "plt.ylabel('Scaled unit')\n",
        "plt.show()\n",
        "\n"
      ],
      "execution_count": 0,
      "outputs": []
    },
    {
      "cell_type": "code",
      "metadata": {
        "id": "6Up-gReiauac",
        "colab_type": "code",
        "colab": {}
      },
      "source": [
        "\n",
        "\n",
        "def fractionTTF(dat,q):\n",
        "    return(dat.RUL[q]-dat.RUL.min()) / float(dat.RUL.max()-dat.RUL.min())\n",
        "\n"
      ],
      "execution_count": 0,
      "outputs": []
    },
    {
      "cell_type": "code",
      "metadata": {
        "id": "ltweLMspblUz",
        "colab_type": "code",
        "colab": {}
      },
      "source": [
        "fTTFz = []\n",
        "fTTF = []\n",
        "\n",
        "for i in range(train['UnitNumber'].min(),train['UnitNumber'].max()+1):\n",
        "    dat=train[train.UnitNumber==i]\n",
        "    dat = dat.reset_index(drop=True)\n",
        "    for q in range(len(dat)):\n",
        "        fTTFz = fractionTTF(dat, q)\n",
        "        fTTF.append(fTTFz)\n",
        "newtrain['RUL'] = fTTF"
      ],
      "execution_count": 0,
      "outputs": []
    },
    {
      "cell_type": "code",
      "metadata": {
        "id": "vudsdugebuPV",
        "colab_type": "code",
        "colab": {}
      },
      "source": [
        "mx = train_cycles.iloc[0:4,1].sum()\n",
        "\n",
        "fig = plt.figure(figsize = (8, 8))\n",
        "fig.add_subplot(1,2,1)\n",
        "plt.plot(newtrain.RUL[0:mx])\n",
        "plt.legend(['Time to failure (in cycles)'], bbox_to_anchor=(0., 1.02, 1., .102), loc=3, mode=\"expand\", borderaxespad=0)\n",
        "plt.ylabel('Original unit')\n",
        "fig.add_subplot(1,2,2)\n",
        "plt.plot(newtrain.RUL[0:mx])\n",
        "plt.legend(['Time to failure (fraction)'], bbox_to_anchor=(0., 1.02, 1., .102), loc=3, mode=\"expand\", borderaxespad=0)\n",
        "plt.ylabel('Scaled unit')\n",
        "plt.show()"
      ],
      "execution_count": 0,
      "outputs": []
    },
    {
      "cell_type": "code",
      "metadata": {
        "id": "es78ov5ecyUl",
        "colab_type": "code",
        "colab": {}
      },
      "source": [
        "newtrain[\"RUL\"].describe()"
      ],
      "execution_count": 0,
      "outputs": []
    },
    {
      "cell_type": "code",
      "metadata": {
        "id": "w2oar2mCc4y5",
        "colab_type": "code",
        "colab": {}
      },
      "source": [
        "train.to_csv('train.csv')\n",
        "newtrain.to_csv(\"newtrain.csv\")\n",
        "test.to_csv('test.csv')\n",
        "newtest.to_csv('newtest.csv')"
      ],
      "execution_count": 0,
      "outputs": []
    },
    {
      "cell_type": "code",
      "metadata": {
        "id": "vmuhdi6CdeD1",
        "colab_type": "code",
        "colab": {}
      },
      "source": [
        ""
      ],
      "execution_count": 0,
      "outputs": []
    }
  ]
}
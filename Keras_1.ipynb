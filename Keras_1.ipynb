{
  "nbformat": 4,
  "nbformat_minor": 0,
  "metadata": {
    "colab": {
      "name": "Keras_1.ipynb",
      "version": "0.3.2",
      "provenance": [],
      "include_colab_link": true
    },
    "kernelspec": {
      "name": "python3",
      "display_name": "Python 3"
    }
  },
  "cells": [
    {
      "cell_type": "markdown",
      "metadata": {
        "id": "view-in-github",
        "colab_type": "text"
      },
      "source": [
        "<a href=\"https://colab.research.google.com/github/Damntoochill/Learning-ML/blob/master/Keras_1.ipynb\" target=\"_parent\"><img src=\"https://colab.research.google.com/assets/colab-badge.svg\" alt=\"Open In Colab\"/></a>"
      ]
    },
    {
      "metadata": {
        "id": "xaLkerRwAT4R",
        "colab_type": "code",
        "colab": {}
      },
      "cell_type": "code",
      "source": [
        "import numpy as np\n",
        "from random import randint\n",
        "from sklearn.preprocessing import MinMaxScaler"
      ],
      "execution_count": 0,
      "outputs": []
    },
    {
      "metadata": {
        "id": "9Bzx4lbQBhYf",
        "colab_type": "text"
      },
      "cell_type": "markdown",
      "source": [
        "Let's create a sample test in which there were total 2100 people. Half under 65 and haf above 65.\n",
        "\n",
        "95% of the people above 65 had side effects while 95% below 65 had no side effects."
      ]
    },
    {
      "metadata": {
        "id": "axOqCk5sA7eM",
        "colab_type": "code",
        "colab": {}
      },
      "cell_type": "code",
      "source": [
        "#Sample\n",
        "train_samples = [] #age\n",
        "train_labels = [] #1 if positive 0 if negative"
      ],
      "execution_count": 0,
      "outputs": []
    },
    {
      "metadata": {
        "id": "6WwAR55KCOAu",
        "colab_type": "code",
        "colab": {}
      },
      "cell_type": "code",
      "source": [
        "for i in range(1000):\n",
        "  rand_young = randint(13,65)\n",
        "  train_samples.append(rand_young)\n",
        "  train_labels.append(0)\n",
        "  \n",
        "for i in range(50):\n",
        "  rand_young = randint(13,65)\n",
        "  train_samples.append(rand_young)\n",
        "  train_labels.append(1)\n",
        "  \n",
        "for i in range(1000):\n",
        "  rand_old = randint(65,100)\n",
        "  train_samples.append(rand_old)\n",
        "  train_labels.append(1)\n",
        "  \n",
        "for i in range(50):\n",
        "  rand_old = randint(65,100)\n",
        "  train_samples.append(rand_old)\n",
        "  train_labels.append(0)"
      ],
      "execution_count": 0,
      "outputs": []
    },
    {
      "metadata": {
        "id": "U1rxei1GDAnQ",
        "colab_type": "code",
        "colab": {}
      },
      "cell_type": "code",
      "source": [
        "#Keras can work on only numpy arrays or a list of numpy arrays\n",
        "\n",
        "train_labels = np.array(train_labels)\n",
        "train_samples = np.array(train_samples)"
      ],
      "execution_count": 0,
      "outputs": []
    },
    {
      "metadata": {
        "id": "g8zKfdJQFLZA",
        "colab_type": "text"
      },
      "cell_type": "markdown",
      "source": [
        "Keras can leearn well with values less than 1 so we would convert the ages to less than 1 using sklearn minmaxscaler."
      ]
    },
    {
      "metadata": {
        "id": "94Fw4Ig8DgGH",
        "colab_type": "code",
        "colab": {}
      },
      "cell_type": "code",
      "source": [
        "scaler = MinMaxScaler() #range is by default 0 - 1\n",
        "scaled_samples = scaler.fit_transform(train_samples.reshape(-1,1))"
      ],
      "execution_count": 0,
      "outputs": []
    },
    {
      "metadata": {
        "id": "kkmjLunUGMuK",
        "colab_type": "code",
        "colab": {}
      },
      "cell_type": "code",
      "source": [
        "#importing all dependencies\n",
        "import keras\n",
        "from keras.models import Sequential\n",
        "from keras.layers import Activation\n",
        "from keras.layers.core import Dense\n",
        "from keras.optimizers import adam\n",
        "from keras.metrics import categorical_crossentropy"
      ],
      "execution_count": 0,
      "outputs": []
    },
    {
      "metadata": {
        "id": "uOGdcQqlGi5y",
        "colab_type": "code",
        "colab": {}
      },
      "cell_type": "code",
      "source": [
        "#creating a model\n",
        "model = Sequential([\n",
        "    Dense(16, activation = 'relu', input_shape = (1,)),\n",
        "    Dense(32, activation = 'relu'),\n",
        "    Dense(2, activation = 'softmax')\n",
        "])"
      ],
      "execution_count": 0,
      "outputs": []
    },
    {
      "metadata": {
        "id": "g25XXl1eJl6K",
        "colab_type": "code",
        "colab": {
          "base_uri": "https://localhost:8080/",
          "height": 256
        },
        "outputId": "e9bd7375-8b7e-4284-8e5f-27316a89fc4a"
      },
      "cell_type": "code",
      "source": [
        "model.summary()#gives the summary of the model"
      ],
      "execution_count": 15,
      "outputs": [
        {
          "output_type": "stream",
          "text": [
            "_________________________________________________________________\n",
            "Layer (type)                 Output Shape              Param #   \n",
            "=================================================================\n",
            "dense_1 (Dense)              (None, 16)                32        \n",
            "_________________________________________________________________\n",
            "dense_2 (Dense)              (None, 32)                544       \n",
            "_________________________________________________________________\n",
            "dense_3 (Dense)              (None, 2)                 66        \n",
            "=================================================================\n",
            "Total params: 642\n",
            "Trainable params: 642\n",
            "Non-trainable params: 0\n",
            "_________________________________________________________________\n"
          ],
          "name": "stdout"
        }
      ]
    },
    {
      "metadata": {
        "id": "gwZl85uvJ5Y5",
        "colab_type": "code",
        "colab": {}
      },
      "cell_type": "code",
      "source": [
        "#Compiling the model\n",
        "model.compile(adam(lr=0.0001),loss = 'sparse_categorical_crossentropy', metrics = ['accuracy'])"
      ],
      "execution_count": 0,
      "outputs": []
    },
    {
      "metadata": {
        "id": "IGWa-BAiMLgv",
        "colab_type": "code",
        "colab": {
          "base_uri": "https://localhost:8080/",
          "height": 845
        },
        "outputId": "c7c733c8-03ce-4780-de2a-8030e58ea590"
      },
      "cell_type": "code",
      "source": [
        "#Train the model\n",
        "model.fit(scaled_samples, train_labels, batch_size = 10, epochs = 20, verbose = 2)"
      ],
      "execution_count": 18,
      "outputs": [
        {
          "output_type": "stream",
          "text": [
            "WARNING:tensorflow:From /usr/local/lib/python3.6/dist-packages/tensorflow/python/ops/math_ops.py:3066: to_int32 (from tensorflow.python.ops.math_ops) is deprecated and will be removed in a future version.\n",
            "Instructions for updating:\n",
            "Use tf.cast instead.\n",
            "Epoch 1/20\n",
            " - 1s - loss: 0.7123 - acc: 0.4133\n",
            "Epoch 2/20\n",
            " - 0s - loss: 0.6801 - acc: 0.5152\n",
            "Epoch 3/20\n",
            " - 0s - loss: 0.6522 - acc: 0.5710\n",
            "Epoch 4/20\n",
            " - 0s - loss: 0.6262 - acc: 0.6329\n",
            "Epoch 5/20\n",
            " - 0s - loss: 0.6018 - acc: 0.6905\n",
            "Epoch 6/20\n",
            " - 0s - loss: 0.5777 - acc: 0.7243\n",
            "Epoch 7/20\n",
            " - 0s - loss: 0.5536 - acc: 0.7543\n",
            "Epoch 8/20\n",
            " - 0s - loss: 0.5298 - acc: 0.7886\n",
            "Epoch 9/20\n",
            " - 0s - loss: 0.5061 - acc: 0.8090\n",
            "Epoch 10/20\n",
            " - 0s - loss: 0.4829 - acc: 0.8290\n",
            "Epoch 11/20\n",
            " - 0s - loss: 0.4606 - acc: 0.8471\n",
            "Epoch 12/20\n",
            " - 0s - loss: 0.4392 - acc: 0.8643\n",
            "Epoch 13/20\n",
            " - 0s - loss: 0.4190 - acc: 0.8733\n",
            "Epoch 14/20\n",
            " - 0s - loss: 0.4004 - acc: 0.8805\n",
            "Epoch 15/20\n",
            " - 0s - loss: 0.3832 - acc: 0.8910\n",
            "Epoch 16/20\n",
            " - 0s - loss: 0.3678 - acc: 0.9029\n",
            "Epoch 17/20\n",
            " - 0s - loss: 0.3537 - acc: 0.9052\n",
            "Epoch 18/20\n",
            " - 0s - loss: 0.3415 - acc: 0.9114\n",
            "Epoch 19/20\n",
            " - 0s - loss: 0.3306 - acc: 0.9133\n",
            "Epoch 20/20\n",
            " - 0s - loss: 0.3209 - acc: 0.9171\n"
          ],
          "name": "stdout"
        },
        {
          "output_type": "execute_result",
          "data": {
            "text/plain": [
              "<keras.callbacks.History at 0x7f78fb0f9b00>"
            ]
          },
          "metadata": {
            "tags": []
          },
          "execution_count": 18
        }
      ]
    },
    {
      "metadata": {
        "id": "F77IZ-3aMj1V",
        "colab_type": "code",
        "colab": {}
      },
      "cell_type": "code",
      "source": [
        ""
      ],
      "execution_count": 0,
      "outputs": []
    }
  ]
}
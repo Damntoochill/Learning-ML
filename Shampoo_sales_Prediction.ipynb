{
  "nbformat": 4,
  "nbformat_minor": 0,
  "metadata": {
    "colab": {
      "name": "Shampoo_sales_Prediction.ipynb",
      "version": "0.3.2",
      "provenance": [],
      "include_colab_link": true
    },
    "kernelspec": {
      "name": "python3",
      "display_name": "Python 3"
    }
  },
  "cells": [
    {
      "cell_type": "markdown",
      "metadata": {
        "id": "view-in-github",
        "colab_type": "text"
      },
      "source": [
        "<a href=\"https://colab.research.google.com/github/Damntoochill/Learning-ML/blob/master/Shampoo_sales_Prediction.ipynb\" target=\"_parent\"><img src=\"https://colab.research.google.com/assets/colab-badge.svg\" alt=\"Open In Colab\"/></a>"
      ]
    },
    {
      "metadata": {
        "id": "6ak2g82VUg2z",
        "colab_type": "code",
        "colab": {}
      },
      "cell_type": "code",
      "source": [
        "#import packages\n",
        "import matplotlib.pyplot as plt\n",
        "import numpy as np\n",
        "from statsmodels.tsa.stattools import adfuller\n",
        "from statsmodels.tsa.stattools import kpss\n",
        "from statsmodels.tsa.stattools import acf,pacf\n",
        "from statsmodels.tsa.seasonal import seasonal_decompose\n",
        "import pandas as pd\n",
        "from pandas import datetime\n",
        "from statsmodels.tsa.arima_model import ARIMA\n",
        "from sklearn.metrics import mean_squared_error"
      ],
      "execution_count": 0,
      "outputs": []
    },
    {
      "metadata": {
        "id": "IZLtkOjUWD9q",
        "colab_type": "code",
        "colab": {}
      },
      "cell_type": "code",
      "source": [
        "from google.colab import files\n",
        "files.upload()"
      ],
      "execution_count": 0,
      "outputs": []
    },
    {
      "metadata": {
        "id": "Xt6o0tUpWMK5",
        "colab_type": "code",
        "colab": {
          "base_uri": "https://localhost:8080/",
          "height": 457
        },
        "outputId": "b92b2f0a-2c69-460f-d08f-463c7eedd38a"
      },
      "cell_type": "code",
      "source": [
        "#create a datafrme\n",
        "dataset = pd.read_csv('shampoo.csv')\n",
        "print(dataset.head())\n",
        "dataset.plot()\n",
        "plt.show()"
      ],
      "execution_count": 5,
      "outputs": [
        {
          "output_type": "stream",
          "text": [
            "  Month  Sales of shampoo over a three year period\n",
            "0  1-01                                      266.0\n",
            "1  1-02                                      145.9\n",
            "2  1-03                                      183.1\n",
            "3  1-04                                      119.3\n",
            "4  1-05                                      180.3\n"
          ],
          "name": "stdout"
        },
        {
          "output_type": "display_data",
          "data": {
            "image/png": "[encoded data removed]",
            "text/plain": [
              "<Figure size 576x396 with 1 Axes>"
            ]
          },
          "metadata": {
            "tags": []
          }
        }
      ]
    },
    {
      "metadata": {
        "id": "kzYaMeRtaKlN",
        "colab_type": "text"
      },
      "cell_type": "markdown",
      "source": [
        "Clearly the data is not stationary. It has a trend."
      ]
    },
    {
      "metadata": {
        "id": "Ag8vggE3YaBr",
        "colab_type": "code",
        "colab": {}
      },
      "cell_type": "code",
      "source": [
        "dataset.columns = ['Month','Sales']"
      ],
      "execution_count": 0,
      "outputs": []
    },
    {
      "metadata": {
        "id": "msJ-Z4BQYqlE",
        "colab_type": "code",
        "colab": {
          "base_uri": "https://localhost:8080/",
          "height": 35
        },
        "outputId": "7d8dc6ef-bc24-43fc-b969-ef6b93728896"
      },
      "cell_type": "code",
      "source": [
        "dataset['Month'].dtype"
      ],
      "execution_count": 13,
      "outputs": [
        {
          "output_type": "execute_result",
          "data": {
            "text/plain": [
              "dtype('O')"
            ]
          },
          "metadata": {
            "tags": []
          },
          "execution_count": 13
        }
      ]
    },
    {
      "metadata": {
        "id": "YshXCvF5ZIsn",
        "colab_type": "code",
        "colab": {}
      },
      "cell_type": "code",
      "source": [
        "dataset"
      ],
      "execution_count": 0,
      "outputs": []
    },
    {
      "metadata": {
        "id": "Ziei-mA0ZaWX",
        "colab_type": "code",
        "colab": {}
      },
      "cell_type": "code",
      "source": [
        "dataset.drop(dataset.tail(1).index, inplace = True)"
      ],
      "execution_count": 0,
      "outputs": []
    },
    {
      "metadata": {
        "id": "8eh_ZVHxXZ70",
        "colab_type": "code",
        "colab": {}
      },
      "cell_type": "code",
      "source": [
        "dataset['Month'] = dataset['Month'].apply(lambda x: datetime.strptime('190'+x, '%Y-%m'))"
      ],
      "execution_count": 0,
      "outputs": []
    },
    {
      "metadata": {
        "id": "sMi6GNMzYI0h",
        "colab_type": "code",
        "colab": {
          "base_uri": "https://localhost:8080/",
          "height": 206
        },
        "outputId": "c9a1ef1e-7521-45be-dea0-085b3cef391f"
      },
      "cell_type": "code",
      "source": [
        "dataset.head()"
      ],
      "execution_count": 19,
      "outputs": [
        {
          "output_type": "execute_result",
          "data": {
            "text/html": [
              "<div>\n",
              "<style scoped>\n",
              "    .dataframe tbody tr th:only-of-type {\n",
              "        vertical-align: middle;\n",
              "    }\n",
              "\n",
              "    .dataframe tbody tr th {\n",
              "        vertical-align: top;\n",
              "    }\n",
              "\n",
              "    .dataframe thead th {\n",
              "        text-align: right;\n",
              "    }\n",
              "</style>\n",
              "<table border=\"1\" class=\"dataframe\">\n",
              "  <thead>\n",
              "    <tr style=\"text-align: right;\">\n",
              "      <th></th>\n",
              "      <th>Month</th>\n",
              "      <th>Sales</th>\n",
              "    </tr>\n",
              "  </thead>\n",
              "  <tbody>\n",
              "    <tr>\n",
              "      <th>0</th>\n",
              "      <td>1901-01-01</td>\n",
              "      <td>266.0</td>\n",
              "    </tr>\n",
              "    <tr>\n",
              "      <th>1</th>\n",
              "      <td>1901-02-01</td>\n",
              "      <td>145.9</td>\n",
              "    </tr>\n",
              "    <tr>\n",
              "      <th>2</th>\n",
              "      <td>1901-03-01</td>\n",
              "      <td>183.1</td>\n",
              "    </tr>\n",
              "    <tr>\n",
              "      <th>3</th>\n",
              "      <td>1901-04-01</td>\n",
              "      <td>119.3</td>\n",
              "    </tr>\n",
              "    <tr>\n",
              "      <th>4</th>\n",
              "      <td>1901-05-01</td>\n",
              "      <td>180.3</td>\n",
              "    </tr>\n",
              "  </tbody>\n",
              "</table>\n",
              "</div>"
            ],
            "text/plain": [
              "       Month  Sales\n",
              "0 1901-01-01  266.0\n",
              "1 1901-02-01  145.9\n",
              "2 1901-03-01  183.1\n",
              "3 1901-04-01  119.3\n",
              "4 1901-05-01  180.3"
            ]
          },
          "metadata": {
            "tags": []
          },
          "execution_count": 19
        }
      ]
    },
    {
      "metadata": {
        "id": "HwcG1R3PZwmN",
        "colab_type": "code",
        "colab": {}
      },
      "cell_type": "code",
      "source": [
        "dataset.set_index('Month')"
      ],
      "execution_count": 0,
      "outputs": []
    },
    {
      "metadata": {
        "id": "1VCFVRMuZ7ub",
        "colab_type": "code",
        "colab": {}
      },
      "cell_type": "code",
      "source": [
        "#defining Augmented Dickey Fuller Test\n",
        "def adf_test(time_series):\n",
        "  print('Results of ADF :')\n",
        "  dftest = adfuller(time_series, autolag = 'AIC')\n",
        "  dfoutput = pd.Series(dftest[0:4], index = ['Test Statistics','p-Value','No of Lags Used', 'No of Observations Used'])\n",
        "  for key, value in dftest[4].items():\n",
        "    dfoutput['Critical Values (%s)' %key] = value\n",
        "  print(dfoutput)"
      ],
      "execution_count": 0,
      "outputs": []
    },
    {
      "metadata": {
        "id": "k0DcXMeKdI-m",
        "colab_type": "code",
        "colab": {
          "base_uri": "https://localhost:8080/",
          "height": 182
        },
        "outputId": "5631f11a-2f51-4b0f-92b9-6d5b96217b27"
      },
      "cell_type": "code",
      "source": [
        "adf_test(dataset['Sales'])"
      ],
      "execution_count": 23,
      "outputs": [
        {
          "output_type": "stream",
          "text": [
            "Results of ADF :\n",
            "Test Statistics             3.060142\n",
            "p-Value                     1.000000\n",
            "No of Lags Used            10.000000\n",
            "No of Observations Used    25.000000\n",
            "Critical Values (1%)       -3.723863\n",
            "Critical Values (5%)       -2.986489\n",
            "Critical Values (10%)      -2.632800\n",
            "dtype: float64\n"
          ],
          "name": "stdout"
        }
      ]
    },
    {
      "metadata": {
        "id": "AfLHpS_IeLXz",
        "colab_type": "text"
      },
      "cell_type": "markdown",
      "source": [
        "The results clearly shows that the data is not stationary"
      ]
    },
    {
      "metadata": {
        "id": "v161dULXdNNq",
        "colab_type": "code",
        "colab": {}
      },
      "cell_type": "code",
      "source": [
        "#defining KPSS test\n",
        "def kpss_test(time_series):\n",
        "  print('Results of KPSS test : ')\n",
        "  kptest = kpss(time_series, regression = 'c')\n",
        "  kpoutput = pd.Series(kptest[0:3], index = ['Test Statistics', 'p Value', 'No of Lags Used'])\n",
        "  for key,value in kptest[3].items():\n",
        "    kpoutput['Critical Value at (%s)' %key] = value\n",
        "  print(kpoutput)"
      ],
      "execution_count": 0,
      "outputs": []
    },
    {
      "metadata": {
        "id": "-h0tQiv-fYon",
        "colab_type": "code",
        "colab": {
          "base_uri": "https://localhost:8080/",
          "height": 182
        },
        "outputId": "42aa167a-7dfb-4144-f905-c3f034b8698c"
      },
      "cell_type": "code",
      "source": [
        "kpss_test(dataset['Sales'])"
      ],
      "execution_count": 26,
      "outputs": [
        {
          "output_type": "stream",
          "text": [
            "Results of KPSS test : \n",
            "Test Statistics              0.439388\n",
            "p Value                      0.060178\n",
            "No of Lags Used             10.000000\n",
            "Critical Value at (10%)      0.347000\n",
            "Critical Value at (5%)       0.463000\n",
            "Critical Value at (2.5%)     0.574000\n",
            "Critical Value at (1%)       0.739000\n",
            "dtype: float64\n"
          ],
          "name": "stdout"
        }
      ]
    },
    {
      "metadata": {
        "id": "-5cZRZKrgnno",
        "colab_type": "text"
      },
      "cell_type": "markdown",
      "source": [
        "P value is lesser than the critical values. So the data is not stationary\n"
      ]
    },
    {
      "metadata": {
        "id": "7VadBMyBffuW",
        "colab_type": "code",
        "colab": {
          "base_uri": "https://localhost:8080/",
          "height": 206
        },
        "outputId": "7b0d85e4-d6df-4788-f082-51732aa6d69f"
      },
      "cell_type": "code",
      "source": [
        "#lets make the data stationary by taking log\n",
        "dataset['log_sales'] = dataset['Sales'].apply(lambda x: np.log(x))\n",
        "dataset.head()"
      ],
      "execution_count": 27,
      "outputs": [
        {
          "output_type": "execute_result",
          "data": {
            "text/html": [
              "<div>\n",
              "<style scoped>\n",
              "    .dataframe tbody tr th:only-of-type {\n",
              "        vertical-align: middle;\n",
              "    }\n",
              "\n",
              "    .dataframe tbody tr th {\n",
              "        vertical-align: top;\n",
              "    }\n",
              "\n",
              "    .dataframe thead th {\n",
              "        text-align: right;\n",
              "    }\n",
              "</style>\n",
              "<table border=\"1\" class=\"dataframe\">\n",
              "  <thead>\n",
              "    <tr style=\"text-align: right;\">\n",
              "      <th></th>\n",
              "      <th>Month</th>\n",
              "      <th>Sales</th>\n",
              "      <th>log_sales</th>\n",
              "    </tr>\n",
              "  </thead>\n",
              "  <tbody>\n",
              "    <tr>\n",
              "      <th>0</th>\n",
              "      <td>1901-01-01</td>\n",
              "      <td>266.0</td>\n",
              "      <td>5.583496</td>\n",
              "    </tr>\n",
              "    <tr>\n",
              "      <th>1</th>\n",
              "      <td>1901-02-01</td>\n",
              "      <td>145.9</td>\n",
              "      <td>4.982921</td>\n",
              "    </tr>\n",
              "    <tr>\n",
              "      <th>2</th>\n",
              "      <td>1901-03-01</td>\n",
              "      <td>183.1</td>\n",
              "      <td>5.210032</td>\n",
              "    </tr>\n",
              "    <tr>\n",
              "      <th>3</th>\n",
              "      <td>1901-04-01</td>\n",
              "      <td>119.3</td>\n",
              "      <td>4.781641</td>\n",
              "    </tr>\n",
              "    <tr>\n",
              "      <th>4</th>\n",
              "      <td>1901-05-01</td>\n",
              "      <td>180.3</td>\n",
              "      <td>5.194622</td>\n",
              "    </tr>\n",
              "  </tbody>\n",
              "</table>\n",
              "</div>"
            ],
            "text/plain": [
              "       Month  Sales  log_sales\n",
              "0 1901-01-01  266.0   5.583496\n",
              "1 1901-02-01  145.9   4.982921\n",
              "2 1901-03-01  183.1   5.210032\n",
              "3 1901-04-01  119.3   4.781641\n",
              "4 1901-05-01  180.3   5.194622"
            ]
          },
          "metadata": {
            "tags": []
          },
          "execution_count": 27
        }
      ]
    },
    {
      "metadata": {
        "id": "xqDE-VmVhKxc",
        "colab_type": "code",
        "colab": {
          "base_uri": "https://localhost:8080/",
          "height": 182
        },
        "outputId": "111b0200-1a56-46a0-a167-4cc52201b2a3"
      },
      "cell_type": "code",
      "source": [
        "adf_test(dataset['log_sales'])"
      ],
      "execution_count": 28,
      "outputs": [
        {
          "output_type": "stream",
          "text": [
            "Results of ADF :\n",
            "Test Statistics             1.798463\n",
            "p-Value                     0.998346\n",
            "No of Lags Used            10.000000\n",
            "No of Observations Used    25.000000\n",
            "Critical Values (1%)       -3.723863\n",
            "Critical Values (5%)       -2.986489\n",
            "Critical Values (10%)      -2.632800\n",
            "dtype: float64\n"
          ],
          "name": "stdout"
        }
      ]
    },
    {
      "metadata": {
        "id": "U4fHGPyPhRaw",
        "colab_type": "code",
        "colab": {
          "base_uri": "https://localhost:8080/",
          "height": 182
        },
        "outputId": "f9f0369e-2009-4d28-cb66-4183cbee7ab0"
      },
      "cell_type": "code",
      "source": [
        "kpss_test(dataset['log_sales'])"
      ],
      "execution_count": 29,
      "outputs": [
        {
          "output_type": "stream",
          "text": [
            "Results of KPSS test : \n",
            "Test Statistics              0.441996\n",
            "p Value                      0.059053\n",
            "No of Lags Used             10.000000\n",
            "Critical Value at (10%)      0.347000\n",
            "Critical Value at (5%)       0.463000\n",
            "Critical Value at (2.5%)     0.574000\n",
            "Critical Value at (1%)       0.739000\n",
            "dtype: float64\n"
          ],
          "name": "stdout"
        }
      ]
    },
    {
      "metadata": {
        "id": "hGZqSntWhdMx",
        "colab_type": "text"
      },
      "cell_type": "markdown",
      "source": [
        "The data is still not stationary"
      ]
    },
    {
      "metadata": {
        "id": "e5A4WUvfhp5F",
        "colab_type": "text"
      },
      "cell_type": "markdown",
      "source": [
        "Let's continue without making the data stationary :("
      ]
    },
    {
      "metadata": {
        "id": "3HhIj8xLhYaY",
        "colab_type": "code",
        "colab": {
          "base_uri": "https://localhost:8080/",
          "height": 422
        },
        "outputId": "2b8e7cfa-70eb-47df-a37f-75e3311d290b"
      },
      "cell_type": "code",
      "source": [
        "from pandas.tools.plotting import autocorrelation_plot\n",
        "autocorrelation_plot(dataset['Sales'])\n",
        "plt.show()"
      ],
      "execution_count": 32,
      "outputs": [
        {
          "output_type": "stream",
          "text": [
            "/usr/local/lib/python3.6/dist-packages/ipykernel_launcher.py:2: FutureWarning: 'pandas.tools.plotting.autocorrelation_plot' is deprecated, import 'pandas.plotting.autocorrelation_plot' instead.\n",
            "  \n"
          ],
          "name": "stderr"
        },
        {
          "output_type": "display_data",
          "data": {
            "image/png": "[encoded data removed]",
            "text/plain": [
              "<Figure size 576x396 with 1 Axes>"
            ]
          },
          "metadata": {
            "tags": []
          }
        }
      ]
    },
    {
      "metadata": {
        "id": "X1wV8YoFkS17",
        "colab_type": "code",
        "colab": {}
      },
      "cell_type": "code",
      "source": [
        "dataset.drop('log_sales', axis = 1, inplace = True)"
      ],
      "execution_count": 0,
      "outputs": []
    },
    {
      "metadata": {
        "id": "UGBMbzVVj7rY",
        "colab_type": "code",
        "colab": {}
      },
      "cell_type": "code",
      "source": [
        "data = pd.Series(dataset['Sales'], index=dataset.Month)"
      ],
      "execution_count": 0,
      "outputs": []
    },
    {
      "metadata": {
        "id": "vs0OCFqtiGZ1",
        "colab_type": "code",
        "colab": {
          "base_uri": "https://localhost:8080/",
          "height": 1491
        },
        "outputId": "69d28867-12d0-4eab-c12f-f3c34f914507"
      },
      "cell_type": "code",
      "source": [
        "#creating an ARIMA model\n",
        "model = ARIMA(series, order=(5,1,0))\n",
        "model_fit = model.fit(disp=0)\n",
        "print(model_fit.summary())\n",
        "\n",
        "#plot residual errors\n",
        "residuals = pd.DataFrame(model_fit.resid)\n",
        "residuals.plot()\n",
        "plt.show()\n",
        "residuals.plot(kind='kde')\n",
        "plt.show()\n",
        "print(residuals.describe())"
      ],
      "execution_count": 79,
      "outputs": [
        {
          "output_type": "stream",
          "text": [
            "/usr/local/lib/python3.6/dist-packages/statsmodels/tsa/kalmanf/kalmanfilter.py:646: FutureWarning: Conversion of the second argument of issubdtype from `float` to `np.floating` is deprecated. In future, it will be treated as `np.float64 == np.dtype(float).type`.\n",
            "  if issubdtype(paramsdtype, float):\n",
            "/usr/local/lib/python3.6/dist-packages/statsmodels/tsa/kalmanf/kalmanfilter.py:650: FutureWarning: Conversion of the second argument of issubdtype from `complex` to `np.complexfloating` is deprecated. In future, it will be treated as `np.complex128 == np.dtype(complex).type`.\n",
            "  elif issubdtype(paramsdtype, complex):\n"
          ],
          "name": "stderr"
        },
        {
          "output_type": "stream",
          "text": [
            "                             ARIMA Model Results                              \n",
            "==============================================================================\n",
            "Dep. Variable:                D.Sales   No. Observations:                   35\n",
            "Model:                 ARIMA(5, 1, 0)   Log Likelihood                -196.170\n",
            "Method:                       css-mle   S.D. of innovations             64.241\n",
            "Date:                Sat, 16 Feb 2019   AIC                            406.340\n",
            "Time:                        23:46:52   BIC                            417.227\n",
            "Sample:                    01-02-2019   HQIC                           410.098\n",
            "                         - 03-12-2019                                         \n",
            "=================================================================================\n",
            "                    coef    std err          z      P>|z|      [0.025      0.975]\n",
            "---------------------------------------------------------------------------------\n",
            "const            12.0649      3.652      3.304      0.003       4.908      19.222\n",
            "ar.L1.D.Sales    -1.1082      0.183     -6.063      0.000      -1.466      -0.750\n",
            "ar.L2.D.Sales    -0.6203      0.282     -2.203      0.036      -1.172      -0.068\n",
            "ar.L3.D.Sales    -0.3606      0.295     -1.222      0.231      -0.939       0.218\n",
            "ar.L4.D.Sales    -0.1252      0.280     -0.447      0.658      -0.674       0.424\n",
            "ar.L5.D.Sales     0.1289      0.191      0.673      0.506      -0.246       0.504\n",
            "                                    Roots                                    \n",
            "=============================================================================\n",
            "                 Real           Imaginary           Modulus         Frequency\n",
            "-----------------------------------------------------------------------------\n",
            "AR.1           -1.0617           -0.5064j            1.1763           -0.4292\n",
            "AR.2           -1.0617           +0.5064j            1.1763            0.4292\n",
            "AR.3            0.0816           -1.3804j            1.3828           -0.2406\n",
            "AR.4            0.0816           +1.3804j            1.3828            0.2406\n",
            "AR.5            2.9315           -0.0000j            2.9315           -0.0000\n",
            "-----------------------------------------------------------------------------\n"
          ],
          "name": "stdout"
        },
        {
          "output_type": "stream",
          "text": [
            "/usr/local/lib/python3.6/dist-packages/statsmodels/tsa/kalmanf/kalmanfilter.py:577: FutureWarning: Conversion of the second argument of issubdtype from `float` to `np.floating` is deprecated. In future, it will be treated as `np.float64 == np.dtype(float).type`.\n",
            "  if issubdtype(paramsdtype, float):\n"
          ],
          "name": "stderr"
        },
        {
          "output_type": "display_data",
          "data": {
            "image/png": "[encoded data removed]",
            "text/plain": [
              "<Figure size 576x396 with 1 Axes>"
            ]
          },
          "metadata": {
            "tags": []
          }
        },
        {
          "output_type": "display_data",
          "data": {
            "image/png": "[encoded data removed]",
            "text/plain": [
              "<Figure size 576x396 with 1 Axes>"
            ]
          },
          "metadata": {
            "tags": []
          }
        },
        {
          "output_type": "stream",
          "text": [
            "                0\n",
            "count   35.000000\n",
            "mean    -5.495314\n",
            "std     68.132875\n",
            "min   -133.296699\n",
            "25%    -42.477969\n",
            "50%     -7.186746\n",
            "75%     24.748228\n",
            "max    133.237885\n"
          ],
          "name": "stdout"
        }
      ]
    }
  ]
}
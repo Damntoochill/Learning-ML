{
  "nbformat": 4,
  "nbformat_minor": 0,
  "metadata": {
    "colab": {
      "name": "Tensorflow_LogisticRegression.ipynb",
      "version": "0.3.2",
      "provenance": [],
      "include_colab_link": true
    },
    "kernelspec": {
      "name": "python3",
      "display_name": "Python 3"
    }
  },
  "cells": [
    {
      "cell_type": "markdown",
      "metadata": {
        "id": "view-in-github",
        "colab_type": "text"
      },
      "source": [
        "<a href=\"https://colab.research.google.com/github/Damntoochill/Learning-ML/blob/master/Tensorflow_Logistic_Regression.ipynb\" target=\"_parent\"><img src=\"https://colab.research.google.com/assets/colab-badge.svg\" alt=\"Open In Colab\"/></a>"
      ]
    },
    {
      "metadata": {
        "id": "SA9Ty8F8ZTNS",
        "colab_type": "code",
        "colab": {}
      },
      "cell_type": "code",
      "source": [
        "import tensorflow as tf\n",
        "import numpy as np\n",
        "import matplotlib.pyplot as plt"
      ],
      "execution_count": 0,
      "outputs": []
    },
    {
      "metadata": {
        "id": "bfqnT6eSuCLB",
        "colab_type": "code",
        "colab": {}
      },
      "cell_type": "code",
      "source": [
        "N = 20000 # The number of samples\n",
        "\n",
        "def sigmoid(x):\n",
        "  return 1/(1+np.exp(-x))\n",
        "\n",
        "#Create some random data\n",
        "\n",
        "x = np.random.randn(N,3) #No of rows = 20000, No of features = 3\n",
        "\n",
        "w = [0.3,0.5,0.1] # No of weights should be equal to the no of features\n",
        "\n",
        "b = -0.4\n",
        "\n",
        "z = np.matmul(w,x.T) + b\n",
        "\n",
        "y_pre_noise = sigmoid(z)\n",
        "\n",
        "y = np.random.binomial(1,y_pre_noise)\n",
        "\n"
      ],
      "execution_count": 0,
      "outputs": []
    },
    {
      "metadata": {
        "id": "bw8yWyyTFzcy",
        "colab_type": "code",
        "colab": {
          "base_uri": "https://localhost:8080/",
          "height": 35
        },
        "outputId": "1a06237b-4e3e-4190-99e5-9cf2d3046449"
      },
      "cell_type": "code",
      "source": [
        "z.shape"
      ],
      "execution_count": 18,
      "outputs": [
        {
          "output_type": "execute_result",
          "data": {
            "text/plain": [
              "(20000,)"
            ]
          },
          "metadata": {
            "tags": []
          },
          "execution_count": 18
        }
      ]
    },
    {
      "metadata": {
        "id": "PvhTDNYWwCl_",
        "colab_type": "code",
        "colab": {
          "base_uri": "https://localhost:8080/",
          "height": 347
        },
        "outputId": "0af20813-c1de-49f6-9e66-bd8fb5a2614d"
      },
      "cell_type": "code",
      "source": [
        "plt.scatter(z,y_pre_noise)\n",
        "plt.show()"
      ],
      "execution_count": 23,
      "outputs": [
        {
          "output_type": "display_data",
          "data": {
            "image/png": "[encoded data removed]",
            "text/plain": [
              "<Figure size 576x396 with 1 Axes>"
            ]
          },
          "metadata": {
            "tags": []
          }
        }
      ]
    },
    {
      "metadata": {
        "id": "asqiLOV041kD",
        "colab_type": "code",
        "colab": {
          "base_uri": "https://localhost:8080/",
          "height": 347
        },
        "outputId": "a76e1cea-f3dd-4771-8d0a-ae80fec0f179"
      },
      "cell_type": "code",
      "source": [
        "plt.scatter(z,y)\n",
        "plt.show()"
      ],
      "execution_count": 24,
      "outputs": [
        {
          "output_type": "display_data",
          "data": {
            "image/png": "[encoded data removed]",
            "text/plain": [
              "<Figure size 576x396 with 1 Axes>"
            ]
          },
          "metadata": {
            "tags": []
          }
        }
      ]
    },
    {
      "metadata": {
        "id": "nNyzrj2C-GeW",
        "colab_type": "code",
        "colab": {
          "base_uri": "https://localhost:8080/",
          "height": 239
        },
        "outputId": "329c22a4-340b-43b4-8704-cf09c95cb817"
      },
      "cell_type": "code",
      "source": [
        "iterations = 50\n",
        "\n",
        "wb_ = [] #empty list to store the values of weights\n",
        "\n",
        "g = tf.Graph()#creating a graph\n",
        "\n",
        "with g.as_default():\n",
        "  x_node = tf.placeholder(tf.float32, shape = [None,3])\n",
        "  y_node = tf.placeholder(tf.float32, shape = None)\n",
        "  \n",
        "  with tf.name_scope('inferences') as scope:\n",
        "    w_node = tf.Variable([[0,0,0]], dtype = tf.float32, name = 'weights')\n",
        "    b_node = tf.Variable(0, dtype = tf.float32, name = 'bias')\n",
        "    z_node = tf.matmul(w_node, tf.transpose(x_node)) + b_node\n",
        "    \n",
        "  with tf.name_scope('loss') as scope:\n",
        "    loss = tf.nn.sigmoid_cross_entropy_with_logits(labels = y_node, logits = z_node)\n",
        "    loss = tf.reduce_mean(loss)\n",
        "    \n",
        "  with tf.name_scope('train') as scope:\n",
        "    learning_rate = 0.3\n",
        "    optimizer = tf.train.GradientDescentOptimizer(learning_rate)\n",
        "    train = optimizer.minimize(loss)\n",
        "    \n",
        "  #initializing the variables \n",
        "  init = tf.global_variables_initializer()\n",
        "  with tf.Session() as sess:\n",
        "    sess.run(init)\n",
        "    for iters in range(iterations):\n",
        "      sess.run(train, {x_node:x, y_node:y})\n",
        "      if(iters%5 == 0):\n",
        "        print(iters,sess.run([w_node,b_node]))\n",
        "        wb_.append(sess.run([w_node,b_node]))\n",
        "      \n",
        "    print(50,sess.run([w_node,b_node]))"
      ],
      "execution_count": 21,
      "outputs": [
        {
          "output_type": "stream",
          "text": [
            "0 [array([[0.01985412, 0.03508339, 0.00758942]], dtype=float32), -0.026399974]\n",
            "5 [array([[0.09897294, 0.17424357, 0.03808652]], dtype=float32), -0.1316262]\n",
            "10 [array([[0.15328427, 0.26901546, 0.05932533]], dtype=float32), -0.20372571]\n",
            "15 [array([[0.19134663, 0.33494133, 0.07441823]], dtype=float32), -0.25397947]\n",
            "20 [array([[0.2185201 , 0.38168427, 0.08533625]], dtype=float32), -0.2895594]\n",
            "25 [array([[0.23819962, 0.41532204, 0.09334149]], dtype=float32), -0.31506634]\n",
            "30 [array([[0.2526036 , 0.43979844, 0.09926851]], dtype=float32), -0.33352777]\n",
            "35 [array([[0.26322794, 0.45775452, 0.10368717]], dtype=float32), -0.34698728]\n",
            "40 [array([[0.27110836, 0.47100642, 0.10699727]], dtype=float32), -0.35685453]\n",
            "45 [array([[0.2769772 , 0.48082975, 0.10948517]], dtype=float32), -0.36411902]\n",
            "50 [array([[0.28058282, 0.48684096, 0.11102558]], dtype=float32), -0.36853698]\n"
          ],
          "name": "stdout"
        }
      ]
    },
    {
      "metadata": {
        "id": "-QwRO_o-HOU4",
        "colab_type": "code",
        "colab": {}
      },
      "cell_type": "code",
      "source": [
        ""
      ],
      "execution_count": 0,
      "outputs": []
    }
  ]
}
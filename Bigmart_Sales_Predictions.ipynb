{
  "nbformat": 4,
  "nbformat_minor": 0,
  "metadata": {
    "colab": {
      "name": "Bigmart_Sales_Predictions.ipynb",
      "version": "0.3.2",
      "provenance": [],
      "include_colab_link": true
    },
    "kernelspec": {
      "name": "python3",
      "display_name": "Python 3"
    }
  },
  "cells": [
    {
      "cell_type": "markdown",
      "metadata": {
        "id": "view-in-github",
        "colab_type": "text"
      },
      "source": [
        "<a href=\"https://colab.research.google.com/github/GopiMindgloer/Machine_Learning/blob/master/Bigmart_Sales_Predictions.ipynb\" target=\"_parent\"><img src=\"https://colab.research.google.com/assets/colab-badge.svg\" alt=\"Open In Colab\"/></a>"
      ]
    },
    {
      "metadata": {
        "id": "wHtjJyeHC8rD",
        "colab_type": "text"
      },
      "cell_type": "markdown",
      "source": [
        "#Bigmart Sales Prediction"
      ]
    },
    {
      "metadata": {
        "id": "96fHXcAiCzby",
        "colab_type": "code",
        "colab": {}
      },
      "cell_type": "code",
      "source": [
        "#importing the required packages\n",
        "import pandas as pd\n",
        "import seaborn as sns\n",
        "import math\n",
        "import matplotlib.pyplot as plt\n",
        "import numpy as np\n",
        "import sklearn.metrics"
      ],
      "execution_count": 0,
      "outputs": []
    },
    {
      "metadata": {
        "id": "TvxsRT9PDrvk",
        "colab_type": "code",
        "colab": {}
      },
      "cell_type": "code",
      "source": [
        "#getting the dataset\n",
        "from google.colab import files\n",
        "files.upload()"
      ],
      "execution_count": 0,
      "outputs": []
    },
    {
      "metadata": {
        "id": "g5PcTAHWDv9p",
        "colab_type": "text"
      },
      "cell_type": "markdown",
      "source": [
        "##Exploratory Data Analysis"
      ]
    },
    {
      "metadata": {
        "id": "UOcCUn6yDvhp",
        "colab_type": "code",
        "colab": {}
      },
      "cell_type": "code",
      "source": [
        "#creating dataframes\n",
        "df1 = pd.read_csv('Train.csv')\n",
        "df2 = pd.read_csv('Test.csv')\n",
        "df1['source'] = 'train'\n",
        "df2['source'] = 'test'"
      ],
      "execution_count": 0,
      "outputs": []
    },
    {
      "metadata": {
        "id": "__kST2sgcuqa",
        "colab_type": "code",
        "colab": {
          "base_uri": "https://localhost:8080/",
          "height": 312
        },
        "outputId": "a90e8f5e-d278-41d1-e2e9-b561ac491590"
      },
      "cell_type": "code",
      "source": [
        "df2.info()"
      ],
      "execution_count": 145,
      "outputs": [
        {
          "output_type": "stream",
          "text": [
            "<class 'pandas.core.frame.DataFrame'>\n",
            "RangeIndex: 5681 entries, 0 to 5680\n",
            "Data columns (total 12 columns):\n",
            "Item_Identifier              5681 non-null object\n",
            "Item_Weight                  4705 non-null float64\n",
            "Item_Fat_Content             5681 non-null object\n",
            "Item_Visibility              5681 non-null float64\n",
            "Item_Type                    5681 non-null object\n",
            "Item_MRP                     5681 non-null float64\n",
            "Outlet_Identifier            5681 non-null object\n",
            "Outlet_Establishment_Year    5681 non-null int64\n",
            "Outlet_Size                  4075 non-null object\n",
            "Outlet_Location_Type         5681 non-null object\n",
            "Outlet_Type                  5681 non-null object\n",
            "source                       5681 non-null object\n",
            "dtypes: float64(3), int64(1), object(8)\n",
            "memory usage: 532.7+ KB\n"
          ],
          "name": "stdout"
        }
      ]
    },
    {
      "metadata": {
        "id": "wp1JYrMFG2KK",
        "colab_type": "code",
        "colab": {}
      },
      "cell_type": "code",
      "source": [
        "#Combining the test and train dataset\n",
        "dataset = pd.concat([df1,df2],ignore_index = True) "
      ],
      "execution_count": 0,
      "outputs": []
    },
    {
      "metadata": {
        "id": "lUFRQeBMHP0t",
        "colab_type": "code",
        "colab": {
          "base_uri": "https://localhost:8080/",
          "height": 313
        },
        "outputId": "48f10c65-0bd6-4325-a0c4-1484dc56890a"
      },
      "cell_type": "code",
      "source": [
        "dataset.head()"
      ],
      "execution_count": 7,
      "outputs": [
        {
          "output_type": "execute_result",
          "data": {
            "text/html": [
              "<div>\n",
              "<style scoped>\n",
              "    .dataframe tbody tr th:only-of-type {\n",
              "        vertical-align: middle;\n",
              "    }\n",
              "\n",
              "    .dataframe tbody tr th {\n",
              "        vertical-align: top;\n",
              "    }\n",
              "\n",
              "    .dataframe thead th {\n",
              "        text-align: right;\n",
              "    }\n",
              "</style>\n",
              "<table border=\"1\" class=\"dataframe\">\n",
              "  <thead>\n",
              "    <tr style=\"text-align: right;\">\n",
              "      <th></th>\n",
              "      <th>Item_Fat_Content</th>\n",
              "      <th>Item_Identifier</th>\n",
              "      <th>Item_MRP</th>\n",
              "      <th>Item_Outlet_Sales</th>\n",
              "      <th>Item_Type</th>\n",
              "      <th>Item_Visibility</th>\n",
              "      <th>Item_Weight</th>\n",
              "      <th>Outlet_Establishment_Year</th>\n",
              "      <th>Outlet_Identifier</th>\n",
              "      <th>Outlet_Location_Type</th>\n",
              "      <th>Outlet_Size</th>\n",
              "      <th>Outlet_Type</th>\n",
              "    </tr>\n",
              "  </thead>\n",
              "  <tbody>\n",
              "    <tr>\n",
              "      <th>0</th>\n",
              "      <td>Low Fat</td>\n",
              "      <td>FDA15</td>\n",
              "      <td>249.8092</td>\n",
              "      <td>3735.1380</td>\n",
              "      <td>Dairy</td>\n",
              "      <td>0.016047</td>\n",
              "      <td>9.30</td>\n",
              "      <td>1999</td>\n",
              "      <td>OUT049</td>\n",
              "      <td>Tier 1</td>\n",
              "      <td>Medium</td>\n",
              "      <td>Supermarket Type1</td>\n",
              "    </tr>\n",
              "    <tr>\n",
              "      <th>1</th>\n",
              "      <td>Regular</td>\n",
              "      <td>DRC01</td>\n",
              "      <td>48.2692</td>\n",
              "      <td>443.4228</td>\n",
              "      <td>Soft Drinks</td>\n",
              "      <td>0.019278</td>\n",
              "      <td>5.92</td>\n",
              "      <td>2009</td>\n",
              "      <td>OUT018</td>\n",
              "      <td>Tier 3</td>\n",
              "      <td>Medium</td>\n",
              "      <td>Supermarket Type2</td>\n",
              "    </tr>\n",
              "    <tr>\n",
              "      <th>2</th>\n",
              "      <td>Low Fat</td>\n",
              "      <td>FDN15</td>\n",
              "      <td>141.6180</td>\n",
              "      <td>2097.2700</td>\n",
              "      <td>Meat</td>\n",
              "      <td>0.016760</td>\n",
              "      <td>17.50</td>\n",
              "      <td>1999</td>\n",
              "      <td>OUT049</td>\n",
              "      <td>Tier 1</td>\n",
              "      <td>Medium</td>\n",
              "      <td>Supermarket Type1</td>\n",
              "    </tr>\n",
              "    <tr>\n",
              "      <th>3</th>\n",
              "      <td>Regular</td>\n",
              "      <td>FDX07</td>\n",
              "      <td>182.0950</td>\n",
              "      <td>732.3800</td>\n",
              "      <td>Fruits and Vegetables</td>\n",
              "      <td>0.000000</td>\n",
              "      <td>19.20</td>\n",
              "      <td>1998</td>\n",
              "      <td>OUT010</td>\n",
              "      <td>Tier 3</td>\n",
              "      <td>NaN</td>\n",
              "      <td>Grocery Store</td>\n",
              "    </tr>\n",
              "    <tr>\n",
              "      <th>4</th>\n",
              "      <td>Low Fat</td>\n",
              "      <td>NCD19</td>\n",
              "      <td>53.8614</td>\n",
              "      <td>994.7052</td>\n",
              "      <td>Household</td>\n",
              "      <td>0.000000</td>\n",
              "      <td>8.93</td>\n",
              "      <td>1987</td>\n",
              "      <td>OUT013</td>\n",
              "      <td>Tier 3</td>\n",
              "      <td>High</td>\n",
              "      <td>Supermarket Type1</td>\n",
              "    </tr>\n",
              "  </tbody>\n",
              "</table>\n",
              "</div>"
            ],
            "text/plain": [
              "  Item_Fat_Content Item_Identifier  Item_MRP  Item_Outlet_Sales  \\\n",
              "0          Low Fat           FDA15  249.8092          3735.1380   \n",
              "1          Regular           DRC01   48.2692           443.4228   \n",
              "2          Low Fat           FDN15  141.6180          2097.2700   \n",
              "3          Regular           FDX07  182.0950           732.3800   \n",
              "4          Low Fat           NCD19   53.8614           994.7052   \n",
              "\n",
              "               Item_Type  Item_Visibility  Item_Weight  \\\n",
              "0                  Dairy         0.016047         9.30   \n",
              "1            Soft Drinks         0.019278         5.92   \n",
              "2                   Meat         0.016760        17.50   \n",
              "3  Fruits and Vegetables         0.000000        19.20   \n",
              "4              Household         0.000000         8.93   \n",
              "\n",
              "   Outlet_Establishment_Year Outlet_Identifier Outlet_Location_Type  \\\n",
              "0                       1999            OUT049               Tier 1   \n",
              "1                       2009            OUT018               Tier 3   \n",
              "2                       1999            OUT049               Tier 1   \n",
              "3                       1998            OUT010               Tier 3   \n",
              "4                       1987            OUT013               Tier 3   \n",
              "\n",
              "  Outlet_Size        Outlet_Type  \n",
              "0      Medium  Supermarket Type1  \n",
              "1      Medium  Supermarket Type2  \n",
              "2      Medium  Supermarket Type1  \n",
              "3         NaN      Grocery Store  \n",
              "4        High  Supermarket Type1  "
            ]
          },
          "metadata": {
            "tags": []
          },
          "execution_count": 7
        }
      ]
    },
    {
      "metadata": {
        "id": "vWXVWZJGHSOZ",
        "colab_type": "code",
        "colab": {
          "base_uri": "https://localhost:8080/",
          "height": 330
        },
        "outputId": "87f576cd-73d7-433f-d3aa-21a7c50c693b"
      },
      "cell_type": "code",
      "source": [
        "dataset.tail()"
      ],
      "execution_count": 9,
      "outputs": [
        {
          "output_type": "execute_result",
          "data": {
            "text/html": [
              "<div>\n",
              "<style scoped>\n",
              "    .dataframe tbody tr th:only-of-type {\n",
              "        vertical-align: middle;\n",
              "    }\n",
              "\n",
              "    .dataframe tbody tr th {\n",
              "        vertical-align: top;\n",
              "    }\n",
              "\n",
              "    .dataframe thead th {\n",
              "        text-align: right;\n",
              "    }\n",
              "</style>\n",
              "<table border=\"1\" class=\"dataframe\">\n",
              "  <thead>\n",
              "    <tr style=\"text-align: right;\">\n",
              "      <th></th>\n",
              "      <th>Item_Fat_Content</th>\n",
              "      <th>Item_Identifier</th>\n",
              "      <th>Item_MRP</th>\n",
              "      <th>Item_Outlet_Sales</th>\n",
              "      <th>Item_Type</th>\n",
              "      <th>Item_Visibility</th>\n",
              "      <th>Item_Weight</th>\n",
              "      <th>Outlet_Establishment_Year</th>\n",
              "      <th>Outlet_Identifier</th>\n",
              "      <th>Outlet_Location_Type</th>\n",
              "      <th>Outlet_Size</th>\n",
              "      <th>Outlet_Type</th>\n",
              "    </tr>\n",
              "  </thead>\n",
              "  <tbody>\n",
              "    <tr>\n",
              "      <th>14199</th>\n",
              "      <td>Regular</td>\n",
              "      <td>FDB58</td>\n",
              "      <td>141.3154</td>\n",
              "      <td>NaN</td>\n",
              "      <td>Snack Foods</td>\n",
              "      <td>0.013496</td>\n",
              "      <td>10.5</td>\n",
              "      <td>1997</td>\n",
              "      <td>OUT046</td>\n",
              "      <td>Tier 1</td>\n",
              "      <td>Small</td>\n",
              "      <td>Supermarket Type1</td>\n",
              "    </tr>\n",
              "    <tr>\n",
              "      <th>14200</th>\n",
              "      <td>Regular</td>\n",
              "      <td>FDD47</td>\n",
              "      <td>169.1448</td>\n",
              "      <td>NaN</td>\n",
              "      <td>Starchy Foods</td>\n",
              "      <td>0.142991</td>\n",
              "      <td>7.6</td>\n",
              "      <td>2009</td>\n",
              "      <td>OUT018</td>\n",
              "      <td>Tier 3</td>\n",
              "      <td>Medium</td>\n",
              "      <td>Supermarket Type2</td>\n",
              "    </tr>\n",
              "    <tr>\n",
              "      <th>14201</th>\n",
              "      <td>Low Fat</td>\n",
              "      <td>NCO17</td>\n",
              "      <td>118.7440</td>\n",
              "      <td>NaN</td>\n",
              "      <td>Health and Hygiene</td>\n",
              "      <td>0.073529</td>\n",
              "      <td>10.0</td>\n",
              "      <td>2002</td>\n",
              "      <td>OUT045</td>\n",
              "      <td>Tier 2</td>\n",
              "      <td>NaN</td>\n",
              "      <td>Supermarket Type1</td>\n",
              "    </tr>\n",
              "    <tr>\n",
              "      <th>14202</th>\n",
              "      <td>Regular</td>\n",
              "      <td>FDJ26</td>\n",
              "      <td>214.6218</td>\n",
              "      <td>NaN</td>\n",
              "      <td>Canned</td>\n",
              "      <td>0.000000</td>\n",
              "      <td>15.3</td>\n",
              "      <td>2007</td>\n",
              "      <td>OUT017</td>\n",
              "      <td>Tier 2</td>\n",
              "      <td>NaN</td>\n",
              "      <td>Supermarket Type1</td>\n",
              "    </tr>\n",
              "    <tr>\n",
              "      <th>14203</th>\n",
              "      <td>Regular</td>\n",
              "      <td>FDU37</td>\n",
              "      <td>79.7960</td>\n",
              "      <td>NaN</td>\n",
              "      <td>Canned</td>\n",
              "      <td>0.104720</td>\n",
              "      <td>9.5</td>\n",
              "      <td>2002</td>\n",
              "      <td>OUT045</td>\n",
              "      <td>Tier 2</td>\n",
              "      <td>NaN</td>\n",
              "      <td>Supermarket Type1</td>\n",
              "    </tr>\n",
              "  </tbody>\n",
              "</table>\n",
              "</div>"
            ],
            "text/plain": [
              "      Item_Fat_Content Item_Identifier  Item_MRP  Item_Outlet_Sales  \\\n",
              "14199          Regular           FDB58  141.3154                NaN   \n",
              "14200          Regular           FDD47  169.1448                NaN   \n",
              "14201          Low Fat           NCO17  118.7440                NaN   \n",
              "14202          Regular           FDJ26  214.6218                NaN   \n",
              "14203          Regular           FDU37   79.7960                NaN   \n",
              "\n",
              "                Item_Type  Item_Visibility  Item_Weight  \\\n",
              "14199         Snack Foods         0.013496         10.5   \n",
              "14200       Starchy Foods         0.142991          7.6   \n",
              "14201  Health and Hygiene         0.073529         10.0   \n",
              "14202              Canned         0.000000         15.3   \n",
              "14203              Canned         0.104720          9.5   \n",
              "\n",
              "       Outlet_Establishment_Year Outlet_Identifier Outlet_Location_Type  \\\n",
              "14199                       1997            OUT046               Tier 1   \n",
              "14200                       2009            OUT018               Tier 3   \n",
              "14201                       2002            OUT045               Tier 2   \n",
              "14202                       2007            OUT017               Tier 2   \n",
              "14203                       2002            OUT045               Tier 2   \n",
              "\n",
              "      Outlet_Size        Outlet_Type  \n",
              "14199       Small  Supermarket Type1  \n",
              "14200      Medium  Supermarket Type2  \n",
              "14201         NaN  Supermarket Type1  \n",
              "14202         NaN  Supermarket Type1  \n",
              "14203         NaN  Supermarket Type1  "
            ]
          },
          "metadata": {
            "tags": []
          },
          "execution_count": 9
        }
      ]
    },
    {
      "metadata": {
        "id": "yhljucI9HnK6",
        "colab_type": "code",
        "colab": {
          "base_uri": "https://localhost:8080/",
          "height": 243
        },
        "outputId": "a4a01b21-d7e3-4b0e-bdc2-b22389aba45e"
      },
      "cell_type": "code",
      "source": [
        "#Checking for missing data points\n",
        "dataset.apply(lambda x: sum(x.isnull())) # or dataset.isnull().sum()"
      ],
      "execution_count": 11,
      "outputs": [
        {
          "output_type": "execute_result",
          "data": {
            "text/plain": [
              "Item_Fat_Content                0\n",
              "Item_Identifier                 0\n",
              "Item_MRP                        0\n",
              "Item_Outlet_Sales            5681\n",
              "Item_Type                       0\n",
              "Item_Visibility                 0\n",
              "Item_Weight                  2439\n",
              "Outlet_Establishment_Year       0\n",
              "Outlet_Identifier               0\n",
              "Outlet_Location_Type            0\n",
              "Outlet_Size                  4016\n",
              "Outlet_Type                     0\n",
              "dtype: int64"
            ]
          },
          "metadata": {
            "tags": []
          },
          "execution_count": 11
        }
      ]
    },
    {
      "metadata": {
        "id": "mPucxtYoIvtZ",
        "colab_type": "text"
      },
      "cell_type": "markdown",
      "source": [
        "5681 missing outlet sales is due to the test dataset which we have to find. So we need to either eliminate or impute the missing data in outlet size and item weight"
      ]
    },
    {
      "metadata": {
        "id": "-KdzMbIjIUer",
        "colab_type": "code",
        "colab": {
          "base_uri": "https://localhost:8080/",
          "height": 463
        },
        "outputId": "56e2b1ca-61ab-442c-bd69-bb54d2971521"
      },
      "cell_type": "code",
      "source": [
        "#Visually representing the missing data\n",
        "sns.heatmap(dataset.isnull(), yticklabels = False)\n",
        "plt.show()"
      ],
      "execution_count": 12,
      "outputs": [
        {
          "output_type": "display_data",
          "data": {
            "image/png": "[encoded data removed]",
            "text/plain": [
              "<Figure size 576x396 with 2 Axes>"
            ]
          },
          "metadata": {
            "tags": []
          }
        }
      ]
    },
    {
      "metadata": {
        "id": "1pUePE7MJrGI",
        "colab_type": "code",
        "colab": {
          "base_uri": "https://localhost:8080/",
          "height": 300
        },
        "outputId": "d8cf5920-ea0e-407d-c164-06a707cc3ffb"
      },
      "cell_type": "code",
      "source": [
        "#Numerical Variable Exploration\n",
        "dataset.describe()"
      ],
      "execution_count": 13,
      "outputs": [
        {
          "output_type": "execute_result",
          "data": {
            "text/html": [
              "<div>\n",
              "<style scoped>\n",
              "    .dataframe tbody tr th:only-of-type {\n",
              "        vertical-align: middle;\n",
              "    }\n",
              "\n",
              "    .dataframe tbody tr th {\n",
              "        vertical-align: top;\n",
              "    }\n",
              "\n",
              "    .dataframe thead th {\n",
              "        text-align: right;\n",
              "    }\n",
              "</style>\n",
              "<table border=\"1\" class=\"dataframe\">\n",
              "  <thead>\n",
              "    <tr style=\"text-align: right;\">\n",
              "      <th></th>\n",
              "      <th>Item_MRP</th>\n",
              "      <th>Item_Outlet_Sales</th>\n",
              "      <th>Item_Visibility</th>\n",
              "      <th>Item_Weight</th>\n",
              "      <th>Outlet_Establishment_Year</th>\n",
              "    </tr>\n",
              "  </thead>\n",
              "  <tbody>\n",
              "    <tr>\n",
              "      <th>count</th>\n",
              "      <td>14204.000000</td>\n",
              "      <td>8523.000000</td>\n",
              "      <td>14204.000000</td>\n",
              "      <td>11765.000000</td>\n",
              "      <td>14204.000000</td>\n",
              "    </tr>\n",
              "    <tr>\n",
              "      <th>mean</th>\n",
              "      <td>141.004977</td>\n",
              "      <td>2181.288914</td>\n",
              "      <td>0.065953</td>\n",
              "      <td>12.792854</td>\n",
              "      <td>1997.830681</td>\n",
              "    </tr>\n",
              "    <tr>\n",
              "      <th>std</th>\n",
              "      <td>62.086938</td>\n",
              "      <td>1706.499616</td>\n",
              "      <td>0.051459</td>\n",
              "      <td>4.652502</td>\n",
              "      <td>8.371664</td>\n",
              "    </tr>\n",
              "    <tr>\n",
              "      <th>min</th>\n",
              "      <td>31.290000</td>\n",
              "      <td>33.290000</td>\n",
              "      <td>0.000000</td>\n",
              "      <td>4.555000</td>\n",
              "      <td>1985.000000</td>\n",
              "    </tr>\n",
              "    <tr>\n",
              "      <th>25%</th>\n",
              "      <td>94.012000</td>\n",
              "      <td>834.247400</td>\n",
              "      <td>0.027036</td>\n",
              "      <td>8.710000</td>\n",
              "      <td>1987.000000</td>\n",
              "    </tr>\n",
              "    <tr>\n",
              "      <th>50%</th>\n",
              "      <td>142.247000</td>\n",
              "      <td>1794.331000</td>\n",
              "      <td>0.054021</td>\n",
              "      <td>12.600000</td>\n",
              "      <td>1999.000000</td>\n",
              "    </tr>\n",
              "    <tr>\n",
              "      <th>75%</th>\n",
              "      <td>185.855600</td>\n",
              "      <td>3101.296400</td>\n",
              "      <td>0.094037</td>\n",
              "      <td>16.750000</td>\n",
              "      <td>2004.000000</td>\n",
              "    </tr>\n",
              "    <tr>\n",
              "      <th>max</th>\n",
              "      <td>266.888400</td>\n",
              "      <td>13086.964800</td>\n",
              "      <td>0.328391</td>\n",
              "      <td>21.350000</td>\n",
              "      <td>2009.000000</td>\n",
              "    </tr>\n",
              "  </tbody>\n",
              "</table>\n",
              "</div>"
            ],
            "text/plain": [
              "           Item_MRP  Item_Outlet_Sales  Item_Visibility   Item_Weight  \\\n",
              "count  14204.000000        8523.000000     14204.000000  11765.000000   \n",
              "mean     141.004977        2181.288914         0.065953     12.792854   \n",
              "std       62.086938        1706.499616         0.051459      4.652502   \n",
              "min       31.290000          33.290000         0.000000      4.555000   \n",
              "25%       94.012000         834.247400         0.027036      8.710000   \n",
              "50%      142.247000        1794.331000         0.054021     12.600000   \n",
              "75%      185.855600        3101.296400         0.094037     16.750000   \n",
              "max      266.888400       13086.964800         0.328391     21.350000   \n",
              "\n",
              "       Outlet_Establishment_Year  \n",
              "count               14204.000000  \n",
              "mean                 1997.830681  \n",
              "std                     8.371664  \n",
              "min                  1985.000000  \n",
              "25%                  1987.000000  \n",
              "50%                  1999.000000  \n",
              "75%                  2004.000000  \n",
              "max                  2009.000000  "
            ]
          },
          "metadata": {
            "tags": []
          },
          "execution_count": 13
        }
      ]
    },
    {
      "metadata": {
        "id": "IGmvP2O7Ktix",
        "colab_type": "text"
      },
      "cell_type": "markdown",
      "source": [
        "Inference :\n",
        "I couldn't infer anything useful since this is my first time."
      ]
    },
    {
      "metadata": {
        "id": "9yF7vbFBKOG1",
        "colab_type": "code",
        "colab": {
          "base_uri": "https://localhost:8080/",
          "height": 243
        },
        "outputId": "542baca2-39fe-4b46-b695-899d376cddb8"
      },
      "cell_type": "code",
      "source": [
        "#Categorical Variables Exploration\n",
        "dataset.apply(lambda x : len(x.unique()))"
      ],
      "execution_count": 15,
      "outputs": [
        {
          "output_type": "execute_result",
          "data": {
            "text/plain": [
              "Item_Fat_Content                 5\n",
              "Item_Identifier               1559\n",
              "Item_MRP                      8052\n",
              "Item_Outlet_Sales             3494\n",
              "Item_Type                       16\n",
              "Item_Visibility              13006\n",
              "Item_Weight                    416\n",
              "Outlet_Establishment_Year        9\n",
              "Outlet_Identifier               10\n",
              "Outlet_Location_Type             3\n",
              "Outlet_Size                      4\n",
              "Outlet_Type                      4\n",
              "dtype: int64"
            ]
          },
          "metadata": {
            "tags": []
          },
          "execution_count": 15
        }
      ]
    },
    {
      "metadata": {
        "id": "UoZAinGcML08",
        "colab_type": "text"
      },
      "cell_type": "markdown",
      "source": [
        "Inference : There are 10 outlets which are of 3 types.  16 different types of items are sold. Outlets' size is of 4 types."
      ]
    },
    {
      "metadata": {
        "id": "901DAGRTLek6",
        "colab_type": "code",
        "colab": {
          "base_uri": "https://localhost:8080/",
          "height": 312
        },
        "outputId": "dfd31add-3544-4da2-baa9-b17bc8a9f264"
      },
      "cell_type": "code",
      "source": [
        "dataset.info()"
      ],
      "execution_count": 16,
      "outputs": [
        {
          "output_type": "stream",
          "text": [
            "<class 'pandas.core.frame.DataFrame'>\n",
            "RangeIndex: 14204 entries, 0 to 14203\n",
            "Data columns (total 12 columns):\n",
            "Item_Fat_Content             14204 non-null object\n",
            "Item_Identifier              14204 non-null object\n",
            "Item_MRP                     14204 non-null float64\n",
            "Item_Outlet_Sales            8523 non-null float64\n",
            "Item_Type                    14204 non-null object\n",
            "Item_Visibility              14204 non-null float64\n",
            "Item_Weight                  11765 non-null float64\n",
            "Outlet_Establishment_Year    14204 non-null int64\n",
            "Outlet_Identifier            14204 non-null object\n",
            "Outlet_Location_Type         14204 non-null object\n",
            "Outlet_Size                  10188 non-null object\n",
            "Outlet_Type                  14204 non-null object\n",
            "dtypes: float64(4), int64(1), object(7)\n",
            "memory usage: 1.3+ MB\n"
          ],
          "name": "stdout"
        }
      ]
    },
    {
      "metadata": {
        "id": "RUQIgwASO-f7",
        "colab_type": "text"
      },
      "cell_type": "markdown",
      "source": [
        "**It will be useful if we find the frequency of items sold in each category of item_Type,Outlet_Location_Type, Outlet_Size, Outlet_Type,Item_Fat_Content.** All these variables have the same dtype of **object**."
      ]
    },
    {
      "metadata": {
        "id": "UDbwmqrxM_sK",
        "colab_type": "code",
        "colab": {
          "base_uri": "https://localhost:8080/",
          "height": 156
        },
        "outputId": "0c181a4c-5bcd-4e74-ea17-790aa9111928"
      },
      "cell_type": "code",
      "source": [
        "#creating an array of only variables whose dtype is object\n",
        "object_variables = [x for x in dataset.dtypes.index if dataset.dtypes[x] == 'object' ]\n",
        "object_variables"
      ],
      "execution_count": 114,
      "outputs": [
        {
          "output_type": "execute_result",
          "data": {
            "text/plain": [
              "['Item_Fat_Content',\n",
              " 'Item_Identifier',\n",
              " 'Item_Type',\n",
              " 'Outlet_Identifier',\n",
              " 'Outlet_Location_Type',\n",
              " 'Outlet_Size',\n",
              " 'Outlet_Type',\n",
              " 'source']"
            ]
          },
          "metadata": {
            "tags": []
          },
          "execution_count": 114
        }
      ]
    },
    {
      "metadata": {
        "id": "Hqy7WvYhRKaL",
        "colab_type": "text"
      },
      "cell_type": "markdown",
      "source": [
        "From this we don't need Item_ Identifier, Outlet_Identifier."
      ]
    },
    {
      "metadata": {
        "id": "pMuBMx7UREvF",
        "colab_type": "code",
        "colab": {
          "base_uri": "https://localhost:8080/",
          "height": 121
        },
        "outputId": "e0a54abd-ef75-45f1-dc9c-4363bcd6a077"
      },
      "cell_type": "code",
      "source": [
        "#removing unwanted variables\n",
        "variables_needed = [x for x in object_variables if x not in ['Item_Identifier','Outlet_Identifier']]\n",
        "variables_needed"
      ],
      "execution_count": 115,
      "outputs": [
        {
          "output_type": "execute_result",
          "data": {
            "text/plain": [
              "['Item_Fat_Content',\n",
              " 'Item_Type',\n",
              " 'Outlet_Location_Type',\n",
              " 'Outlet_Size',\n",
              " 'Outlet_Type',\n",
              " 'source']"
            ]
          },
          "metadata": {
            "tags": []
          },
          "execution_count": 115
        }
      ]
    },
    {
      "metadata": {
        "id": "obNanTIvRt7o",
        "colab_type": "code",
        "colab": {}
      },
      "cell_type": "code",
      "source": [
        "#calculating the frequency of each category in each variables\n",
        "for item in variables_needed :\n",
        "  print('Frequency of categories in the variable %s' %item)\n",
        "  print(dataset[item].value_counts())"
      ],
      "execution_count": 0,
      "outputs": []
    },
    {
      "metadata": {
        "id": "7q6VzcIMUCmB",
        "colab_type": "text"
      },
      "cell_type": "markdown",
      "source": [
        "##Data Cleaning"
      ]
    },
    {
      "metadata": {
        "id": "zrN4_sUoUK-y",
        "colab_type": "text"
      },
      "cell_type": "markdown",
      "source": [
        "We found that there are many missing datapoints in item_weight and outlet_size. So we need to impute the missing values"
      ]
    },
    {
      "metadata": {
        "id": "l-3VPKdSSCeW",
        "colab_type": "code",
        "colab": {
          "base_uri": "https://localhost:8080/",
          "height": 2023
        },
        "outputId": "1c144f05-64d4-4796-a67a-e70d7009cfa2"
      },
      "cell_type": "code",
      "source": [
        "#Imputing missing item_weight_values with average values in each category\n",
        "avg_item_weight = dataset.pivot_table(values='Item_Weight', index='Item_Identifier')\n",
        "avg_item_weight"
      ],
      "execution_count": 117,
      "outputs": [
        {
          "output_type": "execute_result",
          "data": {
            "text/html": [
              "<div>\n",
              "<style scoped>\n",
              "    .dataframe tbody tr th:only-of-type {\n",
              "        vertical-align: middle;\n",
              "    }\n",
              "\n",
              "    .dataframe tbody tr th {\n",
              "        vertical-align: top;\n",
              "    }\n",
              "\n",
              "    .dataframe thead th {\n",
              "        text-align: right;\n",
              "    }\n",
              "</style>\n",
              "<table border=\"1\" class=\"dataframe\">\n",
              "  <thead>\n",
              "    <tr style=\"text-align: right;\">\n",
              "      <th></th>\n",
              "      <th>Item_Weight</th>\n",
              "    </tr>\n",
              "    <tr>\n",
              "      <th>Item_Identifier</th>\n",
              "      <th></th>\n",
              "    </tr>\n",
              "  </thead>\n",
              "  <tbody>\n",
              "    <tr>\n",
              "      <th>DRA12</th>\n",
              "      <td>11.600</td>\n",
              "    </tr>\n",
              "    <tr>\n",
              "      <th>DRA24</th>\n",
              "      <td>19.350</td>\n",
              "    </tr>\n",
              "    <tr>\n",
              "      <th>DRA59</th>\n",
              "      <td>8.270</td>\n",
              "    </tr>\n",
              "    <tr>\n",
              "      <th>DRB01</th>\n",
              "      <td>7.390</td>\n",
              "    </tr>\n",
              "    <tr>\n",
              "      <th>DRB13</th>\n",
              "      <td>6.115</td>\n",
              "    </tr>\n",
              "    <tr>\n",
              "      <th>DRB24</th>\n",
              "      <td>8.785</td>\n",
              "    </tr>\n",
              "    <tr>\n",
              "      <th>DRB25</th>\n",
              "      <td>12.300</td>\n",
              "    </tr>\n",
              "    <tr>\n",
              "      <th>DRB48</th>\n",
              "      <td>16.750</td>\n",
              "    </tr>\n",
              "    <tr>\n",
              "      <th>DRC01</th>\n",
              "      <td>5.920</td>\n",
              "    </tr>\n",
              "    <tr>\n",
              "      <th>DRC12</th>\n",
              "      <td>17.850</td>\n",
              "    </tr>\n",
              "    <tr>\n",
              "      <th>DRC13</th>\n",
              "      <td>8.260</td>\n",
              "    </tr>\n",
              "    <tr>\n",
              "      <th>DRC24</th>\n",
              "      <td>17.850</td>\n",
              "    </tr>\n",
              "    <tr>\n",
              "      <th>DRC25</th>\n",
              "      <td>5.730</td>\n",
              "    </tr>\n",
              "    <tr>\n",
              "      <th>DRC27</th>\n",
              "      <td>13.800</td>\n",
              "    </tr>\n",
              "    <tr>\n",
              "      <th>DRC36</th>\n",
              "      <td>13.000</td>\n",
              "    </tr>\n",
              "    <tr>\n",
              "      <th>DRC49</th>\n",
              "      <td>8.670</td>\n",
              "    </tr>\n",
              "    <tr>\n",
              "      <th>DRD01</th>\n",
              "      <td>12.100</td>\n",
              "    </tr>\n",
              "    <tr>\n",
              "      <th>DRD12</th>\n",
              "      <td>6.960</td>\n",
              "    </tr>\n",
              "    <tr>\n",
              "      <th>DRD13</th>\n",
              "      <td>15.000</td>\n",
              "    </tr>\n",
              "    <tr>\n",
              "      <th>DRD15</th>\n",
              "      <td>10.600</td>\n",
              "    </tr>\n",
              "    <tr>\n",
              "      <th>DRD24</th>\n",
              "      <td>13.850</td>\n",
              "    </tr>\n",
              "    <tr>\n",
              "      <th>DRD25</th>\n",
              "      <td>6.135</td>\n",
              "    </tr>\n",
              "    <tr>\n",
              "      <th>DRD27</th>\n",
              "      <td>18.750</td>\n",
              "    </tr>\n",
              "    <tr>\n",
              "      <th>DRD37</th>\n",
              "      <td>9.800</td>\n",
              "    </tr>\n",
              "    <tr>\n",
              "      <th>DRD49</th>\n",
              "      <td>9.895</td>\n",
              "    </tr>\n",
              "    <tr>\n",
              "      <th>DRD60</th>\n",
              "      <td>15.700</td>\n",
              "    </tr>\n",
              "    <tr>\n",
              "      <th>DRE01</th>\n",
              "      <td>10.100</td>\n",
              "    </tr>\n",
              "    <tr>\n",
              "      <th>DRE03</th>\n",
              "      <td>19.600</td>\n",
              "    </tr>\n",
              "    <tr>\n",
              "      <th>DRE12</th>\n",
              "      <td>4.590</td>\n",
              "    </tr>\n",
              "    <tr>\n",
              "      <th>DRE13</th>\n",
              "      <td>6.280</td>\n",
              "    </tr>\n",
              "    <tr>\n",
              "      <th>...</th>\n",
              "      <td>...</td>\n",
              "    </tr>\n",
              "    <tr>\n",
              "      <th>NCX05</th>\n",
              "      <td>15.200</td>\n",
              "    </tr>\n",
              "    <tr>\n",
              "      <th>NCX06</th>\n",
              "      <td>17.600</td>\n",
              "    </tr>\n",
              "    <tr>\n",
              "      <th>NCX17</th>\n",
              "      <td>21.250</td>\n",
              "    </tr>\n",
              "    <tr>\n",
              "      <th>NCX18</th>\n",
              "      <td>14.150</td>\n",
              "    </tr>\n",
              "    <tr>\n",
              "      <th>NCX29</th>\n",
              "      <td>10.000</td>\n",
              "    </tr>\n",
              "    <tr>\n",
              "      <th>NCX30</th>\n",
              "      <td>16.700</td>\n",
              "    </tr>\n",
              "    <tr>\n",
              "      <th>NCX41</th>\n",
              "      <td>19.000</td>\n",
              "    </tr>\n",
              "    <tr>\n",
              "      <th>NCX42</th>\n",
              "      <td>6.360</td>\n",
              "    </tr>\n",
              "    <tr>\n",
              "      <th>NCX53</th>\n",
              "      <td>20.100</td>\n",
              "    </tr>\n",
              "    <tr>\n",
              "      <th>NCX54</th>\n",
              "      <td>9.195</td>\n",
              "    </tr>\n",
              "    <tr>\n",
              "      <th>NCY05</th>\n",
              "      <td>13.500</td>\n",
              "    </tr>\n",
              "    <tr>\n",
              "      <th>NCY06</th>\n",
              "      <td>15.250</td>\n",
              "    </tr>\n",
              "    <tr>\n",
              "      <th>NCY17</th>\n",
              "      <td>18.200</td>\n",
              "    </tr>\n",
              "    <tr>\n",
              "      <th>NCY18</th>\n",
              "      <td>7.285</td>\n",
              "    </tr>\n",
              "    <tr>\n",
              "      <th>NCY29</th>\n",
              "      <td>13.650</td>\n",
              "    </tr>\n",
              "    <tr>\n",
              "      <th>NCY30</th>\n",
              "      <td>20.250</td>\n",
              "    </tr>\n",
              "    <tr>\n",
              "      <th>NCY41</th>\n",
              "      <td>16.750</td>\n",
              "    </tr>\n",
              "    <tr>\n",
              "      <th>NCY42</th>\n",
              "      <td>6.380</td>\n",
              "    </tr>\n",
              "    <tr>\n",
              "      <th>NCY53</th>\n",
              "      <td>20.000</td>\n",
              "    </tr>\n",
              "    <tr>\n",
              "      <th>NCY54</th>\n",
              "      <td>8.430</td>\n",
              "    </tr>\n",
              "    <tr>\n",
              "      <th>NCZ05</th>\n",
              "      <td>8.485</td>\n",
              "    </tr>\n",
              "    <tr>\n",
              "      <th>NCZ06</th>\n",
              "      <td>19.600</td>\n",
              "    </tr>\n",
              "    <tr>\n",
              "      <th>NCZ17</th>\n",
              "      <td>12.150</td>\n",
              "    </tr>\n",
              "    <tr>\n",
              "      <th>NCZ18</th>\n",
              "      <td>7.825</td>\n",
              "    </tr>\n",
              "    <tr>\n",
              "      <th>NCZ29</th>\n",
              "      <td>15.000</td>\n",
              "    </tr>\n",
              "    <tr>\n",
              "      <th>NCZ30</th>\n",
              "      <td>6.590</td>\n",
              "    </tr>\n",
              "    <tr>\n",
              "      <th>NCZ41</th>\n",
              "      <td>19.850</td>\n",
              "    </tr>\n",
              "    <tr>\n",
              "      <th>NCZ42</th>\n",
              "      <td>10.500</td>\n",
              "    </tr>\n",
              "    <tr>\n",
              "      <th>NCZ53</th>\n",
              "      <td>9.600</td>\n",
              "    </tr>\n",
              "    <tr>\n",
              "      <th>NCZ54</th>\n",
              "      <td>14.650</td>\n",
              "    </tr>\n",
              "  </tbody>\n",
              "</table>\n",
              "<p>1559 rows × 1 columns</p>\n",
              "</div>"
            ],
            "text/plain": [
              "                 Item_Weight\n",
              "Item_Identifier             \n",
              "DRA12                 11.600\n",
              "DRA24                 19.350\n",
              "DRA59                  8.270\n",
              "DRB01                  7.390\n",
              "DRB13                  6.115\n",
              "DRB24                  8.785\n",
              "DRB25                 12.300\n",
              "DRB48                 16.750\n",
              "DRC01                  5.920\n",
              "DRC12                 17.850\n",
              "DRC13                  8.260\n",
              "DRC24                 17.850\n",
              "DRC25                  5.730\n",
              "DRC27                 13.800\n",
              "DRC36                 13.000\n",
              "DRC49                  8.670\n",
              "DRD01                 12.100\n",
              "DRD12                  6.960\n",
              "DRD13                 15.000\n",
              "DRD15                 10.600\n",
              "DRD24                 13.850\n",
              "DRD25                  6.135\n",
              "DRD27                 18.750\n",
              "DRD37                  9.800\n",
              "DRD49                  9.895\n",
              "DRD60                 15.700\n",
              "DRE01                 10.100\n",
              "DRE03                 19.600\n",
              "DRE12                  4.590\n",
              "DRE13                  6.280\n",
              "...                      ...\n",
              "NCX05                 15.200\n",
              "NCX06                 17.600\n",
              "NCX17                 21.250\n",
              "NCX18                 14.150\n",
              "NCX29                 10.000\n",
              "NCX30                 16.700\n",
              "NCX41                 19.000\n",
              "NCX42                  6.360\n",
              "NCX53                 20.100\n",
              "NCX54                  9.195\n",
              "NCY05                 13.500\n",
              "NCY06                 15.250\n",
              "NCY17                 18.200\n",
              "NCY18                  7.285\n",
              "NCY29                 13.650\n",
              "NCY30                 20.250\n",
              "NCY41                 16.750\n",
              "NCY42                  6.380\n",
              "NCY53                 20.000\n",
              "NCY54                  8.430\n",
              "NCZ05                  8.485\n",
              "NCZ06                 19.600\n",
              "NCZ17                 12.150\n",
              "NCZ18                  7.825\n",
              "NCZ29                 15.000\n",
              "NCZ30                  6.590\n",
              "NCZ41                 19.850\n",
              "NCZ42                 10.500\n",
              "NCZ53                  9.600\n",
              "NCZ54                 14.650\n",
              "\n",
              "[1559 rows x 1 columns]"
            ]
          },
          "metadata": {
            "tags": []
          },
          "execution_count": 117
        }
      ]
    },
    {
      "metadata": {
        "id": "f1rQVCs0dlsq",
        "colab_type": "code",
        "colab": {}
      },
      "cell_type": "code",
      "source": [
        "def impute_weight(columns):\n",
        "  identifier = columns[1]\n",
        "  weight = columns[0]\n",
        "  if pd.isnull(weight):\n",
        "    return avg_item_weight['Item_Weight'][avg_item_weight.index == identifier]\n",
        "  else :\n",
        "    return weight"
      ],
      "execution_count": 0,
      "outputs": []
    },
    {
      "metadata": {
        "id": "s8OTiX1PhOqt",
        "colab_type": "code",
        "colab": {
          "base_uri": "https://localhost:8080/",
          "height": 52
        },
        "outputId": "da364433-a7f9-44be-e1ed-ff70e15e1535"
      },
      "cell_type": "code",
      "source": [
        "print ('Orignal #missing: %d'%sum(dataset['Item_Weight'].isnull()))\n",
        "dataset['Item_Weight'] = dataset[['Item_Weight','Item_Identifier']].apply(impute_weight,axis=1).astype(float)\n",
        "print ('Final #missing: %d'%sum(dataset['Item_Weight'].isnull()))"
      ],
      "execution_count": 119,
      "outputs": [
        {
          "output_type": "stream",
          "text": [
            "Orignal #missing: 2439\n",
            "Final #missing: 0\n"
          ],
          "name": "stdout"
        }
      ]
    },
    {
      "metadata": {
        "id": "HVyFaPq4hVLM",
        "colab_type": "code",
        "colab": {
          "base_uri": "https://localhost:8080/",
          "height": 81
        },
        "outputId": "1ff86a33-d84c-4b1b-b471-21e70e109d6f"
      },
      "cell_type": "code",
      "source": [
        "outlet_size_mode = dataset.pivot_table(values='Outlet_Size', columns = 'Outlet_Type',aggfunc=lambda x: x.mode())\n",
        "outlet_size_mode"
      ],
      "execution_count": 120,
      "outputs": [
        {
          "output_type": "execute_result",
          "data": {
            "text/html": [
              "<div>\n",
              "<style scoped>\n",
              "    .dataframe tbody tr th:only-of-type {\n",
              "        vertical-align: middle;\n",
              "    }\n",
              "\n",
              "    .dataframe tbody tr th {\n",
              "        vertical-align: top;\n",
              "    }\n",
              "\n",
              "    .dataframe thead th {\n",
              "        text-align: right;\n",
              "    }\n",
              "</style>\n",
              "<table border=\"1\" class=\"dataframe\">\n",
              "  <thead>\n",
              "    <tr style=\"text-align: right;\">\n",
              "      <th>Outlet_Type</th>\n",
              "      <th>Grocery Store</th>\n",
              "      <th>Supermarket Type1</th>\n",
              "      <th>Supermarket Type2</th>\n",
              "      <th>Supermarket Type3</th>\n",
              "    </tr>\n",
              "  </thead>\n",
              "  <tbody>\n",
              "    <tr>\n",
              "      <th>Outlet_Size</th>\n",
              "      <td>Small</td>\n",
              "      <td>Small</td>\n",
              "      <td>Medium</td>\n",
              "      <td>Medium</td>\n",
              "    </tr>\n",
              "  </tbody>\n",
              "</table>\n",
              "</div>"
            ],
            "text/plain": [
              "Outlet_Type Grocery Store Supermarket Type1 Supermarket Type2  \\\n",
              "Outlet_Size         Small             Small            Medium   \n",
              "\n",
              "Outlet_Type Supermarket Type3  \n",
              "Outlet_Size            Medium  "
            ]
          },
          "metadata": {
            "tags": []
          },
          "execution_count": 120
        }
      ]
    },
    {
      "metadata": {
        "id": "3vSeQ-yVtfNn",
        "colab_type": "code",
        "colab": {}
      },
      "cell_type": "code",
      "source": [
        "def impute_size_mode(cols):\n",
        "  Size = cols[0]\n",
        "  Type = cols[1]\n",
        "  if pd.isnull(Size):\n",
        "    return outlet_size_mode.loc['Outlet_Size'][outlet_size_mode.columns == Type][0]\n",
        "  else:\n",
        "    return Size\n"
      ],
      "execution_count": 0,
      "outputs": []
    },
    {
      "metadata": {
        "id": "WWMyFFUKtqBq",
        "colab_type": "code",
        "colab": {
          "base_uri": "https://localhost:8080/",
          "height": 52
        },
        "outputId": "cbef117c-aa83-4747-c937-b0fd1a4a46af"
      },
      "cell_type": "code",
      "source": [
        "print ('Orignal #missing: %d'%sum(dataset['Outlet_Size'].isnull()))\n",
        "dataset['Outlet_Size'] = dataset[['Outlet_Size','Outlet_Type']].apply(impute_size_mode,axis=1)\n",
        "print ('Final #missing: %d'%sum(dataset['Outlet_Size'].isnull()))\n"
      ],
      "execution_count": 122,
      "outputs": [
        {
          "output_type": "stream",
          "text": [
            "Orignal #missing: 4016\n",
            "Final #missing: 0\n"
          ],
          "name": "stdout"
        }
      ]
    },
    {
      "metadata": {
        "id": "DrTp2Jqxtuve",
        "colab_type": "code",
        "colab": {
          "base_uri": "https://localhost:8080/",
          "height": 463
        },
        "outputId": "7b1c1d09-dacb-4361-b792-532f08af7370"
      },
      "cell_type": "code",
      "source": [
        "sns.heatmap(dataset.isnull(),yticklabels = False)\n",
        "plt.show()"
      ],
      "execution_count": 123,
      "outputs": [
        {
          "output_type": "display_data",
          "data": {
            "image/png": "[encoded data removed]",
            "text/plain": [
              "<Figure size 576x396 with 2 Axes>"
            ]
          },
          "metadata": {
            "tags": []
          }
        }
      ]
    },
    {
      "metadata": {
        "id": "abr1yCu_t_Gm",
        "colab_type": "code",
        "colab": {
          "base_uri": "https://localhost:8080/",
          "height": 206
        },
        "outputId": "e7c4c7cb-630f-45a6-b988-860ae55a2571"
      },
      "cell_type": "code",
      "source": [
        "dataset.pivot_table(values = 'Item_Outlet_Sales',index = 'Outlet_Type')"
      ],
      "execution_count": 124,
      "outputs": [
        {
          "output_type": "execute_result",
          "data": {
            "text/html": [
              "<div>\n",
              "<style scoped>\n",
              "    .dataframe tbody tr th:only-of-type {\n",
              "        vertical-align: middle;\n",
              "    }\n",
              "\n",
              "    .dataframe tbody tr th {\n",
              "        vertical-align: top;\n",
              "    }\n",
              "\n",
              "    .dataframe thead th {\n",
              "        text-align: right;\n",
              "    }\n",
              "</style>\n",
              "<table border=\"1\" class=\"dataframe\">\n",
              "  <thead>\n",
              "    <tr style=\"text-align: right;\">\n",
              "      <th></th>\n",
              "      <th>Item_Outlet_Sales</th>\n",
              "    </tr>\n",
              "    <tr>\n",
              "      <th>Outlet_Type</th>\n",
              "      <th></th>\n",
              "    </tr>\n",
              "  </thead>\n",
              "  <tbody>\n",
              "    <tr>\n",
              "      <th>Grocery Store</th>\n",
              "      <td>339.828500</td>\n",
              "    </tr>\n",
              "    <tr>\n",
              "      <th>Supermarket Type1</th>\n",
              "      <td>2316.181148</td>\n",
              "    </tr>\n",
              "    <tr>\n",
              "      <th>Supermarket Type2</th>\n",
              "      <td>1995.498739</td>\n",
              "    </tr>\n",
              "    <tr>\n",
              "      <th>Supermarket Type3</th>\n",
              "      <td>3694.038558</td>\n",
              "    </tr>\n",
              "  </tbody>\n",
              "</table>\n",
              "</div>"
            ],
            "text/plain": [
              "                   Item_Outlet_Sales\n",
              "Outlet_Type                         \n",
              "Grocery Store             339.828500\n",
              "Supermarket Type1        2316.181148\n",
              "Supermarket Type2        1995.498739\n",
              "Supermarket Type3        3694.038558"
            ]
          },
          "metadata": {
            "tags": []
          },
          "execution_count": 124
        }
      ]
    },
    {
      "metadata": {
        "id": "l1Ehq18AvEs4",
        "colab_type": "text"
      },
      "cell_type": "markdown",
      "source": [
        "There's much difference in average sales so we need not modify anything."
      ]
    },
    {
      "metadata": {
        "id": "w9GE5gwwu125",
        "colab_type": "code",
        "colab": {
          "base_uri": "https://localhost:8080/",
          "height": 300
        },
        "outputId": "d9a60faf-679b-409f-b20d-41ce0ecbd4fe"
      },
      "cell_type": "code",
      "source": [
        "visibility_item_avg = dataset.pivot_table(values='Item_Visibility',index='Item_Identifier')\n",
        "visibility_item_avg.describe()"
      ],
      "execution_count": 125,
      "outputs": [
        {
          "output_type": "execute_result",
          "data": {
            "text/html": [
              "<div>\n",
              "<style scoped>\n",
              "    .dataframe tbody tr th:only-of-type {\n",
              "        vertical-align: middle;\n",
              "    }\n",
              "\n",
              "    .dataframe tbody tr th {\n",
              "        vertical-align: top;\n",
              "    }\n",
              "\n",
              "    .dataframe thead th {\n",
              "        text-align: right;\n",
              "    }\n",
              "</style>\n",
              "<table border=\"1\" class=\"dataframe\">\n",
              "  <thead>\n",
              "    <tr style=\"text-align: right;\">\n",
              "      <th></th>\n",
              "      <th>Item_Visibility</th>\n",
              "    </tr>\n",
              "  </thead>\n",
              "  <tbody>\n",
              "    <tr>\n",
              "      <th>count</th>\n",
              "      <td>1559.000000</td>\n",
              "    </tr>\n",
              "    <tr>\n",
              "      <th>mean</th>\n",
              "      <td>0.065690</td>\n",
              "    </tr>\n",
              "    <tr>\n",
              "      <th>std</th>\n",
              "      <td>0.044016</td>\n",
              "    </tr>\n",
              "    <tr>\n",
              "      <th>min</th>\n",
              "      <td>0.003895</td>\n",
              "    </tr>\n",
              "    <tr>\n",
              "      <th>25%</th>\n",
              "      <td>0.030478</td>\n",
              "    </tr>\n",
              "    <tr>\n",
              "      <th>50%</th>\n",
              "      <td>0.055125</td>\n",
              "    </tr>\n",
              "    <tr>\n",
              "      <th>75%</th>\n",
              "      <td>0.091590</td>\n",
              "    </tr>\n",
              "    <tr>\n",
              "      <th>max</th>\n",
              "      <td>0.211315</td>\n",
              "    </tr>\n",
              "  </tbody>\n",
              "</table>\n",
              "</div>"
            ],
            "text/plain": [
              "       Item_Visibility\n",
              "count      1559.000000\n",
              "mean          0.065690\n",
              "std           0.044016\n",
              "min           0.003895\n",
              "25%           0.030478\n",
              "50%           0.055125\n",
              "75%           0.091590\n",
              "max           0.211315"
            ]
          },
          "metadata": {
            "tags": []
          },
          "execution_count": 125
        }
      ]
    },
    {
      "metadata": {
        "id": "8M4CAy-DvbPb",
        "colab_type": "code",
        "colab": {}
      },
      "cell_type": "code",
      "source": [
        "def impute_visibility_mean(cols):\n",
        "  visibility = cols[0]\n",
        "  item = cols[1]\n",
        "  if visibility == 0:\n",
        "    return visibility_item_avg['Item_Visibility'][visibility_item_avg.index == item]\n",
        "  else:\n",
        "    return visibility"
      ],
      "execution_count": 0,
      "outputs": []
    },
    {
      "metadata": {
        "id": "scRmYkonw8zx",
        "colab_type": "code",
        "colab": {
          "base_uri": "https://localhost:8080/",
          "height": 52
        },
        "outputId": "015dfa60-4f2a-467b-d50d-2b339fc65232"
      },
      "cell_type": "code",
      "source": [
        "print ('Original #zeros: %d'%sum(dataset['Item_Visibility'] == 0))\n",
        "dataset['Item_Visibility'] = dataset[['Item_Visibility','Item_Identifier']].apply(impute_visibility_mean,axis=1).astype(float)\n",
        "print ('Final #zeros: %d'%sum(dataset['Item_Visibility'] == 0))"
      ],
      "execution_count": 127,
      "outputs": [
        {
          "output_type": "stream",
          "text": [
            "Original #zeros: 879\n",
            "Final #zeros: 0\n"
          ],
          "name": "stdout"
        }
      ]
    },
    {
      "metadata": {
        "id": "ZdRhpSK1xBUG",
        "colab_type": "code",
        "colab": {}
      },
      "cell_type": "code",
      "source": [
        "dataset['Item_Visibility_MeanRatio'] = dataset.apply(lambda x: x['Item_Visibility']/visibility_item_avg['Item_Visibility'][visibility_item_avg.index == x['Item_Identifier']][0],axis=1).astype(float)"
      ],
      "execution_count": 0,
      "outputs": []
    },
    {
      "metadata": {
        "id": "fje_1NexzjeS",
        "colab_type": "code",
        "colab": {}
      },
      "cell_type": "code",
      "source": [
        "dataset['Item_Type_New'] = dataset['Item_Identifier'].apply(lambda x: x[0:2])"
      ],
      "execution_count": 0,
      "outputs": []
    },
    {
      "metadata": {
        "id": "SrcGzFLS0z3O",
        "colab_type": "code",
        "colab": {}
      },
      "cell_type": "code",
      "source": [
        "dataset['Item_Type_New'] = dataset['Item_Type_New'].map({'FD': 'Food',\n",
        "'DR': 'Drinks',\n",
        "'NC': 'Non-Consumable'})"
      ],
      "execution_count": 0,
      "outputs": []
    },
    {
      "metadata": {
        "id": "DbSunxSe1kYi",
        "colab_type": "code",
        "colab": {
          "base_uri": "https://localhost:8080/",
          "height": 86
        },
        "outputId": "29997cd3-074f-468b-9581-a58abb698220"
      },
      "cell_type": "code",
      "source": [
        "dataset['Item_Type_New'].value_counts()"
      ],
      "execution_count": 131,
      "outputs": [
        {
          "output_type": "execute_result",
          "data": {
            "text/plain": [
              "Food              10201\n",
              "Non-Consumable     2686\n",
              "Drinks             1317\n",
              "Name: Item_Type_New, dtype: int64"
            ]
          },
          "metadata": {
            "tags": []
          },
          "execution_count": 131
        }
      ]
    },
    {
      "metadata": {
        "id": "LN1NFVS11qww",
        "colab_type": "code",
        "colab": {
          "base_uri": "https://localhost:8080/",
          "height": 173
        },
        "outputId": "8f51b97a-5b8a-4505-82b7-661f3087f6ed"
      },
      "cell_type": "code",
      "source": [
        "dataset['Outlet_Years'] = 2013 - dataset['Outlet_Establishment_Year']\n",
        "dataset['Outlet_Years'].describe()"
      ],
      "execution_count": 132,
      "outputs": [
        {
          "output_type": "execute_result",
          "data": {
            "text/plain": [
              "count    14204.000000\n",
              "mean        15.169319\n",
              "std          8.371664\n",
              "min          4.000000\n",
              "25%          9.000000\n",
              "50%         14.000000\n",
              "75%         26.000000\n",
              "max         28.000000\n",
              "Name: Outlet_Years, dtype: float64"
            ]
          },
          "metadata": {
            "tags": []
          },
          "execution_count": 132
        }
      ]
    },
    {
      "metadata": {
        "id": "5MmLzImp1-oH",
        "colab_type": "code",
        "colab": {
          "base_uri": "https://localhost:8080/",
          "height": 139
        },
        "outputId": "cf761074-743d-484c-ba93-f5bb5674e581"
      },
      "cell_type": "code",
      "source": [
        "print('Original Categories:')\n",
        "print(dataset['Item_Fat_Content'].value_counts())"
      ],
      "execution_count": 133,
      "outputs": [
        {
          "output_type": "stream",
          "text": [
            "Original Categories:\n",
            "Low Fat    8485\n",
            "Regular    4824\n",
            "LF          522\n",
            "reg         195\n",
            "low fat     178\n",
            "Name: Item_Fat_Content, dtype: int64\n"
          ],
          "name": "stdout"
        }
      ]
    },
    {
      "metadata": {
        "id": "BvnEg0ji2SGp",
        "colab_type": "code",
        "colab": {
          "base_uri": "https://localhost:8080/",
          "height": 69
        },
        "outputId": "a55c20c4-913a-4888-c876-67da25036b38"
      },
      "cell_type": "code",
      "source": [
        "dataset['Item_Fat_Content'] = dataset['Item_Fat_Content'].replace({'LF':'Low Fat','low fat': 'Low Fat', 'reg':'Regular'})\n",
        "dataset['Item_Fat_Content'].value_counts()"
      ],
      "execution_count": 134,
      "outputs": [
        {
          "output_type": "execute_result",
          "data": {
            "text/plain": [
              "Low Fat    9185\n",
              "Regular    5019\n",
              "Name: Item_Fat_Content, dtype: int64"
            ]
          },
          "metadata": {
            "tags": []
          },
          "execution_count": 134
        }
      ]
    },
    {
      "metadata": {
        "id": "VMudwfrj48Zy",
        "colab_type": "code",
        "colab": {}
      },
      "cell_type": "code",
      "source": [
        "dataset.loc[dataset['Item_Type_New'] == 'Non-Consumable','Item_Fat_Content'] = 'Non-Edible'"
      ],
      "execution_count": 0,
      "outputs": []
    },
    {
      "metadata": {
        "id": "j13vgSNV8eWJ",
        "colab_type": "code",
        "colab": {
          "base_uri": "https://localhost:8080/",
          "height": 313
        },
        "outputId": "6b940676-3a02-41de-8a6d-a4c20b4300ba"
      },
      "cell_type": "code",
      "source": [
        "dataset.head()"
      ],
      "execution_count": 136,
      "outputs": [
        {
          "output_type": "execute_result",
          "data": {
            "text/html": [
              "<div>\n",
              "<style scoped>\n",
              "    .dataframe tbody tr th:only-of-type {\n",
              "        vertical-align: middle;\n",
              "    }\n",
              "\n",
              "    .dataframe tbody tr th {\n",
              "        vertical-align: top;\n",
              "    }\n",
              "\n",
              "    .dataframe thead th {\n",
              "        text-align: right;\n",
              "    }\n",
              "</style>\n",
              "<table border=\"1\" class=\"dataframe\">\n",
              "  <thead>\n",
              "    <tr style=\"text-align: right;\">\n",
              "      <th></th>\n",
              "      <th>Item_Fat_Content</th>\n",
              "      <th>Item_Identifier</th>\n",
              "      <th>Item_MRP</th>\n",
              "      <th>Item_Outlet_Sales</th>\n",
              "      <th>Item_Type</th>\n",
              "      <th>Item_Visibility</th>\n",
              "      <th>Item_Weight</th>\n",
              "      <th>Outlet_Establishment_Year</th>\n",
              "      <th>Outlet_Identifier</th>\n",
              "      <th>Outlet_Location_Type</th>\n",
              "      <th>Outlet_Size</th>\n",
              "      <th>Outlet_Type</th>\n",
              "      <th>source</th>\n",
              "      <th>Item_Visibility_MeanRatio</th>\n",
              "      <th>Item_Type_New</th>\n",
              "      <th>Outlet_Years</th>\n",
              "    </tr>\n",
              "  </thead>\n",
              "  <tbody>\n",
              "    <tr>\n",
              "      <th>0</th>\n",
              "      <td>Low Fat</td>\n",
              "      <td>FDA15</td>\n",
              "      <td>249.8092</td>\n",
              "      <td>3735.1380</td>\n",
              "      <td>Dairy</td>\n",
              "      <td>0.016047</td>\n",
              "      <td>9.30</td>\n",
              "      <td>1999</td>\n",
              "      <td>OUT049</td>\n",
              "      <td>Tier 1</td>\n",
              "      <td>Medium</td>\n",
              "      <td>Supermarket Type1</td>\n",
              "      <td>train</td>\n",
              "      <td>0.931078</td>\n",
              "      <td>Food</td>\n",
              "      <td>14</td>\n",
              "    </tr>\n",
              "    <tr>\n",
              "      <th>1</th>\n",
              "      <td>Regular</td>\n",
              "      <td>DRC01</td>\n",
              "      <td>48.2692</td>\n",
              "      <td>443.4228</td>\n",
              "      <td>Soft Drinks</td>\n",
              "      <td>0.019278</td>\n",
              "      <td>5.92</td>\n",
              "      <td>2009</td>\n",
              "      <td>OUT018</td>\n",
              "      <td>Tier 3</td>\n",
              "      <td>Medium</td>\n",
              "      <td>Supermarket Type2</td>\n",
              "      <td>train</td>\n",
              "      <td>0.933420</td>\n",
              "      <td>Drinks</td>\n",
              "      <td>4</td>\n",
              "    </tr>\n",
              "    <tr>\n",
              "      <th>2</th>\n",
              "      <td>Low Fat</td>\n",
              "      <td>FDN15</td>\n",
              "      <td>141.6180</td>\n",
              "      <td>2097.2700</td>\n",
              "      <td>Meat</td>\n",
              "      <td>0.016760</td>\n",
              "      <td>17.50</td>\n",
              "      <td>1999</td>\n",
              "      <td>OUT049</td>\n",
              "      <td>Tier 1</td>\n",
              "      <td>Medium</td>\n",
              "      <td>Supermarket Type1</td>\n",
              "      <td>train</td>\n",
              "      <td>0.960069</td>\n",
              "      <td>Food</td>\n",
              "      <td>14</td>\n",
              "    </tr>\n",
              "    <tr>\n",
              "      <th>3</th>\n",
              "      <td>Regular</td>\n",
              "      <td>FDX07</td>\n",
              "      <td>182.0950</td>\n",
              "      <td>732.3800</td>\n",
              "      <td>Fruits and Vegetables</td>\n",
              "      <td>0.017834</td>\n",
              "      <td>19.20</td>\n",
              "      <td>1998</td>\n",
              "      <td>OUT010</td>\n",
              "      <td>Tier 3</td>\n",
              "      <td>Small</td>\n",
              "      <td>Grocery Store</td>\n",
              "      <td>train</td>\n",
              "      <td>1.000000</td>\n",
              "      <td>Food</td>\n",
              "      <td>15</td>\n",
              "    </tr>\n",
              "    <tr>\n",
              "      <th>4</th>\n",
              "      <td>Non-Edible</td>\n",
              "      <td>NCD19</td>\n",
              "      <td>53.8614</td>\n",
              "      <td>994.7052</td>\n",
              "      <td>Household</td>\n",
              "      <td>0.009780</td>\n",
              "      <td>8.93</td>\n",
              "      <td>1987</td>\n",
              "      <td>OUT013</td>\n",
              "      <td>Tier 3</td>\n",
              "      <td>High</td>\n",
              "      <td>Supermarket Type1</td>\n",
              "      <td>train</td>\n",
              "      <td>1.000000</td>\n",
              "      <td>Non-Consumable</td>\n",
              "      <td>26</td>\n",
              "    </tr>\n",
              "  </tbody>\n",
              "</table>\n",
              "</div>"
            ],
            "text/plain": [
              "  Item_Fat_Content Item_Identifier  Item_MRP  Item_Outlet_Sales  \\\n",
              "0          Low Fat           FDA15  249.8092          3735.1380   \n",
              "1          Regular           DRC01   48.2692           443.4228   \n",
              "2          Low Fat           FDN15  141.6180          2097.2700   \n",
              "3          Regular           FDX07  182.0950           732.3800   \n",
              "4       Non-Edible           NCD19   53.8614           994.7052   \n",
              "\n",
              "               Item_Type  Item_Visibility  Item_Weight  \\\n",
              "0                  Dairy         0.016047         9.30   \n",
              "1            Soft Drinks         0.019278         5.92   \n",
              "2                   Meat         0.016760        17.50   \n",
              "3  Fruits and Vegetables         0.017834        19.20   \n",
              "4              Household         0.009780         8.93   \n",
              "\n",
              "   Outlet_Establishment_Year Outlet_Identifier Outlet_Location_Type  \\\n",
              "0                       1999            OUT049               Tier 1   \n",
              "1                       2009            OUT018               Tier 3   \n",
              "2                       1999            OUT049               Tier 1   \n",
              "3                       1998            OUT010               Tier 3   \n",
              "4                       1987            OUT013               Tier 3   \n",
              "\n",
              "  Outlet_Size        Outlet_Type source  Item_Visibility_MeanRatio  \\\n",
              "0      Medium  Supermarket Type1  train                   0.931078   \n",
              "1      Medium  Supermarket Type2  train                   0.933420   \n",
              "2      Medium  Supermarket Type1  train                   0.960069   \n",
              "3       Small      Grocery Store  train                   1.000000   \n",
              "4        High  Supermarket Type1  train                   1.000000   \n",
              "\n",
              "    Item_Type_New  Outlet_Years  \n",
              "0            Food            14  \n",
              "1          Drinks             4  \n",
              "2            Food            14  \n",
              "3            Food            15  \n",
              "4  Non-Consumable            26  "
            ]
          },
          "metadata": {
            "tags": []
          },
          "execution_count": 136
        }
      ]
    },
    {
      "metadata": {
        "id": "McaDUJH0-OAw",
        "colab_type": "code",
        "colab": {}
      },
      "cell_type": "code",
      "source": [
        "from sklearn.preprocessing import LabelEncoder"
      ],
      "execution_count": 0,
      "outputs": []
    },
    {
      "metadata": {
        "id": "jTHEQdwO-thd",
        "colab_type": "code",
        "colab": {}
      },
      "cell_type": "code",
      "source": [
        "le = LabelEncoder()\n",
        "dataset['Outlet'] = le.fit_transform(dataset['Outlet_Identifier'])"
      ],
      "execution_count": 0,
      "outputs": []
    },
    {
      "metadata": {
        "id": "ZK7Q-kAO_Btl",
        "colab_type": "code",
        "colab": {}
      },
      "cell_type": "code",
      "source": [
        "cat_var_mod = ['Item_Fat_Content','Outlet_Location_Type','Outlet_Size','Item_Type_New','Outlet_Type','Outlet']\n",
        "le = LabelEncoder()\n",
        "for i in cat_var_mod:\n",
        "  dataset[i] = le.fit_transform(dataset[i])"
      ],
      "execution_count": 0,
      "outputs": []
    },
    {
      "metadata": {
        "id": "8jqFPGCx_VKS",
        "colab_type": "code",
        "colab": {}
      },
      "cell_type": "code",
      "source": [
        "dataset = pd.get_dummies(dataset, columns = cat_var_mod)"
      ],
      "execution_count": 0,
      "outputs": []
    },
    {
      "metadata": {
        "id": "-RwNb0SR_kCc",
        "colab_type": "code",
        "colab": {}
      },
      "cell_type": "code",
      "source": [
        "dataset.drop(['Item_Type','Outlet_Establishment_Year'],axis=1,inplace=True)"
      ],
      "execution_count": 0,
      "outputs": []
    },
    {
      "metadata": {
        "id": "bSYJMsfJ_v4j",
        "colab_type": "code",
        "colab": {
          "base_uri": "https://localhost:8080/",
          "height": 642
        },
        "outputId": "b0574710-d035-460e-cf8a-b737ac8e2fe2"
      },
      "cell_type": "code",
      "source": [
        "dataset.dtypes"
      ],
      "execution_count": 142,
      "outputs": [
        {
          "output_type": "execute_result",
          "data": {
            "text/plain": [
              "Item_Identifier               object\n",
              "Item_MRP                     float64\n",
              "Item_Outlet_Sales            float64\n",
              "Item_Visibility              float64\n",
              "Item_Weight                  float64\n",
              "Outlet_Identifier             object\n",
              "source                        object\n",
              "Item_Visibility_MeanRatio    float64\n",
              "Outlet_Years                   int64\n",
              "Item_Fat_Content_0             uint8\n",
              "Item_Fat_Content_1             uint8\n",
              "Item_Fat_Content_2             uint8\n",
              "Outlet_Location_Type_0         uint8\n",
              "Outlet_Location_Type_1         uint8\n",
              "Outlet_Location_Type_2         uint8\n",
              "Outlet_Size_0                  uint8\n",
              "Outlet_Size_1                  uint8\n",
              "Outlet_Size_2                  uint8\n",
              "Item_Type_New_0                uint8\n",
              "Item_Type_New_1                uint8\n",
              "Item_Type_New_2                uint8\n",
              "Outlet_Type_0                  uint8\n",
              "Outlet_Type_1                  uint8\n",
              "Outlet_Type_2                  uint8\n",
              "Outlet_Type_3                  uint8\n",
              "Outlet_0                       uint8\n",
              "Outlet_1                       uint8\n",
              "Outlet_2                       uint8\n",
              "Outlet_3                       uint8\n",
              "Outlet_4                       uint8\n",
              "Outlet_5                       uint8\n",
              "Outlet_6                       uint8\n",
              "Outlet_7                       uint8\n",
              "Outlet_8                       uint8\n",
              "Outlet_9                       uint8\n",
              "dtype: object"
            ]
          },
          "metadata": {
            "tags": []
          },
          "execution_count": 142
        }
      ]
    },
    {
      "metadata": {
        "id": "4hfwvVDrAGTx",
        "colab_type": "code",
        "colab": {
          "base_uri": "https://localhost:8080/",
          "height": 256
        },
        "outputId": "7069762b-abd3-4e55-db8f-868146d19d7b"
      },
      "cell_type": "code",
      "source": [
        "dataset.head()"
      ],
      "execution_count": 88,
      "outputs": [
        {
          "output_type": "execute_result",
          "data": {
            "text/html": [
              "<div>\n",
              "<style scoped>\n",
              "    .dataframe tbody tr th:only-of-type {\n",
              "        vertical-align: middle;\n",
              "    }\n",
              "\n",
              "    .dataframe tbody tr th {\n",
              "        vertical-align: top;\n",
              "    }\n",
              "\n",
              "    .dataframe thead th {\n",
              "        text-align: right;\n",
              "    }\n",
              "</style>\n",
              "<table border=\"1\" class=\"dataframe\">\n",
              "  <thead>\n",
              "    <tr style=\"text-align: right;\">\n",
              "      <th></th>\n",
              "      <th>Item_Identifier</th>\n",
              "      <th>Item_MRP</th>\n",
              "      <th>Item_Outlet_Sales</th>\n",
              "      <th>Item_Visibility</th>\n",
              "      <th>Item_Weight</th>\n",
              "      <th>Outlet_Identifier</th>\n",
              "      <th>Item_Visibility_MeanRatio</th>\n",
              "      <th>Outlet_Years</th>\n",
              "      <th>Item_Fat_Content_0</th>\n",
              "      <th>Item_Fat_Content_1</th>\n",
              "      <th>...</th>\n",
              "      <th>Outlet_0</th>\n",
              "      <th>Outlet_1</th>\n",
              "      <th>Outlet_2</th>\n",
              "      <th>Outlet_3</th>\n",
              "      <th>Outlet_4</th>\n",
              "      <th>Outlet_5</th>\n",
              "      <th>Outlet_6</th>\n",
              "      <th>Outlet_7</th>\n",
              "      <th>Outlet_8</th>\n",
              "      <th>Outlet_9</th>\n",
              "    </tr>\n",
              "  </thead>\n",
              "  <tbody>\n",
              "    <tr>\n",
              "      <th>0</th>\n",
              "      <td>FDA15</td>\n",
              "      <td>249.8092</td>\n",
              "      <td>3735.1380</td>\n",
              "      <td>0.016047</td>\n",
              "      <td>9.30</td>\n",
              "      <td>OUT049</td>\n",
              "      <td>0.931078</td>\n",
              "      <td>14</td>\n",
              "      <td>1</td>\n",
              "      <td>0</td>\n",
              "      <td>...</td>\n",
              "      <td>0</td>\n",
              "      <td>0</td>\n",
              "      <td>0</td>\n",
              "      <td>0</td>\n",
              "      <td>0</td>\n",
              "      <td>0</td>\n",
              "      <td>0</td>\n",
              "      <td>0</td>\n",
              "      <td>0</td>\n",
              "      <td>1</td>\n",
              "    </tr>\n",
              "    <tr>\n",
              "      <th>1</th>\n",
              "      <td>DRC01</td>\n",
              "      <td>48.2692</td>\n",
              "      <td>443.4228</td>\n",
              "      <td>0.019278</td>\n",
              "      <td>5.92</td>\n",
              "      <td>OUT018</td>\n",
              "      <td>0.933420</td>\n",
              "      <td>4</td>\n",
              "      <td>0</td>\n",
              "      <td>0</td>\n",
              "      <td>...</td>\n",
              "      <td>0</td>\n",
              "      <td>0</td>\n",
              "      <td>0</td>\n",
              "      <td>1</td>\n",
              "      <td>0</td>\n",
              "      <td>0</td>\n",
              "      <td>0</td>\n",
              "      <td>0</td>\n",
              "      <td>0</td>\n",
              "      <td>0</td>\n",
              "    </tr>\n",
              "    <tr>\n",
              "      <th>2</th>\n",
              "      <td>FDN15</td>\n",
              "      <td>141.6180</td>\n",
              "      <td>2097.2700</td>\n",
              "      <td>0.016760</td>\n",
              "      <td>17.50</td>\n",
              "      <td>OUT049</td>\n",
              "      <td>0.872790</td>\n",
              "      <td>14</td>\n",
              "      <td>1</td>\n",
              "      <td>0</td>\n",
              "      <td>...</td>\n",
              "      <td>0</td>\n",
              "      <td>0</td>\n",
              "      <td>0</td>\n",
              "      <td>0</td>\n",
              "      <td>0</td>\n",
              "      <td>0</td>\n",
              "      <td>0</td>\n",
              "      <td>0</td>\n",
              "      <td>0</td>\n",
              "      <td>1</td>\n",
              "    </tr>\n",
              "    <tr>\n",
              "      <th>3</th>\n",
              "      <td>FDX07</td>\n",
              "      <td>182.0950</td>\n",
              "      <td>732.3800</td>\n",
              "      <td>0.017834</td>\n",
              "      <td>19.20</td>\n",
              "      <td>OUT010</td>\n",
              "      <td>0.818182</td>\n",
              "      <td>15</td>\n",
              "      <td>0</td>\n",
              "      <td>0</td>\n",
              "      <td>...</td>\n",
              "      <td>1</td>\n",
              "      <td>0</td>\n",
              "      <td>0</td>\n",
              "      <td>0</td>\n",
              "      <td>0</td>\n",
              "      <td>0</td>\n",
              "      <td>0</td>\n",
              "      <td>0</td>\n",
              "      <td>0</td>\n",
              "      <td>0</td>\n",
              "    </tr>\n",
              "    <tr>\n",
              "      <th>4</th>\n",
              "      <td>NCD19</td>\n",
              "      <td>53.8614</td>\n",
              "      <td>994.7052</td>\n",
              "      <td>0.009780</td>\n",
              "      <td>8.93</td>\n",
              "      <td>OUT013</td>\n",
              "      <td>0.750000</td>\n",
              "      <td>26</td>\n",
              "      <td>0</td>\n",
              "      <td>1</td>\n",
              "      <td>...</td>\n",
              "      <td>0</td>\n",
              "      <td>1</td>\n",
              "      <td>0</td>\n",
              "      <td>0</td>\n",
              "      <td>0</td>\n",
              "      <td>0</td>\n",
              "      <td>0</td>\n",
              "      <td>0</td>\n",
              "      <td>0</td>\n",
              "      <td>0</td>\n",
              "    </tr>\n",
              "  </tbody>\n",
              "</table>\n",
              "<p>5 rows × 34 columns</p>\n",
              "</div>"
            ],
            "text/plain": [
              "  Item_Identifier  Item_MRP  Item_Outlet_Sales  Item_Visibility  Item_Weight  \\\n",
              "0           FDA15  249.8092          3735.1380         0.016047         9.30   \n",
              "1           DRC01   48.2692           443.4228         0.019278         5.92   \n",
              "2           FDN15  141.6180          2097.2700         0.016760        17.50   \n",
              "3           FDX07  182.0950           732.3800         0.017834        19.20   \n",
              "4           NCD19   53.8614           994.7052         0.009780         8.93   \n",
              "\n",
              "  Outlet_Identifier  Item_Visibility_MeanRatio  Outlet_Years  \\\n",
              "0            OUT049                   0.931078            14   \n",
              "1            OUT018                   0.933420             4   \n",
              "2            OUT049                   0.872790            14   \n",
              "3            OUT010                   0.818182            15   \n",
              "4            OUT013                   0.750000            26   \n",
              "\n",
              "   Item_Fat_Content_0  Item_Fat_Content_1    ...     Outlet_0  Outlet_1  \\\n",
              "0                   1                   0    ...            0         0   \n",
              "1                   0                   0    ...            0         0   \n",
              "2                   1                   0    ...            0         0   \n",
              "3                   0                   0    ...            1         0   \n",
              "4                   0                   1    ...            0         1   \n",
              "\n",
              "   Outlet_2  Outlet_3  Outlet_4  Outlet_5  Outlet_6  Outlet_7  Outlet_8  \\\n",
              "0         0         0         0         0         0         0         0   \n",
              "1         0         1         0         0         0         0         0   \n",
              "2         0         0         0         0         0         0         0   \n",
              "3         0         0         0         0         0         0         0   \n",
              "4         0         0         0         0         0         0         0   \n",
              "\n",
              "   Outlet_9  \n",
              "0         1  \n",
              "1         0  \n",
              "2         1  \n",
              "3         0  \n",
              "4         0  \n",
              "\n",
              "[5 rows x 34 columns]"
            ]
          },
          "metadata": {
            "tags": []
          },
          "execution_count": 88
        }
      ]
    },
    {
      "metadata": {
        "id": "AQjG4mi3VtyJ",
        "colab_type": "code",
        "colab": {}
      },
      "cell_type": "code",
      "source": [
        "test = dataset.loc[dataset['source'] == 'test']"
      ],
      "execution_count": 0,
      "outputs": []
    },
    {
      "metadata": {
        "id": "4RbRl7OFWP7r",
        "colab_type": "code",
        "colab": {
          "base_uri": "https://localhost:8080/",
          "height": 712
        },
        "outputId": "ea7864ad-c62b-4fa3-8b20-4f0927a13165"
      },
      "cell_type": "code",
      "source": [
        "test.info()"
      ],
      "execution_count": 146,
      "outputs": [
        {
          "output_type": "stream",
          "text": [
            "<class 'pandas.core.frame.DataFrame'>\n",
            "Int64Index: 5681 entries, 8523 to 14203\n",
            "Data columns (total 35 columns):\n",
            "Item_Identifier              5681 non-null object\n",
            "Item_MRP                     5681 non-null float64\n",
            "Item_Outlet_Sales            0 non-null float64\n",
            "Item_Visibility              5681 non-null float64\n",
            "Item_Weight                  5681 non-null float64\n",
            "Outlet_Identifier            5681 non-null object\n",
            "source                       5681 non-null object\n",
            "Item_Visibility_MeanRatio    5681 non-null float64\n",
            "Outlet_Years                 5681 non-null int64\n",
            "Item_Fat_Content_0           5681 non-null uint8\n",
            "Item_Fat_Content_1           5681 non-null uint8\n",
            "Item_Fat_Content_2           5681 non-null uint8\n",
            "Outlet_Location_Type_0       5681 non-null uint8\n",
            "Outlet_Location_Type_1       5681 non-null uint8\n",
            "Outlet_Location_Type_2       5681 non-null uint8\n",
            "Outlet_Size_0                5681 non-null uint8\n",
            "Outlet_Size_1                5681 non-null uint8\n",
            "Outlet_Size_2                5681 non-null uint8\n",
            "Item_Type_New_0              5681 non-null uint8\n",
            "Item_Type_New_1              5681 non-null uint8\n",
            "Item_Type_New_2              5681 non-null uint8\n",
            "Outlet_Type_0                5681 non-null uint8\n",
            "Outlet_Type_1                5681 non-null uint8\n",
            "Outlet_Type_2                5681 non-null uint8\n",
            "Outlet_Type_3                5681 non-null uint8\n",
            "Outlet_0                     5681 non-null uint8\n",
            "Outlet_1                     5681 non-null uint8\n",
            "Outlet_2                     5681 non-null uint8\n",
            "Outlet_3                     5681 non-null uint8\n",
            "Outlet_4                     5681 non-null uint8\n",
            "Outlet_5                     5681 non-null uint8\n",
            "Outlet_6                     5681 non-null uint8\n",
            "Outlet_7                     5681 non-null uint8\n",
            "Outlet_8                     5681 non-null uint8\n",
            "Outlet_9                     5681 non-null uint8\n",
            "dtypes: float64(5), int64(1), object(3), uint8(26)\n",
            "memory usage: 588.1+ KB\n"
          ],
          "name": "stdout"
        }
      ]
    },
    {
      "metadata": {
        "id": "UDaLpRT_XF3f",
        "colab_type": "code",
        "colab": {}
      },
      "cell_type": "code",
      "source": [
        "train = dataset.loc[dataset['source'] == 'train']"
      ],
      "execution_count": 0,
      "outputs": []
    },
    {
      "metadata": {
        "id": "Vdw6Q0TsdHol",
        "colab_type": "code",
        "colab": {}
      },
      "cell_type": "code",
      "source": [
        "train.drop(['source'],axis = 1, inplace = True)\n",
        "test.drop(['source','Item_Outlet_Sales'],axis = 1, inplace = True)"
      ],
      "execution_count": 0,
      "outputs": []
    },
    {
      "metadata": {
        "id": "kfafUMZad5pk",
        "colab_type": "code",
        "colab": {}
      },
      "cell_type": "code",
      "source": [
        "mean_sales = train['Item_Outlet_Sales'].mean()"
      ],
      "execution_count": 0,
      "outputs": []
    },
    {
      "metadata": {
        "id": "7r3wXQT7exNq",
        "colab_type": "text"
      },
      "cell_type": "markdown",
      "source": [
        "##Linear Regression"
      ]
    },
    {
      "metadata": {
        "id": "neNUtMYKesXY",
        "colab_type": "code",
        "colab": {}
      },
      "cell_type": "code",
      "source": [
        "from sklearn.linear_model import LinearRegression"
      ],
      "execution_count": 0,
      "outputs": []
    },
    {
      "metadata": {
        "id": "uI3m2DlXe184",
        "colab_type": "code",
        "colab": {}
      },
      "cell_type": "code",
      "source": [
        "lr = LinearRegression(normalize=True)"
      ],
      "execution_count": 0,
      "outputs": []
    },
    {
      "metadata": {
        "id": "n7Ogp46Se77B",
        "colab_type": "code",
        "colab": {}
      },
      "cell_type": "code",
      "source": [
        "X_train = train.drop(['Item_Outlet_Sales','Item_Identifier','Outlet_Identifier'],axis=1)\n",
        "Y_train = train['Item_Outlet_Sales']\n",
        "X_test = test.drop(['Item_Identifier','Outlet_Identifier'],axis=1).copy()"
      ],
      "execution_count": 0,
      "outputs": []
    },
    {
      "metadata": {
        "id": "uh1oKHD0fEkB",
        "colab_type": "code",
        "colab": {
          "base_uri": "https://localhost:8080/",
          "height": 34
        },
        "outputId": "db435de4-37e3-45a2-bfb1-0ed2d6fff6bd"
      },
      "cell_type": "code",
      "source": [
        "lr.fit(X_train, Y_train)"
      ],
      "execution_count": 156,
      "outputs": [
        {
          "output_type": "execute_result",
          "data": {
            "text/plain": [
              "LinearRegression(copy_X=True, fit_intercept=True, n_jobs=None, normalize=True)"
            ]
          },
          "metadata": {
            "tags": []
          },
          "execution_count": 156
        }
      ]
    },
    {
      "metadata": {
        "id": "VmyvXsgRfH87",
        "colab_type": "code",
        "colab": {}
      },
      "cell_type": "code",
      "source": [
        "lr_pred = lr.predict(X_test)"
      ],
      "execution_count": 0,
      "outputs": []
    },
    {
      "metadata": {
        "id": "KK5fa7ihfLqm",
        "colab_type": "code",
        "colab": {
          "base_uri": "https://localhost:8080/",
          "height": 34
        },
        "outputId": "c59ca074-c434-47fb-894a-3f5a9ebdcd52"
      },
      "cell_type": "code",
      "source": [
        "lr_accuracy = round(lr.score(X_train,Y_train) * 100,2)\n",
        "lr_accuracy"
      ],
      "execution_count": 158,
      "outputs": [
        {
          "output_type": "execute_result",
          "data": {
            "text/plain": [
              "56.35"
            ]
          },
          "metadata": {
            "tags": []
          },
          "execution_count": 158
        }
      ]
    },
    {
      "metadata": {
        "id": "jco56gOhfaWu",
        "colab_type": "text"
      },
      "cell_type": "markdown",
      "source": [
        "##Decision Tree"
      ]
    },
    {
      "metadata": {
        "id": "wDUAhuITfObB",
        "colab_type": "code",
        "colab": {}
      },
      "cell_type": "code",
      "source": [
        "from sklearn.tree import DecisionTreeRegressor"
      ],
      "execution_count": 0,
      "outputs": []
    },
    {
      "metadata": {
        "id": "rS-2xa2lfd1S",
        "colab_type": "code",
        "colab": {}
      },
      "cell_type": "code",
      "source": [
        "tree = DecisionTreeRegressor(max_depth=15,min_samples_leaf=100)"
      ],
      "execution_count": 0,
      "outputs": []
    },
    {
      "metadata": {
        "id": "VAL6lLiBfgG4",
        "colab_type": "code",
        "colab": {
          "base_uri": "https://localhost:8080/",
          "height": 104
        },
        "outputId": "dde5dad9-2fb1-4ee1-c516-265493594597"
      },
      "cell_type": "code",
      "source": [
        "tree.fit(X_train,Y_train)"
      ],
      "execution_count": 162,
      "outputs": [
        {
          "output_type": "execute_result",
          "data": {
            "text/plain": [
              "DecisionTreeRegressor(criterion='mse', max_depth=15, max_features=None,\n",
              "           max_leaf_nodes=None, min_impurity_decrease=0.0,\n",
              "           min_impurity_split=None, min_samples_leaf=100,\n",
              "           min_samples_split=2, min_weight_fraction_leaf=0.0,\n",
              "           presort=False, random_state=None, splitter='best')"
            ]
          },
          "metadata": {
            "tags": []
          },
          "execution_count": 162
        }
      ]
    },
    {
      "metadata": {
        "id": "Ef1edqXjflAa",
        "colab_type": "code",
        "colab": {}
      },
      "cell_type": "code",
      "source": [
        "tree_pred = tree.predict(X_test)"
      ],
      "execution_count": 0,
      "outputs": []
    },
    {
      "metadata": {
        "id": "mysaOdfbfn0Y",
        "colab_type": "code",
        "colab": {
          "base_uri": "https://localhost:8080/",
          "height": 34
        },
        "outputId": "99db4084-b52a-4968-8516-3179eb240e60"
      },
      "cell_type": "code",
      "source": [
        "tree_accuracy = round(tree.score(X_train,Y_train),2)\n",
        "tree_accuracy"
      ],
      "execution_count": 164,
      "outputs": [
        {
          "output_type": "execute_result",
          "data": {
            "text/plain": [
              "0.62"
            ]
          },
          "metadata": {
            "tags": []
          },
          "execution_count": 164
        }
      ]
    },
    {
      "metadata": {
        "id": "WJzZO7LefqHS",
        "colab_type": "code",
        "colab": {}
      },
      "cell_type": "code",
      "source": [
        ""
      ],
      "execution_count": 0,
      "outputs": []
    }
  ]
}
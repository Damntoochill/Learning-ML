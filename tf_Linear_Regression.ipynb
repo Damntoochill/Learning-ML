{
  "nbformat": 4,
  "nbformat_minor": 0,
  "metadata": {
    "colab": {
      "name": "tf.Linear_Regression.ipynb",
      "version": "0.3.2",
      "provenance": [],
      "include_colab_link": true
    },
    "kernelspec": {
      "name": "python3",
      "display_name": "Python 3"
    }
  },
  "cells": [
    {
      "cell_type": "markdown",
      "metadata": {
        "id": "view-in-github",
        "colab_type": "text"
      },
      "source": [
        "<a href=\"https://colab.research.google.com/github/Damntoochill/Learning-ML/blob/master/tf_Linear_Regression.ipynb\" target=\"_parent\"><img src=\"https://colab.research.google.com/assets/colab-badge.svg\" alt=\"Open In Colab\"/></a>"
      ]
    },
    {
      "metadata": {
        "id": "Msmz7ui4eMGg",
        "colab_type": "code",
        "colab": {}
      },
      "cell_type": "code",
      "source": [
        "import numpy as np\n",
        "import matplotlib.pyplot as plt"
      ],
      "execution_count": 0,
      "outputs": []
    },
    {
      "metadata": {
        "id": "Z0gJbL0ReSzb",
        "colab_type": "code",
        "colab": {}
      },
      "cell_type": "code",
      "source": [
        "x = np.random.randn(2000,3)\n",
        "w = [0.3,0.5,0.1]\n",
        "b = -0.2\n",
        "\n",
        "noise = np.random.randn(1,2000)*0.1\n",
        "y = np.matmul(w,x.T) + b + noise"
      ],
      "execution_count": 0,
      "outputs": []
    },
    {
      "metadata": {
        "id": "k0nrOgaCfUz_",
        "colab_type": "code",
        "colab": {
          "base_uri": "https://localhost:8080/",
          "height": 54
        },
        "outputId": "932bb73a-0d89-435a-d6f1-578039e57632"
      },
      "cell_type": "code",
      "source": [
        "print(y)"
      ],
      "execution_count": 4,
      "outputs": [
        {
          "output_type": "stream",
          "text": [
            "[[ 0.26540562 -0.95220147 -0.88350834 ...  0.38039824 -0.78624699\n",
            "  -0.9807668 ]]\n"
          ],
          "name": "stdout"
        }
      ]
    },
    {
      "metadata": {
        "id": "umG6Sf7vgCQq",
        "colab_type": "code",
        "colab": {
          "base_uri": "https://localhost:8080/",
          "height": 35
        },
        "outputId": "0603f99b-7a86-4483-dddf-bf68e7447dab"
      },
      "cell_type": "code",
      "source": [
        "a = np.array([1,2,3])\n",
        "a.shape"
      ],
      "execution_count": 6,
      "outputs": [
        {
          "output_type": "execute_result",
          "data": {
            "text/plain": [
              "(3,)"
            ]
          },
          "metadata": {
            "tags": []
          },
          "execution_count": 6
        }
      ]
    },
    {
      "metadata": {
        "id": "YZ7Nz7wve3He",
        "colab_type": "code",
        "colab": {
          "base_uri": "https://localhost:8080/",
          "height": 347
        },
        "outputId": "3ead2a72-6411-4bf8-a37e-bb2e61fdbb33"
      },
      "cell_type": "code",
      "source": [
        "plt.scatter(y.reshape(2000,1),np.matmul(w,x.T))\n",
        "plt.show()"
      ],
      "execution_count": 9,
      "outputs": [
        {
          "output_type": "display_data",
          "data": {
            "image/png": "[encoded data removed]",
            "text/plain": [
              "<Figure size 576x396 with 1 Axes>"
            ]
          },
          "metadata": {
            "tags": []
          }
        }
      ]
    },
    {
      "metadata": {
        "id": "ga5smTrje8CF",
        "colab_type": "code",
        "colab": {
          "base_uri": "https://localhost:8080/",
          "height": 202
        },
        "outputId": "9ef48024-e7b6-4158-f3e6-78780e1ac971"
      },
      "cell_type": "code",
      "source": [
        "import tensorflow as tf\n",
        "\n",
        "ITERATIONS = 10\n",
        "wb_ = []\n",
        "\n",
        "g = tf.Graph()\n",
        "\n",
        "#creating a graph\n",
        "with g.as_default():\n",
        "  x_node = tf.placeholder(tf.float32,shape = [None,3])\n",
        "  y_node = tf.placeholder(tf.float32,shape = None)\n",
        "  \n",
        "  with tf.name_scope('inference') as scope:\n",
        "    w_node = tf.Variable([[0,0,0]], dtype = tf.float32, name = 'weights')\n",
        "    b_node = tf.Variable(0,dtype = tf.float32,name = 'bias')\n",
        "    y_pred = tf.matmul(w_node,tf.transpose(x_node)) + b_node\n",
        "    \n",
        "  with tf.name_scope('loss') as scope:\n",
        "    loss = tf.reduce_mean(tf.square(y_node - y_pred))\n",
        "    \n",
        "  with tf.name_scope('train') as scope:\n",
        "    learning_rate = 0.3\n",
        "    optimizer = tf.train.GradientDescentOptimizer(learning_rate)\n",
        "    train = optimizer.minimize(loss)\n",
        "    \n",
        "  #initializing the variables\n",
        "  init = tf.global_variables_initializer()\n",
        "  with tf.Session() as sess:\n",
        "    sess.run(init)\n",
        "    for step in range(ITERATIONS):\n",
        "      sess.run(train,{x_node : x, y_node: y})\n",
        "      if(step % 5 == 0):\n",
        "        print(step,sess.run([w_node,b_node]))\n",
        "        wb_.append(sess.run([w_node,b_node]))\n",
        "      \n",
        "    print(10,sess.run([w_node,b_node]))\n",
        "      \n",
        "  \n",
        "  "
      ],
      "execution_count": 16,
      "outputs": [
        {
          "output_type": "stream",
          "text": [
            "WARNING:tensorflow:From /usr/local/lib/python3.6/dist-packages/tensorflow/python/framework/op_def_library.py:263: colocate_with (from tensorflow.python.framework.ops) is deprecated and will be removed in a future version.\n",
            "Instructions for updating:\n",
            "Colocations handled automatically by placer.\n",
            "WARNING:tensorflow:From /usr/local/lib/python3.6/dist-packages/tensorflow/python/ops/math_ops.py:3066: to_int32 (from tensorflow.python.ops.math_ops) is deprecated and will be removed in a future version.\n",
            "Instructions for updating:\n",
            "Use tf.cast instead.\n",
            "0 [array([[0.18352182, 0.2983305 , 0.06029793]], dtype=float32), -0.122576974]\n",
            "5 [array([[0.30093318, 0.4986942 , 0.09907946]], dtype=float32), -0.19784766]\n",
            "10 [array([[0.301987  , 0.50084764, 0.09943762]], dtype=float32), -0.19843915]\n"
          ],
          "name": "stdout"
        }
      ]
    },
    {
      "metadata": {
        "id": "TNEt-KG-lQKi",
        "colab_type": "code",
        "colab": {}
      },
      "cell_type": "code",
      "source": [
        ""
      ],
      "execution_count": 0,
      "outputs": []
    }
  ]
}